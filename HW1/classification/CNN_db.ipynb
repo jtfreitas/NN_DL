{
  "cells": [
    {
      "cell_type": "code",
      "execution_count": 1,
      "metadata": {
        "id": "qBrE4RgEyh9Y"
      },
      "outputs": [],
      "source": [
        "%load_ext autoreload\n",
        "%autoreload 2"
      ]
    },
    {
      "cell_type": "code",
      "source": [
        "!wget -O nn_Tools.py https://raw.githubusercontent.com/jtfreitas/NN_DL/main/HW1/classification/nn_Tools.py"
      ],
      "metadata": {
        "colab": {
          "base_uri": "https://localhost:8080/"
        },
        "id": "6lnbcfaPeFOq",
        "outputId": "1e9d3809-dbef-4503-b851-4a282c33767b"
      },
      "execution_count": 2,
      "outputs": [
        {
          "output_type": "stream",
          "name": "stdout",
          "text": [
            "--2022-07-05 10:17:17--  https://raw.githubusercontent.com/jtfreitas/NN_DL/main/HW1/classification/nn_Tools.py\n",
            "Resolving raw.githubusercontent.com (raw.githubusercontent.com)... 185.199.108.133, 185.199.109.133, 185.199.110.133, ...\n",
            "Connecting to raw.githubusercontent.com (raw.githubusercontent.com)|185.199.108.133|:443... connected.\n",
            "HTTP request sent, awaiting response... 200 OK\n",
            "Length: 11946 (12K) [text/plain]\n",
            "Saving to: ‘nn_Tools.py’\n",
            "\n",
            "\rnn_Tools.py           0%[                    ]       0  --.-KB/s               \rnn_Tools.py         100%[===================>]  11.67K  --.-KB/s    in 0s      \n",
            "\n",
            "2022-07-05 10:17:17 (54.2 MB/s) - ‘nn_Tools.py’ saved [11946/11946]\n",
            "\n"
          ]
        }
      ]
    },
    {
      "cell_type": "code",
      "source": [
        "!pip install -q optuna\n",
        "!pip install -q -U kaleido\n",
        "!pip install -q imgaug==0.2.6\n",
        "!pip install -q --upgrade matplotlib"
      ],
      "metadata": {
        "colab": {
          "base_uri": "https://localhost:8080/"
        },
        "id": "d1xsTFTmaTQm",
        "outputId": "27b94b36-1314-4084-ff0e-cb3541e5ff05"
      },
      "execution_count": 3,
      "outputs": [
        {
          "output_type": "stream",
          "name": "stdout",
          "text": [
            "\u001b[K     |████████████████████████████████| 308 kB 7.1 MB/s \n",
            "\u001b[K     |████████████████████████████████| 81 kB 6.3 MB/s \n",
            "\u001b[K     |████████████████████████████████| 209 kB 100.7 MB/s \n",
            "\u001b[K     |████████████████████████████████| 78 kB 8.9 MB/s \n",
            "\u001b[K     |████████████████████████████████| 49 kB 6.5 MB/s \n",
            "\u001b[K     |████████████████████████████████| 112 kB 55.7 MB/s \n",
            "\u001b[K     |████████████████████████████████| 146 kB 71.8 MB/s \n",
            "\u001b[?25h  Building wheel for pyperclip (setup.py) ... \u001b[?25l\u001b[?25hdone\n",
            "\u001b[K     |████████████████████████████████| 79.9 MB 1.8 MB/s \n",
            "\u001b[K     |████████████████████████████████| 631 kB 7.4 MB/s \n",
            "\u001b[?25h  Building wheel for imgaug (setup.py) ... \u001b[?25l\u001b[?25hdone\n",
            "\u001b[K     |████████████████████████████████| 11.2 MB 8.2 MB/s \n",
            "\u001b[K     |████████████████████████████████| 930 kB 86.4 MB/s \n",
            "\u001b[?25h"
          ]
        }
      ]
    },
    {
      "cell_type": "code",
      "execution_count": 1,
      "metadata": {
        "id": "56FLve22yh9c"
      },
      "outputs": [],
      "source": [
        "import matplotlib.pyplot as plt\n",
        "from plotly import express as px, graph_objects as go\n",
        "from plotly.subplots import make_subplots\n",
        "import os\n",
        "import plotly.io as pio\n",
        "import nn_Tools as nt\n",
        "\n",
        "import torch\n",
        "from torch import nn, optim\n",
        "from torch.utils.data import DataLoader, random_split, Subset\n",
        "from torchvision import transforms, datasets\n",
        "\n",
        "from sklearn.model_selection import RandomizedSearchCV\n",
        "\n",
        "from math import ceil\n",
        "from scipy.stats import randint\n",
        "import numpy as np\n",
        "import pandas as pd\n",
        "pd.options.plotting.backend = \"plotly\"\n",
        "import gc\n",
        "import optuna\n",
        "\n",
        "pio.kaleido.scope.mathjax = None\n",
        "seed = 69420\n",
        "torch.manual_seed(seed)\n",
        "np.random.seed(seed)\n",
        "device = torch.device(\"cuda\") if torch.cuda.is_available() else torch.device(\"cpu\")"
      ]
    },
    {
      "cell_type": "code",
      "execution_count": 2,
      "metadata": {
        "colab": {
          "base_uri": "https://localhost:8080/",
          "height": 352
        },
        "id": "AXVg6EGhyh9d",
        "outputId": "e92a29f0-1bf7-4b07-f9f4-8095e340772b"
      },
      "outputs": [
        {
          "output_type": "display_data",
          "data": {
            "text/html": [
              "<html>\n",
              "<head><meta charset=\"utf-8\" /></head>\n",
              "<body>\n",
              "    <div>            <script src=\"https://cdnjs.cloudflare.com/ajax/libs/mathjax/2.7.5/MathJax.js?config=TeX-AMS-MML_SVG\"></script><script type=\"text/javascript\">if (window.MathJax) {MathJax.Hub.Config({SVG: {font: \"STIX-Web\"}});}</script>                <script type=\"text/javascript\">window.PlotlyConfig = {MathJaxConfig: 'local'};</script>\n",
              "        <script src=\"https://cdn.plot.ly/plotly-2.8.3.min.js\"></script>                <div id=\"220737ed-c91d-4329-8c6b-56208ce7a762\" class=\"plotly-graph-div\" style=\"height:300px; width:300px;\"></div>            <script type=\"text/javascript\">                                    window.PLOTLYENV=window.PLOTLYENV || {};                                    if (document.getElementById(\"220737ed-c91d-4329-8c6b-56208ce7a762\")) {                    Plotly.newPlot(                        \"220737ed-c91d-4329-8c6b-56208ce7a762\",                        [{\"coloraxis\":\"coloraxis\",\"name\":\"0\",\"z\":[[0.0,0.0,0.0,0.0,0.0,0.0,0.0,0.0,0.0,0.0,0.0,0.16078431904315948,0.4470588266849518,0.5568627715110779,0.5215686559677124,0.27843138575553894,0.0,0.0,0.0,0.0,0.0,0.0,0.0,0.0,0.0,0.0,0.0,0.0],[0.0,0.0,0.0,0.0,0.0,0.0,0.0,0.0117647061124444,0.0,0.01568627543747425,0.9098039269447327,0.9137254953384399,0.9176470637321472,0.9176470637321472,0.929411768913269,0.9372549057006836,0.843137264251709,0.19607843458652496,0.0,0.0,0.0,0.0,0.0,0.0,0.0,0.0,0.0,0.0],[0.0,0.0,0.0,0.0,0.0,0.0,0.0,0.01568627543747425,0.0,0.364705890417099,0.9647058844566345,0.8627451062202454,0.8745098114013672,0.8941176533699036,0.8784313797950745,0.8666666746139526,0.9450980424880981,0.8470588326454163,0.0,0.0,0.0,0.0,0.0,0.0,0.0,0.0,0.0,0.0],[0.0,0.0,0.0,0.0,0.0,0.0,0.0,0.01568627543747425,0.0,0.2862745225429535,0.9137254953384399,0.8784313797950745,0.9215686321258545,0.8352941274642944,0.8549019694328308,0.8745098114013672,0.8823529481887817,0.8509804010391235,0.0,0.0,0.007843137718737125,0.0,0.0,0.0,0.0,0.0,0.0,0.0],[0.0,0.0,0.0,0.0,0.0,0.0,0.0,0.0,0.0,0.49803921580314636,0.9333333373069763,0.5607843399047852,0.9254902005195618,0.7803921699523926,0.8705882430076599,0.9411764740943909,0.5215686559677124,0.9176470637321472,0.42352941632270813,0.0,0.0,0.007843137718737125,0.0,0.0,0.0,0.0,0.0,0.0],[0.0,0.0,0.0,0.0,0.0,0.01568627543747425,0.0,0.12156862765550613,0.9490196108818054,0.8941176533699036,0.8901960849761963,0.5215686559677124,0.7333333492279053,0.8117647171020508,0.9176470637321472,0.5137255191802979,0.4901960790157318,0.9019607901573181,0.9019607901573181,0.7568627595901489,0.10980392247438431,0.0,0.01568627543747425,0.0,0.0,0.0,0.0,0.0],[0.0,0.0,0.0,0.0,0.0,0.01568627543747425,0.0,0.2862745225429535,0.9098039269447327,0.8392156958580017,0.8549019694328308,0.9176470637321472,0.9254902005195618,0.729411780834198,0.6823529601097107,0.9098039269447327,0.9529411792755127,0.8666666746139526,0.8470588326454163,0.9019607901573181,0.1764705926179886,0.0,0.0117647061124444,0.0,0.0,0.0,0.0,0.0],[0.0,0.0,0.0,0.0,0.0,0.0,0.0,0.0,0.7411764860153198,0.8941176533699036,0.8470588326454163,0.8549019694328308,0.8941176533699036,0.8705882430076599,0.8784313797950745,0.8941176533699036,0.8470588326454163,0.8509804010391235,0.9019607901573181,0.6745098233222961,0.0,0.0,0.0,0.0,0.0,0.0,0.0,0.0],[0.0,0.0,0.0,0.0,0.0,0.0,0.08627451211214066,0.0,0.529411792755127,0.9411764740943909,0.8352941274642944,0.8549019694328308,0.8509804010391235,0.8745098114013672,0.8784313797950745,0.8509804010391235,0.8745098114013672,0.8627451062202454,0.9176470637321472,0.5647059082984924,0.0,0.04313725605607033,0.0,0.003921568859368563,0.0,0.0,0.0,0.0],[0.0,0.0,0.0,0.0,0.0,0.0,0.13333334028720856,0.003921568859368563,0.0,0.9490196108818054,0.8549019694328308,0.8549019694328308,0.8705882430076599,0.8156862854957581,0.8156862854957581,0.9098039269447327,0.886274516582489,0.7882353067398071,1.0,0.0784313753247261,0.0,0.05098039284348488,0.0,0.003921568859368563,0.0,0.0,0.0,0.0],[0.0,0.0,0.0,0.0,0.0,0.0,0.12941177189350128,0.0,0.11764705926179886,1.0,0.8588235378265381,0.8313725590705872,0.8980392217636108,0.7058823704719543,0.6784313917160034,0.9960784316062927,0.43921568989753723,0.1764705926179886,0.8980392217636108,0.20392157137393951,0.0,0.0470588244497776,0.0,0.0,0.0,0.0,0.0,0.0],[0.0,0.0,0.0,0.0,0.0,0.0,0.13725490868091583,0.0,0.11372549086809158,0.8666666746139526,0.8588235378265381,0.8470588326454163,0.8470588326454163,0.8980392217636108,0.886274516582489,0.9372549057006836,0.5803921818733215,0.250980406999588,1.0,0.5215686559677124,0.0,0.08235294371843338,0.0,0.0,0.0,0.0,0.0,0.0],[0.0,0.0,0.0,0.0,0.0,0.0,0.12156862765550613,0.0,0.22745098173618317,0.7882353067398071,0.8666666746139526,0.8588235378265381,0.8588235378265381,0.8509804010391235,0.8549019694328308,0.8627451062202454,0.9490196108818054,0.8509804010391235,0.886274516582489,0.2235294133424759,0.0,0.09019608050584793,0.0,0.0,0.0,0.0,0.0,0.0],[0.0,0.0,0.0,0.0,0.0,0.0,0.10588235408067703,0.0,0.40784314274787903,0.8784313797950745,0.8588235378265381,0.8549019694328308,0.8705882430076599,0.8352941274642944,0.8509804010391235,0.8549019694328308,0.8392156958580017,0.8941176533699036,0.729411780834198,0.33725491166114807,0.0,0.0941176488995552,0.01568627543747425,0.0,0.0,0.0,0.0,0.0],[0.0,0.0,0.0,0.0,0.0,0.01568627543747425,0.11764705926179886,0.0,0.5568627715110779,0.8196078538894653,0.8627451062202454,0.8470588326454163,0.9058823585510254,0.6705882549285889,0.7254902124404907,0.8980392217636108,0.8274509906768799,0.8980392217636108,0.7450980544090271,0.16862745583057404,0.0,0.0941176488995552,0.019607843831181526,0.0,0.0,0.0,0.0,0.0],[0.0,0.0,0.0,0.0,0.0,0.03529411926865578,0.0784313753247261,0.0,0.6666666865348816,0.8784313797950745,0.8627451062202454,0.8588235378265381,0.8627451062202454,0.886274516582489,0.8823529481887817,0.8705882430076599,0.843137264251709,0.8549019694328308,0.8823529481887817,0.24313725531101227,0.0,0.09803921729326248,0.05098039284348488,0.0,0.0,0.0,0.0,0.0],[0.0,0.0,0.0,0.0,0.0,0.05882352963089943,0.0313725508749485,0.0,0.8392156958580017,0.9019607901573181,0.8588235378265381,0.8666666746139526,0.8627451062202454,0.8509804010391235,0.8509804010391235,0.8588235378265381,0.8627451062202454,0.8352941274642944,0.9215686321258545,0.4627451002597809,0.0,0.09803921729326248,0.06666667014360428,0.0,0.0,0.0,0.0,0.0],[0.0,0.0,0.0,0.0,0.0,0.07058823853731155,0.027450980618596077,0.0,0.9725490212440491,0.886274516582489,0.8588235378265381,0.8627451062202454,0.8666666746139526,0.8627451062202454,0.8745098114013672,0.8549019694328308,0.8666666746139526,0.8392156958580017,0.9058823585510254,0.615686297416687,0.0,0.0941176488995552,0.07058823853731155,0.0,0.0,0.0,0.0,0.0],[0.0,0.0,0.0,0.0,0.0,0.0784313753247261,0.0,0.06666667014360428,0.886274516582489,0.8588235378265381,0.8627451062202454,0.8549019694328308,0.9137254953384399,0.6784313917160034,0.7254902124404907,0.8980392217636108,0.8392156958580017,0.8588235378265381,0.8235294222831726,0.4901960790157318,0.0,0.07058823853731155,0.09019608050584793,0.0,0.0,0.0,0.0,0.0],[0.0,0.0,0.0,0.0,0.0,0.09803921729326248,0.0,0.07450980693101883,0.7529411911964417,0.8705882430076599,0.8705882430076599,0.8666666746139526,0.8705882430076599,0.8901960849761963,0.8941176533699036,0.8588235378265381,0.843137264251709,0.8705882430076599,0.8117647171020508,0.45098039507865906,0.07058823853731155,0.0235294122248888,0.10980392247438431,0.0,0.0,0.0,0.0,0.0],[0.0,0.0,0.0,0.0,0.0,0.10980392247438431,0.0,0.1568627506494522,0.7960784435272217,0.8823529481887817,0.8588235378265381,0.8666666746139526,0.8666666746139526,0.8588235378265381,0.8588235378265381,0.8745098114013672,0.8588235378265381,0.8549019694328308,0.8509804010391235,0.5176470875740051,0.1725490242242813,0.0,0.13333334028720856,0.003921568859368563,0.0,0.0,0.0,0.0],[0.0,0.0,0.0,0.0,0.0,0.1411764770746231,0.0,0.2078431397676468,0.7764706015586853,0.886274516582489,0.8588235378265381,0.8666666746139526,0.8666666746139526,0.886274516582489,0.8823529481887817,0.8705882430076599,0.8588235378265381,0.8352941274642944,0.8705882430076599,0.5411764979362488,0.40784314274787903,0.0,0.13725490868091583,0.0117647061124444,0.0,0.0,0.0,0.0],[0.0,0.0,0.0,0.0,0.0,0.12156862765550613,0.0,0.2235294133424759,0.6274510025978088,0.9019607901573181,0.843137264251709,0.8549019694328308,0.9254902005195618,0.7058823704719543,0.7058823704719543,0.9137254953384399,0.8509804010391235,0.8352941274642944,0.8941176533699036,0.4901960790157318,0.38823530077934265,0.0,0.13333334028720856,0.027450980618596077,0.0,0.0,0.0,0.0],[0.0,0.0,0.0,0.0,0.0,0.10588235408067703,0.0,0.32156863808631897,0.7372549176216125,0.8823529481887817,0.8705882430076599,0.8823529481887817,0.8823529481887817,0.8784313797950745,0.8901960849761963,0.8705882430076599,0.8627451062202454,0.843137264251709,0.8901960849761963,0.6470588445663452,0.3490196168422699,0.007843137718737125,0.13333334028720856,0.06666667014360428,0.0,0.0,0.0,0.0],[0.0,0.0,0.0,0.0,0.0,0.14901961386203766,0.0,0.29411765933036804,0.9019607901573181,0.843137264251709,0.8588235378265381,0.8666666746139526,0.8666666746139526,0.8627451062202454,0.8627451062202454,0.8509804010391235,0.8549019694328308,0.8509804010391235,0.8352941274642944,0.9058823585510254,0.5254902243614197,0.0,0.14901961386203766,0.05098039284348488,0.0,0.0,0.0,0.0],[0.0,0.0,0.0,0.0,0.0,0.10196078568696976,0.0,0.3294117748737335,0.9529411792755127,0.9058823585510254,0.9098039269447327,0.9058823585510254,0.886274516582489,0.8745098114013672,0.8901960849761963,0.9019607901573181,0.9098039269447327,0.9254902005195618,0.9137254953384399,0.9686274528503418,0.7568627595901489,0.0,0.05882352963089943,0.09019608050584793,0.0,0.0,0.0,0.0],[0.0,0.0,0.0,0.0,0.0,0.14901961386203766,0.27843138575553894,0.14509804546833038,0.3843137323856354,0.7019608020782471,0.729411780834198,0.7647058963775635,0.929411768913269,0.8470588326454163,0.800000011920929,0.6980392336845398,0.6196078658103943,0.5686274766921997,0.5333333611488342,0.29411765933036804,0.14509804546833038,0.24705882370471954,0.2980392277240753,0.0,0.0,0.0,0.0,0.0],[0.0,0.0,0.0,0.0,0.0,0.10980392247438431,0.5803921818733215,0.1568627506494522,0.0,0.0,0.0,0.0,0.0,0.0,0.0,0.0,0.0,0.0,0.0,0.0,0.0,0.7411764860153198,0.5764706134796143,0.0,0.0,0.0,0.0,0.0]],\"type\":\"heatmap\",\"xaxis\":\"x\",\"yaxis\":\"y\",\"hovertemplate\":\"x: %{x}<br>y: %{y}<br>color: %{z}<extra></extra>\"}],                        {\"template\":{\"data\":{\"bar\":[{\"error_x\":{\"color\":\"#2a3f5f\"},\"error_y\":{\"color\":\"#2a3f5f\"},\"marker\":{\"line\":{\"color\":\"#E5ECF6\",\"width\":0.5},\"pattern\":{\"fillmode\":\"overlay\",\"size\":10,\"solidity\":0.2}},\"type\":\"bar\"}],\"barpolar\":[{\"marker\":{\"line\":{\"color\":\"#E5ECF6\",\"width\":0.5},\"pattern\":{\"fillmode\":\"overlay\",\"size\":10,\"solidity\":0.2}},\"type\":\"barpolar\"}],\"carpet\":[{\"aaxis\":{\"endlinecolor\":\"#2a3f5f\",\"gridcolor\":\"white\",\"linecolor\":\"white\",\"minorgridcolor\":\"white\",\"startlinecolor\":\"#2a3f5f\"},\"baxis\":{\"endlinecolor\":\"#2a3f5f\",\"gridcolor\":\"white\",\"linecolor\":\"white\",\"minorgridcolor\":\"white\",\"startlinecolor\":\"#2a3f5f\"},\"type\":\"carpet\"}],\"choropleth\":[{\"colorbar\":{\"outlinewidth\":0,\"ticks\":\"\"},\"type\":\"choropleth\"}],\"contour\":[{\"colorbar\":{\"outlinewidth\":0,\"ticks\":\"\"},\"colorscale\":[[0.0,\"#0d0887\"],[0.1111111111111111,\"#46039f\"],[0.2222222222222222,\"#7201a8\"],[0.3333333333333333,\"#9c179e\"],[0.4444444444444444,\"#bd3786\"],[0.5555555555555556,\"#d8576b\"],[0.6666666666666666,\"#ed7953\"],[0.7777777777777778,\"#fb9f3a\"],[0.8888888888888888,\"#fdca26\"],[1.0,\"#f0f921\"]],\"type\":\"contour\"}],\"contourcarpet\":[{\"colorbar\":{\"outlinewidth\":0,\"ticks\":\"\"},\"type\":\"contourcarpet\"}],\"heatmap\":[{\"colorbar\":{\"outlinewidth\":0,\"ticks\":\"\"},\"colorscale\":[[0.0,\"#0d0887\"],[0.1111111111111111,\"#46039f\"],[0.2222222222222222,\"#7201a8\"],[0.3333333333333333,\"#9c179e\"],[0.4444444444444444,\"#bd3786\"],[0.5555555555555556,\"#d8576b\"],[0.6666666666666666,\"#ed7953\"],[0.7777777777777778,\"#fb9f3a\"],[0.8888888888888888,\"#fdca26\"],[1.0,\"#f0f921\"]],\"type\":\"heatmap\"}],\"heatmapgl\":[{\"colorbar\":{\"outlinewidth\":0,\"ticks\":\"\"},\"colorscale\":[[0.0,\"#0d0887\"],[0.1111111111111111,\"#46039f\"],[0.2222222222222222,\"#7201a8\"],[0.3333333333333333,\"#9c179e\"],[0.4444444444444444,\"#bd3786\"],[0.5555555555555556,\"#d8576b\"],[0.6666666666666666,\"#ed7953\"],[0.7777777777777778,\"#fb9f3a\"],[0.8888888888888888,\"#fdca26\"],[1.0,\"#f0f921\"]],\"type\":\"heatmapgl\"}],\"histogram\":[{\"marker\":{\"pattern\":{\"fillmode\":\"overlay\",\"size\":10,\"solidity\":0.2}},\"type\":\"histogram\"}],\"histogram2d\":[{\"colorbar\":{\"outlinewidth\":0,\"ticks\":\"\"},\"colorscale\":[[0.0,\"#0d0887\"],[0.1111111111111111,\"#46039f\"],[0.2222222222222222,\"#7201a8\"],[0.3333333333333333,\"#9c179e\"],[0.4444444444444444,\"#bd3786\"],[0.5555555555555556,\"#d8576b\"],[0.6666666666666666,\"#ed7953\"],[0.7777777777777778,\"#fb9f3a\"],[0.8888888888888888,\"#fdca26\"],[1.0,\"#f0f921\"]],\"type\":\"histogram2d\"}],\"histogram2dcontour\":[{\"colorbar\":{\"outlinewidth\":0,\"ticks\":\"\"},\"colorscale\":[[0.0,\"#0d0887\"],[0.1111111111111111,\"#46039f\"],[0.2222222222222222,\"#7201a8\"],[0.3333333333333333,\"#9c179e\"],[0.4444444444444444,\"#bd3786\"],[0.5555555555555556,\"#d8576b\"],[0.6666666666666666,\"#ed7953\"],[0.7777777777777778,\"#fb9f3a\"],[0.8888888888888888,\"#fdca26\"],[1.0,\"#f0f921\"]],\"type\":\"histogram2dcontour\"}],\"mesh3d\":[{\"colorbar\":{\"outlinewidth\":0,\"ticks\":\"\"},\"type\":\"mesh3d\"}],\"parcoords\":[{\"line\":{\"colorbar\":{\"outlinewidth\":0,\"ticks\":\"\"}},\"type\":\"parcoords\"}],\"pie\":[{\"automargin\":true,\"type\":\"pie\"}],\"scatter\":[{\"marker\":{\"colorbar\":{\"outlinewidth\":0,\"ticks\":\"\"}},\"type\":\"scatter\"}],\"scatter3d\":[{\"line\":{\"colorbar\":{\"outlinewidth\":0,\"ticks\":\"\"}},\"marker\":{\"colorbar\":{\"outlinewidth\":0,\"ticks\":\"\"}},\"type\":\"scatter3d\"}],\"scattercarpet\":[{\"marker\":{\"colorbar\":{\"outlinewidth\":0,\"ticks\":\"\"}},\"type\":\"scattercarpet\"}],\"scattergeo\":[{\"marker\":{\"colorbar\":{\"outlinewidth\":0,\"ticks\":\"\"}},\"type\":\"scattergeo\"}],\"scattergl\":[{\"marker\":{\"colorbar\":{\"outlinewidth\":0,\"ticks\":\"\"}},\"type\":\"scattergl\"}],\"scattermapbox\":[{\"marker\":{\"colorbar\":{\"outlinewidth\":0,\"ticks\":\"\"}},\"type\":\"scattermapbox\"}],\"scatterpolar\":[{\"marker\":{\"colorbar\":{\"outlinewidth\":0,\"ticks\":\"\"}},\"type\":\"scatterpolar\"}],\"scatterpolargl\":[{\"marker\":{\"colorbar\":{\"outlinewidth\":0,\"ticks\":\"\"}},\"type\":\"scatterpolargl\"}],\"scatterternary\":[{\"marker\":{\"colorbar\":{\"outlinewidth\":0,\"ticks\":\"\"}},\"type\":\"scatterternary\"}],\"surface\":[{\"colorbar\":{\"outlinewidth\":0,\"ticks\":\"\"},\"colorscale\":[[0.0,\"#0d0887\"],[0.1111111111111111,\"#46039f\"],[0.2222222222222222,\"#7201a8\"],[0.3333333333333333,\"#9c179e\"],[0.4444444444444444,\"#bd3786\"],[0.5555555555555556,\"#d8576b\"],[0.6666666666666666,\"#ed7953\"],[0.7777777777777778,\"#fb9f3a\"],[0.8888888888888888,\"#fdca26\"],[1.0,\"#f0f921\"]],\"type\":\"surface\"}],\"table\":[{\"cells\":{\"fill\":{\"color\":\"#EBF0F8\"},\"line\":{\"color\":\"white\"}},\"header\":{\"fill\":{\"color\":\"#C8D4E3\"},\"line\":{\"color\":\"white\"}},\"type\":\"table\"}]},\"layout\":{\"annotationdefaults\":{\"arrowcolor\":\"#2a3f5f\",\"arrowhead\":0,\"arrowwidth\":1},\"autotypenumbers\":\"strict\",\"coloraxis\":{\"colorbar\":{\"outlinewidth\":0,\"ticks\":\"\"}},\"colorscale\":{\"diverging\":[[0,\"#8e0152\"],[0.1,\"#c51b7d\"],[0.2,\"#de77ae\"],[0.3,\"#f1b6da\"],[0.4,\"#fde0ef\"],[0.5,\"#f7f7f7\"],[0.6,\"#e6f5d0\"],[0.7,\"#b8e186\"],[0.8,\"#7fbc41\"],[0.9,\"#4d9221\"],[1,\"#276419\"]],\"sequential\":[[0.0,\"#0d0887\"],[0.1111111111111111,\"#46039f\"],[0.2222222222222222,\"#7201a8\"],[0.3333333333333333,\"#9c179e\"],[0.4444444444444444,\"#bd3786\"],[0.5555555555555556,\"#d8576b\"],[0.6666666666666666,\"#ed7953\"],[0.7777777777777778,\"#fb9f3a\"],[0.8888888888888888,\"#fdca26\"],[1.0,\"#f0f921\"]],\"sequentialminus\":[[0.0,\"#0d0887\"],[0.1111111111111111,\"#46039f\"],[0.2222222222222222,\"#7201a8\"],[0.3333333333333333,\"#9c179e\"],[0.4444444444444444,\"#bd3786\"],[0.5555555555555556,\"#d8576b\"],[0.6666666666666666,\"#ed7953\"],[0.7777777777777778,\"#fb9f3a\"],[0.8888888888888888,\"#fdca26\"],[1.0,\"#f0f921\"]]},\"colorway\":[\"#636efa\",\"#EF553B\",\"#00cc96\",\"#ab63fa\",\"#FFA15A\",\"#19d3f3\",\"#FF6692\",\"#B6E880\",\"#FF97FF\",\"#FECB52\"],\"font\":{\"color\":\"#2a3f5f\"},\"geo\":{\"bgcolor\":\"white\",\"lakecolor\":\"white\",\"landcolor\":\"#E5ECF6\",\"showlakes\":true,\"showland\":true,\"subunitcolor\":\"white\"},\"hoverlabel\":{\"align\":\"left\"},\"hovermode\":\"closest\",\"mapbox\":{\"style\":\"light\"},\"paper_bgcolor\":\"white\",\"plot_bgcolor\":\"#E5ECF6\",\"polar\":{\"angularaxis\":{\"gridcolor\":\"white\",\"linecolor\":\"white\",\"ticks\":\"\"},\"bgcolor\":\"#E5ECF6\",\"radialaxis\":{\"gridcolor\":\"white\",\"linecolor\":\"white\",\"ticks\":\"\"}},\"scene\":{\"xaxis\":{\"backgroundcolor\":\"#E5ECF6\",\"gridcolor\":\"white\",\"gridwidth\":2,\"linecolor\":\"white\",\"showbackground\":true,\"ticks\":\"\",\"zerolinecolor\":\"white\"},\"yaxis\":{\"backgroundcolor\":\"#E5ECF6\",\"gridcolor\":\"white\",\"gridwidth\":2,\"linecolor\":\"white\",\"showbackground\":true,\"ticks\":\"\",\"zerolinecolor\":\"white\"},\"zaxis\":{\"backgroundcolor\":\"#E5ECF6\",\"gridcolor\":\"white\",\"gridwidth\":2,\"linecolor\":\"white\",\"showbackground\":true,\"ticks\":\"\",\"zerolinecolor\":\"white\"}},\"shapedefaults\":{\"line\":{\"color\":\"#2a3f5f\"}},\"ternary\":{\"aaxis\":{\"gridcolor\":\"white\",\"linecolor\":\"white\",\"ticks\":\"\"},\"baxis\":{\"gridcolor\":\"white\",\"linecolor\":\"white\",\"ticks\":\"\"},\"bgcolor\":\"#E5ECF6\",\"caxis\":{\"gridcolor\":\"white\",\"linecolor\":\"white\",\"ticks\":\"\"}},\"title\":{\"x\":0.05},\"xaxis\":{\"automargin\":true,\"gridcolor\":\"white\",\"linecolor\":\"white\",\"ticks\":\"\",\"title\":{\"standoff\":15},\"zerolinecolor\":\"white\",\"zerolinewidth\":2},\"yaxis\":{\"automargin\":true,\"gridcolor\":\"white\",\"linecolor\":\"white\",\"ticks\":\"\",\"title\":{\"standoff\":15},\"zerolinecolor\":\"white\",\"zerolinewidth\":2}}},\"xaxis\":{\"anchor\":\"y\",\"domain\":[0.0,1.0],\"scaleanchor\":\"y\",\"constrain\":\"domain\",\"showticklabels\":false},\"yaxis\":{\"anchor\":\"x\",\"domain\":[0.0,1.0],\"autorange\":\"reversed\",\"constrain\":\"domain\",\"showticklabels\":false},\"coloraxis\":{\"colorscale\":[[0.0,\"rgb(0, 0, 0)\"],[0.09090909090909091,\"rgb(16, 16, 16)\"],[0.18181818181818182,\"rgb(38, 38, 38)\"],[0.2727272727272727,\"rgb(59, 59, 59)\"],[0.36363636363636365,\"rgb(81, 80, 80)\"],[0.45454545454545453,\"rgb(102, 101, 101)\"],[0.5454545454545454,\"rgb(124, 123, 122)\"],[0.6363636363636364,\"rgb(146, 146, 145)\"],[0.7272727272727273,\"rgb(171, 171, 170)\"],[0.8181818181818182,\"rgb(197, 197, 195)\"],[0.9090909090909091,\"rgb(224, 224, 223)\"],[1.0,\"rgb(254, 254, 253)\"]],\"showscale\":false},\"margin\":{\"t\":30,\"l\":30,\"r\":30,\"b\":30},\"width\":300,\"height\":300,\"paper_bgcolor\":\"rgba(0,0,0,0)\",\"plot_bgcolor\":\"rgba(0,0,0,0)\"},                        {\"responsive\": true}                    ).then(function(){\n",
              "                            \n",
              "var gd = document.getElementById('220737ed-c91d-4329-8c6b-56208ce7a762');\n",
              "var x = new MutationObserver(function (mutations, observer) {{\n",
              "        var display = window.getComputedStyle(gd).display;\n",
              "        if (!display || display === 'none') {{\n",
              "            console.log([gd, 'removed!']);\n",
              "            Plotly.purge(gd);\n",
              "            observer.disconnect();\n",
              "        }}\n",
              "}});\n",
              "\n",
              "// Listen for the removal of the full notebook cells\n",
              "var notebookContainer = gd.closest('#notebook-container');\n",
              "if (notebookContainer) {{\n",
              "    x.observe(notebookContainer, {childList: true});\n",
              "}}\n",
              "\n",
              "// Listen for the clearing of the current output cell\n",
              "var outputEl = gd.closest('.output');\n",
              "if (outputEl) {{\n",
              "    x.observe(outputEl, {childList: true});\n",
              "}}\n",
              "\n",
              "                        })                };                            </script>        </div>\n",
              "</body>\n",
              "</html>"
            ]
          },
          "metadata": {}
        },
        {
          "output_type": "stream",
          "name": "stdout",
          "text": [
            "SAMPLE AT INDEX 125\n",
            "LABEL: 4\n"
          ]
        }
      ],
      "source": [
        "# Define transformation on data: invert the colors of roughly p*100 % of the images.\n",
        "transform = transforms.Compose([\n",
        "        transforms.ToTensor()\n",
        "        ]) \n",
        "\n",
        "full_set = datasets.FashionMNIST('classifier_data', train=True, download=True, transform = transform)\n",
        "\n",
        "split_prop = 0.8\n",
        "evens = np.arange(len(full_set)*0, int(len(full_set)*0.8))\n",
        "odds = np.arange(int(len(full_set)*0.8), len(full_set))\n",
        "\n",
        "trainset_1 = Subset(full_set, evens)\n",
        "trainset_2 = Subset(full_set, odds)\n",
        "\n",
        "train_dataset, valid_dataset = random_split(full_set, [ceil(len(full_set)*split_prop), ceil(len(full_set)*(1-split_prop))])\n",
        "test_dataset = datasets.FashionMNIST('classifier_data', train=False, download=True, transform = transform)\n",
        "\n",
        "n_train = int(len(train_dataset)/3)\n",
        "n_test = int(len(test_dataset))\n",
        "\n",
        "split_idx = int(0.75*n_train)\n",
        "\n",
        "trainloader1 = DataLoader(trainset_1, batch_size = 20, num_workers = 0)\n",
        "trainloader2 = DataLoader(trainset_2, batch_size = 20, num_workers = 0)\n",
        "train_dataloader = DataLoader(train_dataset, batch_size = 20, num_workers = 0)\n",
        "val_dataloader = DataLoader(valid_dataset, batch_size = 20, num_workers = 0)\n",
        "\n",
        "test_dataloader = DataLoader(test_dataset, batch_size = 1, num_workers = 0)\n",
        "\n",
        "sample_index = 125\n",
        "image = train_dataset[sample_index][0].squeeze()\n",
        "label = train_dataset[sample_index][1]\n",
        "\n",
        "\n",
        "fig = px.imshow(image, color_continuous_scale='gray')#, cmap='Greys')\n",
        "fig.update_layout(width=300, height=300, paper_bgcolor='rgba(0,0,0,0)', plot_bgcolor='rgba(0,0,0,0)',coloraxis_showscale=False,margin=dict(l=30, r=30, t=30, b=30))\n",
        "fig.update_xaxes(showticklabels=False)\n",
        "fig.update_yaxes(showticklabels=False)\n",
        "fig.show()\n",
        "print(f\"SAMPLE AT INDEX {sample_index}\")\n",
        "print(f\"LABEL: {label}\")\n",
        "\n",
        "img_shape = tuple(image.shape)\n",
        "no_labels = len(np.unique(full_set.targets))\n",
        "\n",
        "if not os.path.exists(\"images\"):\n",
        "    os.mkdir(\"images\")\n",
        "\n",
        "fig.write_image(f\"images/sample_MNIST.pdf\", width=500, height=500)"
      ]
    },
    {
      "cell_type": "code",
      "source": [
        "gc.collect()\n",
        "torch.cuda.empty_cache()\n",
        "\n",
        "num_epochs = 10\n",
        "\n",
        "params = {\n",
        "        'conv1': {'filters1': 24, 'k1': 6},\n",
        "        'conv2': {'filters2': 56, 'k2': 2},\n",
        "        'conv3': {'filters3': 128, 'k3': 3},\n",
        "        'lin1' : 50,\n",
        "        'lin2' : 100\n",
        "        }\n",
        "\n",
        "loss_fn_nb = nn.CrossEntropyLoss().to(device)\n",
        "loss_fn_wb = nn.CrossEntropyLoss().to(device)\n",
        "\n",
        "cnn_nobatch = nt.CNN2d(28, params, device, init_weight='normal')\n",
        "cnn_batch = nt.CNN2d(28, params, device, init_weight='normal', batch_norm=True)\n",
        "\n",
        "cnn_nobatch.to(device)\n",
        "cnn_batch.to(device)\n",
        "\n",
        "params_nb = [\n",
        "    {'params' : cnn_nobatch.parameters()},\n",
        "    ]\n",
        "params_wb = [\n",
        "    {'params' : cnn_batch.parameters()},\n",
        "    ]\n",
        "\n",
        "optim_nb = torch.optim.Adam(params_nb, lr=1e-4, weight_decay=1e-5)\n",
        "optim_wb = torch.optim.Adam(params_wb, lr=1e-4, weight_decay=1e-5)\n",
        "\n",
        "nt.train_model(\n",
        "    cnn_nobatch, train_dataloader,val_dataloader,\n",
        "    num_epochs, loss_fn_nb, optim_nb, verbose=True)\n",
        "nt.train_model(\n",
        "    cnn_batch, train_dataloader,val_dataloader,\n",
        "    num_epochs, loss_fn_wb, optim_wb, verbose=True)"
      ],
      "metadata": {
        "colab": {
          "base_uri": "https://localhost:8080/"
        },
        "id": "91B9pTLRYf_b",
        "outputId": "20120b47-d208-4fb6-c76f-3befd4068ff3"
      },
      "execution_count": 6,
      "outputs": [
        {
          "output_type": "stream",
          "name": "stdout",
          "text": [
            ""
          ]
        },
        {
          "output_type": "execute_result",
          "data": {
            "text/plain": [
              "0.33520057797431946"
            ]
          },
          "metadata": {},
          "execution_count": 6
        }
      ]
    },
    {
      "cell_type": "code",
      "execution_count": 7,
      "metadata": {
        "id": "cqU3sMymyh9h",
        "outputId": "98155001-7c0f-43b7-a170-aa0c6ff6f073",
        "colab": {
          "base_uri": "https://localhost:8080/",
          "height": 542
        }
      },
      "outputs": [
        {
          "output_type": "display_data",
          "data": {
            "text/html": [
              "<html>\n",
              "<head><meta charset=\"utf-8\" /></head>\n",
              "<body>\n",
              "    <div>            <script src=\"https://cdnjs.cloudflare.com/ajax/libs/mathjax/2.7.5/MathJax.js?config=TeX-AMS-MML_SVG\"></script><script type=\"text/javascript\">if (window.MathJax) {MathJax.Hub.Config({SVG: {font: \"STIX-Web\"}});}</script>                <script type=\"text/javascript\">window.PlotlyConfig = {MathJaxConfig: 'local'};</script>\n",
              "        <script src=\"https://cdn.plot.ly/plotly-2.8.3.min.js\"></script>                <div id=\"3d42288d-abb1-4748-9616-fe38cc26736d\" class=\"plotly-graph-div\" style=\"height:525px; width:100%;\"></div>            <script type=\"text/javascript\">                                    window.PLOTLYENV=window.PLOTLYENV || {};                                    if (document.getElementById(\"3d42288d-abb1-4748-9616-fe38cc26736d\")) {                    Plotly.newPlot(                        \"3d42288d-abb1-4748-9616-fe38cc26736d\",                        [{\"hovertemplate\":\"Dataset=train<br>type=without_BatchN<br>Training epoch=%{x}<br>Loss=%{y}<extra></extra>\",\"legendgroup\":\"train\",\"line\":{\"color\":\"#636efa\",\"dash\":\"solid\"},\"marker\":{\"symbol\":\"circle\"},\"mode\":\"lines\",\"name\":\"train\",\"orientation\":\"v\",\"showlegend\":true,\"x\":[1,2,3,4,5,6,7,8,9,10],\"xaxis\":\"x\",\"y\":[0.0,0.0,0.0,0.0,0.0,0.0,0.0,0.0,0.0,0.0],\"yaxis\":\"y\",\"type\":\"scatter\"},{\"hovertemplate\":\"Dataset=train<br>type=with_BatchN<br>Training epoch=%{x}<br>Loss=%{y}<extra></extra>\",\"legendgroup\":\"train\",\"line\":{\"color\":\"#636efa\",\"dash\":\"solid\"},\"marker\":{\"symbol\":\"circle\"},\"mode\":\"lines\",\"name\":\"train\",\"orientation\":\"v\",\"showlegend\":false,\"x\":[1,2,3,4,5,6,7,8,9,10],\"xaxis\":\"x2\",\"y\":[0.0,0.0,0.0,0.0,0.0,0.0,0.0,0.0,0.0,0.0],\"yaxis\":\"y2\",\"type\":\"scatter\"},{\"hovertemplate\":\"Dataset=valid<br>type=without_BatchN<br>Training epoch=%{x}<br>Loss=%{y}<extra></extra>\",\"legendgroup\":\"valid\",\"line\":{\"color\":\"#EF553B\",\"dash\":\"solid\"},\"marker\":{\"symbol\":\"circle\"},\"mode\":\"lines\",\"name\":\"valid\",\"orientation\":\"v\",\"showlegend\":true,\"x\":[1,2,3,4,5,6,7,8,9,10],\"xaxis\":\"x\",\"y\":[0.0,0.0,0.0,0.0,0.0,0.0,0.0,0.0,0.0,0.0],\"yaxis\":\"y\",\"type\":\"scatter\"},{\"hovertemplate\":\"Dataset=valid<br>type=with_BatchN<br>Training epoch=%{x}<br>Loss=%{y}<extra></extra>\",\"legendgroup\":\"valid\",\"line\":{\"color\":\"#EF553B\",\"dash\":\"solid\"},\"marker\":{\"symbol\":\"circle\"},\"mode\":\"lines\",\"name\":\"valid\",\"orientation\":\"v\",\"showlegend\":false,\"x\":[1,2,3,4,5,6,7,8,9,10],\"xaxis\":\"x2\",\"y\":[0.0,0.0,0.0,0.0,0.0,0.0,0.0,0.0,0.0,0.0],\"yaxis\":\"y2\",\"type\":\"scatter\"}],                        {\"template\":{\"data\":{\"bar\":[{\"error_x\":{\"color\":\"#2a3f5f\"},\"error_y\":{\"color\":\"#2a3f5f\"},\"marker\":{\"line\":{\"color\":\"#E5ECF6\",\"width\":0.5},\"pattern\":{\"fillmode\":\"overlay\",\"size\":10,\"solidity\":0.2}},\"type\":\"bar\"}],\"barpolar\":[{\"marker\":{\"line\":{\"color\":\"#E5ECF6\",\"width\":0.5},\"pattern\":{\"fillmode\":\"overlay\",\"size\":10,\"solidity\":0.2}},\"type\":\"barpolar\"}],\"carpet\":[{\"aaxis\":{\"endlinecolor\":\"#2a3f5f\",\"gridcolor\":\"white\",\"linecolor\":\"white\",\"minorgridcolor\":\"white\",\"startlinecolor\":\"#2a3f5f\"},\"baxis\":{\"endlinecolor\":\"#2a3f5f\",\"gridcolor\":\"white\",\"linecolor\":\"white\",\"minorgridcolor\":\"white\",\"startlinecolor\":\"#2a3f5f\"},\"type\":\"carpet\"}],\"choropleth\":[{\"colorbar\":{\"outlinewidth\":0,\"ticks\":\"\"},\"type\":\"choropleth\"}],\"contour\":[{\"colorbar\":{\"outlinewidth\":0,\"ticks\":\"\"},\"colorscale\":[[0.0,\"#0d0887\"],[0.1111111111111111,\"#46039f\"],[0.2222222222222222,\"#7201a8\"],[0.3333333333333333,\"#9c179e\"],[0.4444444444444444,\"#bd3786\"],[0.5555555555555556,\"#d8576b\"],[0.6666666666666666,\"#ed7953\"],[0.7777777777777778,\"#fb9f3a\"],[0.8888888888888888,\"#fdca26\"],[1.0,\"#f0f921\"]],\"type\":\"contour\"}],\"contourcarpet\":[{\"colorbar\":{\"outlinewidth\":0,\"ticks\":\"\"},\"type\":\"contourcarpet\"}],\"heatmap\":[{\"colorbar\":{\"outlinewidth\":0,\"ticks\":\"\"},\"colorscale\":[[0.0,\"#0d0887\"],[0.1111111111111111,\"#46039f\"],[0.2222222222222222,\"#7201a8\"],[0.3333333333333333,\"#9c179e\"],[0.4444444444444444,\"#bd3786\"],[0.5555555555555556,\"#d8576b\"],[0.6666666666666666,\"#ed7953\"],[0.7777777777777778,\"#fb9f3a\"],[0.8888888888888888,\"#fdca26\"],[1.0,\"#f0f921\"]],\"type\":\"heatmap\"}],\"heatmapgl\":[{\"colorbar\":{\"outlinewidth\":0,\"ticks\":\"\"},\"colorscale\":[[0.0,\"#0d0887\"],[0.1111111111111111,\"#46039f\"],[0.2222222222222222,\"#7201a8\"],[0.3333333333333333,\"#9c179e\"],[0.4444444444444444,\"#bd3786\"],[0.5555555555555556,\"#d8576b\"],[0.6666666666666666,\"#ed7953\"],[0.7777777777777778,\"#fb9f3a\"],[0.8888888888888888,\"#fdca26\"],[1.0,\"#f0f921\"]],\"type\":\"heatmapgl\"}],\"histogram\":[{\"marker\":{\"pattern\":{\"fillmode\":\"overlay\",\"size\":10,\"solidity\":0.2}},\"type\":\"histogram\"}],\"histogram2d\":[{\"colorbar\":{\"outlinewidth\":0,\"ticks\":\"\"},\"colorscale\":[[0.0,\"#0d0887\"],[0.1111111111111111,\"#46039f\"],[0.2222222222222222,\"#7201a8\"],[0.3333333333333333,\"#9c179e\"],[0.4444444444444444,\"#bd3786\"],[0.5555555555555556,\"#d8576b\"],[0.6666666666666666,\"#ed7953\"],[0.7777777777777778,\"#fb9f3a\"],[0.8888888888888888,\"#fdca26\"],[1.0,\"#f0f921\"]],\"type\":\"histogram2d\"}],\"histogram2dcontour\":[{\"colorbar\":{\"outlinewidth\":0,\"ticks\":\"\"},\"colorscale\":[[0.0,\"#0d0887\"],[0.1111111111111111,\"#46039f\"],[0.2222222222222222,\"#7201a8\"],[0.3333333333333333,\"#9c179e\"],[0.4444444444444444,\"#bd3786\"],[0.5555555555555556,\"#d8576b\"],[0.6666666666666666,\"#ed7953\"],[0.7777777777777778,\"#fb9f3a\"],[0.8888888888888888,\"#fdca26\"],[1.0,\"#f0f921\"]],\"type\":\"histogram2dcontour\"}],\"mesh3d\":[{\"colorbar\":{\"outlinewidth\":0,\"ticks\":\"\"},\"type\":\"mesh3d\"}],\"parcoords\":[{\"line\":{\"colorbar\":{\"outlinewidth\":0,\"ticks\":\"\"}},\"type\":\"parcoords\"}],\"pie\":[{\"automargin\":true,\"type\":\"pie\"}],\"scatter\":[{\"marker\":{\"colorbar\":{\"outlinewidth\":0,\"ticks\":\"\"}},\"type\":\"scatter\"}],\"scatter3d\":[{\"line\":{\"colorbar\":{\"outlinewidth\":0,\"ticks\":\"\"}},\"marker\":{\"colorbar\":{\"outlinewidth\":0,\"ticks\":\"\"}},\"type\":\"scatter3d\"}],\"scattercarpet\":[{\"marker\":{\"colorbar\":{\"outlinewidth\":0,\"ticks\":\"\"}},\"type\":\"scattercarpet\"}],\"scattergeo\":[{\"marker\":{\"colorbar\":{\"outlinewidth\":0,\"ticks\":\"\"}},\"type\":\"scattergeo\"}],\"scattergl\":[{\"marker\":{\"colorbar\":{\"outlinewidth\":0,\"ticks\":\"\"}},\"type\":\"scattergl\"}],\"scattermapbox\":[{\"marker\":{\"colorbar\":{\"outlinewidth\":0,\"ticks\":\"\"}},\"type\":\"scattermapbox\"}],\"scatterpolar\":[{\"marker\":{\"colorbar\":{\"outlinewidth\":0,\"ticks\":\"\"}},\"type\":\"scatterpolar\"}],\"scatterpolargl\":[{\"marker\":{\"colorbar\":{\"outlinewidth\":0,\"ticks\":\"\"}},\"type\":\"scatterpolargl\"}],\"scatterternary\":[{\"marker\":{\"colorbar\":{\"outlinewidth\":0,\"ticks\":\"\"}},\"type\":\"scatterternary\"}],\"surface\":[{\"colorbar\":{\"outlinewidth\":0,\"ticks\":\"\"},\"colorscale\":[[0.0,\"#0d0887\"],[0.1111111111111111,\"#46039f\"],[0.2222222222222222,\"#7201a8\"],[0.3333333333333333,\"#9c179e\"],[0.4444444444444444,\"#bd3786\"],[0.5555555555555556,\"#d8576b\"],[0.6666666666666666,\"#ed7953\"],[0.7777777777777778,\"#fb9f3a\"],[0.8888888888888888,\"#fdca26\"],[1.0,\"#f0f921\"]],\"type\":\"surface\"}],\"table\":[{\"cells\":{\"fill\":{\"color\":\"#EBF0F8\"},\"line\":{\"color\":\"white\"}},\"header\":{\"fill\":{\"color\":\"#C8D4E3\"},\"line\":{\"color\":\"white\"}},\"type\":\"table\"}]},\"layout\":{\"annotationdefaults\":{\"arrowcolor\":\"#2a3f5f\",\"arrowhead\":0,\"arrowwidth\":1},\"autotypenumbers\":\"strict\",\"coloraxis\":{\"colorbar\":{\"outlinewidth\":0,\"ticks\":\"\"}},\"colorscale\":{\"diverging\":[[0,\"#8e0152\"],[0.1,\"#c51b7d\"],[0.2,\"#de77ae\"],[0.3,\"#f1b6da\"],[0.4,\"#fde0ef\"],[0.5,\"#f7f7f7\"],[0.6,\"#e6f5d0\"],[0.7,\"#b8e186\"],[0.8,\"#7fbc41\"],[0.9,\"#4d9221\"],[1,\"#276419\"]],\"sequential\":[[0.0,\"#0d0887\"],[0.1111111111111111,\"#46039f\"],[0.2222222222222222,\"#7201a8\"],[0.3333333333333333,\"#9c179e\"],[0.4444444444444444,\"#bd3786\"],[0.5555555555555556,\"#d8576b\"],[0.6666666666666666,\"#ed7953\"],[0.7777777777777778,\"#fb9f3a\"],[0.8888888888888888,\"#fdca26\"],[1.0,\"#f0f921\"]],\"sequentialminus\":[[0.0,\"#0d0887\"],[0.1111111111111111,\"#46039f\"],[0.2222222222222222,\"#7201a8\"],[0.3333333333333333,\"#9c179e\"],[0.4444444444444444,\"#bd3786\"],[0.5555555555555556,\"#d8576b\"],[0.6666666666666666,\"#ed7953\"],[0.7777777777777778,\"#fb9f3a\"],[0.8888888888888888,\"#fdca26\"],[1.0,\"#f0f921\"]]},\"colorway\":[\"#636efa\",\"#EF553B\",\"#00cc96\",\"#ab63fa\",\"#FFA15A\",\"#19d3f3\",\"#FF6692\",\"#B6E880\",\"#FF97FF\",\"#FECB52\"],\"font\":{\"color\":\"#2a3f5f\"},\"geo\":{\"bgcolor\":\"white\",\"lakecolor\":\"white\",\"landcolor\":\"#E5ECF6\",\"showlakes\":true,\"showland\":true,\"subunitcolor\":\"white\"},\"hoverlabel\":{\"align\":\"left\"},\"hovermode\":\"closest\",\"mapbox\":{\"style\":\"light\"},\"paper_bgcolor\":\"white\",\"plot_bgcolor\":\"#E5ECF6\",\"polar\":{\"angularaxis\":{\"gridcolor\":\"white\",\"linecolor\":\"white\",\"ticks\":\"\"},\"bgcolor\":\"#E5ECF6\",\"radialaxis\":{\"gridcolor\":\"white\",\"linecolor\":\"white\",\"ticks\":\"\"}},\"scene\":{\"xaxis\":{\"backgroundcolor\":\"#E5ECF6\",\"gridcolor\":\"white\",\"gridwidth\":2,\"linecolor\":\"white\",\"showbackground\":true,\"ticks\":\"\",\"zerolinecolor\":\"white\"},\"yaxis\":{\"backgroundcolor\":\"#E5ECF6\",\"gridcolor\":\"white\",\"gridwidth\":2,\"linecolor\":\"white\",\"showbackground\":true,\"ticks\":\"\",\"zerolinecolor\":\"white\"},\"zaxis\":{\"backgroundcolor\":\"#E5ECF6\",\"gridcolor\":\"white\",\"gridwidth\":2,\"linecolor\":\"white\",\"showbackground\":true,\"ticks\":\"\",\"zerolinecolor\":\"white\"}},\"shapedefaults\":{\"line\":{\"color\":\"#2a3f5f\"}},\"ternary\":{\"aaxis\":{\"gridcolor\":\"white\",\"linecolor\":\"white\",\"ticks\":\"\"},\"baxis\":{\"gridcolor\":\"white\",\"linecolor\":\"white\",\"ticks\":\"\"},\"bgcolor\":\"#E5ECF6\",\"caxis\":{\"gridcolor\":\"white\",\"linecolor\":\"white\",\"ticks\":\"\"}},\"title\":{\"x\":0.05},\"xaxis\":{\"automargin\":true,\"gridcolor\":\"white\",\"linecolor\":\"white\",\"ticks\":\"\",\"title\":{\"standoff\":15},\"zerolinecolor\":\"white\",\"zerolinewidth\":2},\"yaxis\":{\"automargin\":true,\"gridcolor\":\"white\",\"linecolor\":\"white\",\"ticks\":\"\",\"title\":{\"standoff\":15},\"zerolinecolor\":\"white\",\"zerolinewidth\":2}}},\"xaxis\":{\"anchor\":\"y\",\"domain\":[0.0,0.49],\"title\":{\"text\":\"Training epoch\"}},\"yaxis\":{\"anchor\":\"x\",\"domain\":[0.0,1.0],\"title\":{\"text\":\"Loss\"}},\"xaxis2\":{\"anchor\":\"y2\",\"domain\":[0.51,1.0],\"matches\":\"x\",\"title\":{\"text\":\"Training epoch\"}},\"yaxis2\":{\"anchor\":\"x2\",\"domain\":[0.0,1.0],\"matches\":\"y\",\"showticklabels\":false},\"annotations\":[{\"font\":{},\"showarrow\":false,\"text\":\"Without batch normalization\",\"x\":0.245,\"xanchor\":\"center\",\"xref\":\"paper\",\"y\":1.0,\"yanchor\":\"bottom\",\"yref\":\"paper\"},{\"font\":{},\"showarrow\":false,\"text\":\"With batch normalization\",\"x\":0.755,\"xanchor\":\"center\",\"xref\":\"paper\",\"y\":1.0,\"yanchor\":\"bottom\",\"yref\":\"paper\"}],\"legend\":{\"title\":{\"text\":\"Dataset\"},\"tracegroupgap\":0},\"margin\":{\"t\":60,\"l\":10,\"r\":10,\"b\":10},\"font\":{\"size\":18},\"title\":{\"text\":\"Loss evolution\"}},                        {\"responsive\": true}                    ).then(function(){\n",
              "                            \n",
              "var gd = document.getElementById('3d42288d-abb1-4748-9616-fe38cc26736d');\n",
              "var x = new MutationObserver(function (mutations, observer) {{\n",
              "        var display = window.getComputedStyle(gd).display;\n",
              "        if (!display || display === 'none') {{\n",
              "            console.log([gd, 'removed!']);\n",
              "            Plotly.purge(gd);\n",
              "            observer.disconnect();\n",
              "        }}\n",
              "}});\n",
              "\n",
              "// Listen for the removal of the full notebook cells\n",
              "var notebookContainer = gd.closest('#notebook-container');\n",
              "if (notebookContainer) {{\n",
              "    x.observe(notebookContainer, {childList: true});\n",
              "}}\n",
              "\n",
              "// Listen for the clearing of the current output cell\n",
              "var outputEl = gd.closest('.output');\n",
              "if (outputEl) {{\n",
              "    x.observe(outputEl, {childList: true});\n",
              "}}\n",
              "\n",
              "                        })                };                            </script>        </div>\n",
              "</body>\n",
              "</html>"
            ]
          },
          "metadata": {}
        }
      ],
      "source": [
        "no_batchnorm_df = pd.DataFrame(cnn_nobatch.history).melt(\n",
        "    id_vars='epoch', var_name='loss_type', value_name='loss')\n",
        "no_batchnorm_df['type'] = 'without_BatchN'\n",
        "\n",
        "batchnorm_df = pd.DataFrame(cnn_batch.history).melt(\n",
        "    id_vars='epoch', var_name='loss_type', value_name='loss')\n",
        "\n",
        "batchnorm_df['type'] = 'with_BatchN'\n",
        "\n",
        "combo_df = pd.concat([no_batchnorm_df, batchnorm_df])\n",
        "fig = combo_df.plot(x='epoch', y='loss', color='loss_type', facet_col='type',\n",
        "                    labels={\"epoch\": \"Training epoch\",\n",
        "                            \"loss\": \"Loss\", \"loss_type\": \"Dataset\"}\n",
        "                    )\n",
        "\n",
        "fig.update_layout(title='Loss evolution',\n",
        "                  margin=dict(l=10, r=10, t=60, b=10),\n",
        "                  font=dict(size=18))\n",
        "\n",
        "for i, title_str in enumerate(['Without batch normalization', 'With batch normalization']):\n",
        "    fig.layout.annotations[i].text = title_str\n",
        "\n",
        "fig.show()\n",
        "\n",
        "if not os.path.exists(\"images\"):\n",
        "    os.mkdir(\"images\")\n",
        "\n",
        "fig.write_image(f\"images/fig{i}.pdf\", width=1000, height=500)"
      ]
    },
    {
      "cell_type": "code",
      "source": [
        "test_score_nb = cnn_nobatch.score(test_dataloader)\n",
        "test_score_wb = cnn_batch.score(test_dataloader)\n",
        "\n",
        "print(f\"No batchnorm score: {test_score_nb}\")\n",
        "print(f\"With batchnorm score: {test_score_wb}\")"
      ],
      "metadata": {
        "colab": {
          "base_uri": "https://localhost:8080/"
        },
        "id": "Eptjx1nbCd46",
        "outputId": "4fa6f4b5-be91-4ade-96a9-898edb33b176"
      },
      "execution_count": 8,
      "outputs": [
        {
          "output_type": "stream",
          "name": "stdout",
          "text": [
            "No batchnorm score: 0.9097\n",
            "With batchnorm score: 0.8971\n"
          ]
        }
      ]
    },
    {
      "cell_type": "code",
      "source": [
        "def CNN_objective(trial):\n",
        "    \"\"\"\n",
        "    Performs a Bayesian-like hyperparameter search, using optuna's TPESampler.\n",
        "    This generally allows a more thorough search compared to completely random\n",
        "    sampling methods, while saving computation time compared to a complete grid\n",
        "    search, especially considering the large range of filters considered.\n",
        "    Overall, it's a good compromise between the certainty of grid-search and\n",
        "    the efficiency of a random search.\n",
        "\n",
        "    The best model is chosen based on the test data loss after five epochs.\n",
        "    \"\"\"\n",
        "\n",
        "    # Parameters in the search include number of filters, size of the first\n",
        "    # dense layer, shape of latent space, optimizer type, and finally its \n",
        "    # respective learning rate.\n",
        "\n",
        "    params = {\n",
        "        'conv1': {'filters1': trial.suggest_int('filters1', 16, 32),\n",
        "                  'k1': 3},\n",
        "        'conv2': {'filters2': trial.suggest_int('filters2', 64, 128),\n",
        "                  'k2': 3},\n",
        "        'conv3': {'filters3': trial.suggest_int('filters3', 64, 128),\n",
        "                  'k3': 3},\n",
        "        'lin1' : trial.suggest_int('lin1', 32, 128),\n",
        "        'lin2' : trial.suggest_int('lin2', 100, 200)\n",
        "    }\n",
        "    init_weights = trial.suggest_categorical(\"weight_init\",\n",
        "                                             [\"uniform\", \"normal\"])\n",
        "    model = nt.CNN2d(28, params, device,\n",
        "                     init_weight = init_weights, batch_norm=True)\n",
        "    model.to(device)\n",
        "\n",
        "    # Define the optimizer\n",
        "    optim = getattr(\n",
        "        torch.optim, trial.suggest_categorical(\n",
        "            \"optim\", [\"Adam\", \"SGD\", \"AdamW\"]))(\n",
        "                model.parameters(), lr=trial.suggest_loguniform(\"lr\", 1e-5, 1e-2)\n",
        "            )\n",
        "    loss_fn = nn.CrossEntropyLoss()\n",
        "    # Train and evaluate model\n",
        "    val_loss = nt.train_model(model,\n",
        "        trainloader2, test_dataloader,\n",
        "        num_epochs=5, loss_fn=loss_fn, optimizer=optim, verbose=False\n",
        "        )\n",
        "\n",
        "    return val_loss"
      ],
      "metadata": {
        "id": "gVvQTpY2T1_g"
      },
      "execution_count": 9,
      "outputs": []
    },
    {
      "cell_type": "code",
      "source": [
        "study = optuna.create_study(direction='minimize')\n",
        "study.optimize(CNN_objective, n_trials=20)"
      ],
      "metadata": {
        "colab": {
          "base_uri": "https://localhost:8080/"
        },
        "id": "iMBx6DugT3Mk",
        "outputId": "021cf93d-e831-41ac-b85f-ddbe48f766c2"
      },
      "execution_count": 10,
      "outputs": [
        {
          "output_type": "stream",
          "name": "stderr",
          "text": [
            "\u001b[32m[I 2022-07-05 10:23:40,636]\u001b[0m A new study created in memory with name: no-name-d720b97c-4d78-490a-b9aa-4c8f066869c4\u001b[0m\n",
            "\u001b[32m[I 2022-07-05 10:24:51,350]\u001b[0m Trial 0 finished with value: 0.433149129152298 and parameters: {'filters1': 28, 'filters2': 103, 'filters3': 67, 'lin1': 73, 'lin2': 127, 'weight_init': 'normal', 'optim': 'Adam', 'lr': 1.0014136266694605e-05}. Best is trial 0 with value: 0.433149129152298.\u001b[0m\n",
            "\u001b[32m[I 2022-07-05 10:26:04,395]\u001b[0m Trial 1 finished with value: 0.4187757670879364 and parameters: {'filters1': 28, 'filters2': 116, 'filters3': 110, 'lin1': 60, 'lin2': 170, 'weight_init': 'uniform', 'optim': 'Adam', 'lr': 2.3916630600741312e-05}. Best is trial 1 with value: 0.4187757670879364.\u001b[0m\n",
            "\u001b[32m[I 2022-07-05 10:27:16,193]\u001b[0m Trial 2 finished with value: 0.8386095762252808 and parameters: {'filters1': 21, 'filters2': 76, 'filters3': 89, 'lin1': 41, 'lin2': 104, 'weight_init': 'normal', 'optim': 'AdamW', 'lr': 0.00022233500333718946}. Best is trial 1 with value: 0.4187757670879364.\u001b[0m\n",
            "\u001b[32m[I 2022-07-05 10:28:28,615]\u001b[0m Trial 3 finished with value: 1.3960130214691162 and parameters: {'filters1': 16, 'filters2': 100, 'filters3': 106, 'lin1': 51, 'lin2': 141, 'weight_init': 'normal', 'optim': 'AdamW', 'lr': 0.0008141341130413285}. Best is trial 1 with value: 0.4187757670879364.\u001b[0m\n",
            "\u001b[32m[I 2022-07-05 10:29:39,226]\u001b[0m Trial 4 finished with value: 0.41704061627388 and parameters: {'filters1': 19, 'filters2': 72, 'filters3': 72, 'lin1': 59, 'lin2': 200, 'weight_init': 'normal', 'optim': 'Adam', 'lr': 6.262006896467374e-05}. Best is trial 4 with value: 0.41704061627388.\u001b[0m\n",
            "\u001b[32m[I 2022-07-05 10:30:51,645]\u001b[0m Trial 5 finished with value: 1.2432599067687988 and parameters: {'filters1': 24, 'filters2': 75, 'filters3': 78, 'lin1': 43, 'lin2': 105, 'weight_init': 'uniform', 'optim': 'AdamW', 'lr': 0.0011651339835013143}. Best is trial 4 with value: 0.41704061627388.\u001b[0m\n",
            "\u001b[32m[I 2022-07-05 10:32:02,427]\u001b[0m Trial 6 finished with value: 0.3593345582485199 and parameters: {'filters1': 18, 'filters2': 97, 'filters3': 93, 'lin1': 86, 'lin2': 163, 'weight_init': 'uniform', 'optim': 'SGD', 'lr': 0.00754136603144602}. Best is trial 6 with value: 0.3593345582485199.\u001b[0m\n",
            "\u001b[32m[I 2022-07-05 10:33:14,410]\u001b[0m Trial 7 finished with value: 0.7103844285011292 and parameters: {'filters1': 27, 'filters2': 121, 'filters3': 68, 'lin1': 106, 'lin2': 172, 'weight_init': 'normal', 'optim': 'Adam', 'lr': 0.0005810622011901508}. Best is trial 6 with value: 0.3593345582485199.\u001b[0m\n",
            "\u001b[32m[I 2022-07-05 10:34:27,533]\u001b[0m Trial 8 finished with value: 0.42309805750846863 and parameters: {'filters1': 19, 'filters2': 69, 'filters3': 102, 'lin1': 68, 'lin2': 192, 'weight_init': 'normal', 'optim': 'AdamW', 'lr': 1.7796043936357184e-05}. Best is trial 6 with value: 0.3593345582485199.\u001b[0m\n",
            "\u001b[32m[I 2022-07-05 10:35:41,041]\u001b[0m Trial 9 finished with value: 1.4869896173477173 and parameters: {'filters1': 32, 'filters2': 96, 'filters3': 106, 'lin1': 77, 'lin2': 122, 'weight_init': 'normal', 'optim': 'AdamW', 'lr': 0.0017739509252549925}. Best is trial 6 with value: 0.3593345582485199.\u001b[0m\n",
            "\u001b[32m[I 2022-07-05 10:36:51,201]\u001b[0m Trial 10 finished with value: 0.4004298746585846 and parameters: {'filters1': 16, 'filters2': 88, 'filters3': 124, 'lin1': 100, 'lin2': 157, 'weight_init': 'uniform', 'optim': 'SGD', 'lr': 0.00897549306404307}. Best is trial 6 with value: 0.3593345582485199.\u001b[0m\n",
            "\u001b[32m[I 2022-07-05 10:38:01,898]\u001b[0m Trial 11 finished with value: 0.35794344544410706 and parameters: {'filters1': 16, 'filters2': 87, 'filters3': 119, 'lin1': 103, 'lin2': 160, 'weight_init': 'uniform', 'optim': 'SGD', 'lr': 0.008323965296656076}. Best is trial 11 with value: 0.35794344544410706.\u001b[0m\n",
            "\u001b[32m[I 2022-07-05 10:39:12,051]\u001b[0m Trial 12 finished with value: 0.3616849184036255 and parameters: {'filters1': 19, 'filters2': 87, 'filters3': 120, 'lin1': 124, 'lin2': 157, 'weight_init': 'uniform', 'optim': 'SGD', 'lr': 0.008998238977680564}. Best is trial 11 with value: 0.35794344544410706.\u001b[0m\n",
            "\u001b[32m[I 2022-07-05 10:40:22,326]\u001b[0m Trial 13 finished with value: 0.3701234757900238 and parameters: {'filters1': 22, 'filters2': 111, 'filters3': 91, 'lin1': 92, 'lin2': 175, 'weight_init': 'uniform', 'optim': 'SGD', 'lr': 0.0030819722412729726}. Best is trial 11 with value: 0.35794344544410706.\u001b[0m\n",
            "\u001b[32m[I 2022-07-05 10:41:31,535]\u001b[0m Trial 14 finished with value: 0.3729991316795349 and parameters: {'filters1': 16, 'filters2': 86, 'filters3': 84, 'lin1': 118, 'lin2': 147, 'weight_init': 'uniform', 'optim': 'SGD', 'lr': 0.00356655311488042}. Best is trial 11 with value: 0.35794344544410706.\u001b[0m\n",
            "\u001b[32m[I 2022-07-05 10:42:41,263]\u001b[0m Trial 15 finished with value: 0.44328099489212036 and parameters: {'filters1': 18, 'filters2': 94, 'filters3': 118, 'lin1': 89, 'lin2': 184, 'weight_init': 'uniform', 'optim': 'SGD', 'lr': 0.0001994051885486843}. Best is trial 11 with value: 0.35794344544410706.\u001b[0m\n",
            "\u001b[32m[I 2022-07-05 10:43:52,704]\u001b[0m Trial 16 finished with value: 0.3407837450504303 and parameters: {'filters1': 22, 'filters2': 105, 'filters3': 98, 'lin1': 114, 'lin2': 136, 'weight_init': 'uniform', 'optim': 'SGD', 'lr': 0.004274363008843705}. Best is trial 16 with value: 0.3407837450504303.\u001b[0m\n",
            "\u001b[32m[I 2022-07-05 10:45:02,997]\u001b[0m Trial 17 finished with value: 0.3742082417011261 and parameters: {'filters1': 25, 'filters2': 108, 'filters3': 113, 'lin1': 109, 'lin2': 136, 'weight_init': 'uniform', 'optim': 'SGD', 'lr': 0.003066055406878022}. Best is trial 16 with value: 0.3407837450504303.\u001b[0m\n",
            "\u001b[32m[I 2022-07-05 10:46:13,338]\u001b[0m Trial 18 finished with value: 0.38637569546699524 and parameters: {'filters1': 22, 'filters2': 82, 'filters3': 98, 'lin1': 128, 'lin2': 121, 'weight_init': 'uniform', 'optim': 'SGD', 'lr': 0.0004678212208470526}. Best is trial 16 with value: 0.3407837450504303.\u001b[0m\n",
            "\u001b[32m[I 2022-07-05 10:47:23,899]\u001b[0m Trial 19 finished with value: 0.4700157344341278 and parameters: {'filters1': 32, 'filters2': 107, 'filters3': 126, 'lin1': 114, 'lin2': 131, 'weight_init': 'uniform', 'optim': 'SGD', 'lr': 9.761279627273037e-05}. Best is trial 16 with value: 0.3407837450504303.\u001b[0m\n"
          ]
        }
      ]
    },
    {
      "cell_type": "code",
      "source": [
        "study.best_params"
      ],
      "metadata": {
        "colab": {
          "base_uri": "https://localhost:8080/"
        },
        "id": "xqVdT4sPAVA4",
        "outputId": "c0e3ddf5-174a-4d66-e714-6257d3ebe3a2"
      },
      "execution_count": 11,
      "outputs": [
        {
          "output_type": "execute_result",
          "data": {
            "text/plain": [
              "{'filters1': 22,\n",
              " 'filters2': 105,\n",
              " 'filters3': 98,\n",
              " 'lin1': 114,\n",
              " 'lin2': 136,\n",
              " 'lr': 0.004274363008843705,\n",
              " 'optim': 'SGD',\n",
              " 'weight_init': 'uniform'}"
            ]
          },
          "metadata": {},
          "execution_count": 11
        }
      ]
    },
    {
      "cell_type": "code",
      "execution_count": 12,
      "metadata": {
        "colab": {
          "base_uri": "https://localhost:8080/"
        },
        "id": "MkTHQCrxyh9g",
        "outputId": "276c9dcf-bd1d-4c1c-d4af-eab1495e0bb2"
      },
      "outputs": [
        {
          "output_type": "stream",
          "name": "stdout",
          "text": [
            "[9999/10000] >>> Accuracy score: 0.92010\n",
            "Model correctly classified 92.01% of the test set.\n"
          ]
        }
      ],
      "source": [
        "gc.collect()\n",
        "torch.cuda.empty_cache()\n",
        "\n",
        "best_params = {\n",
        "    'conv1': {'filters1': study.best_params['filters1'],\n",
        "                'k1': 3},\n",
        "    'conv2': {'filters2': study.best_params['filters2'],\n",
        "                'k2': 3},\n",
        "    'conv3': {'filters3': study.best_params['filters3'],\n",
        "                'k3': 3},\n",
        "    'lin1' : study.best_params['lin1'],\n",
        "    'lin2' : study.best_params['lin2']\n",
        "}\n",
        "classifier = nt.CNN2d(28, best_params, device,\n",
        "                   init_weight=study.best_params['weight_init'], batch_norm=True)\n",
        "classifier.to(device)\n",
        "\n",
        "optim = getattr(torch.optim, study.best_params['optim'])(\n",
        "    classifier.parameters(), lr=study.best_params['lr'],\n",
        "    weight_decay=1e-5)\n",
        "\n",
        "loss_fn = nn.CrossEntropyLoss()\n",
        "\n",
        "val_loss = nt.train_model(classifier, train_dataloader, val_dataloader, 30, loss_fn, optim)\n",
        "test_score = classifier.score(test_dataloader)\n",
        "print(f\"\\nModel correctly classified {test_score*100:.2f}% of the test set.\")\n"
      ]
    },
    {
      "cell_type": "code",
      "execution_count": 13,
      "metadata": {
        "id": "Cyx0xVo0yh9h"
      },
      "outputs": [],
      "source": [
        "torch.save(classifier, 'best_model.pt')"
      ]
    },
    {
      "cell_type": "code",
      "execution_count": 3,
      "metadata": {
        "colab": {
          "base_uri": "https://localhost:8080/"
        },
        "id": "VrEtml-vyh9i",
        "outputId": "efb14ff3-8368-4707-ee42-c580b066948b"
      },
      "outputs": [
        {
          "output_type": "execute_result",
          "data": {
            "text/plain": [
              "CNN2d(\n",
              "  (features): Sequential(\n",
              "    (0): Conv2d(1, 22, kernel_size=(3, 3), stride=(1, 1), padding=valid)\n",
              "    (1): ReLU(inplace=True)\n",
              "    (2): MaxPool2d(kernel_size=2, stride=1, padding=1, dilation=1, ceil_mode=False)\n",
              "    (3): BatchNorm2d(22, eps=1e-05, momentum=0.1, affine=True, track_running_stats=True)\n",
              "    (4): Conv2d(22, 105, kernel_size=(3, 3), stride=(1, 1), padding=valid)\n",
              "    (5): ReLU(inplace=True)\n",
              "    (6): MaxPool2d(kernel_size=2, stride=1, padding=0, dilation=1, ceil_mode=False)\n",
              "    (7): BatchNorm2d(105, eps=1e-05, momentum=0.1, affine=True, track_running_stats=True)\n",
              "    (8): Conv2d(105, 98, kernel_size=(3, 3), stride=(1, 1), padding=valid)\n",
              "    (9): ReLU(inplace=True)\n",
              "    (10): MaxPool2d(kernel_size=2, stride=1, padding=0, dilation=1, ceil_mode=False)\n",
              "    (11): BatchNorm2d(98, eps=1e-05, momentum=0.1, affine=True, track_running_stats=True)\n",
              "  )\n",
              "  (classifier): Sequential(\n",
              "    (0): Linear(in_features=43218, out_features=114, bias=True)\n",
              "    (1): ReLU(inplace=True)\n",
              "    (2): Dropout(p=0.4, inplace=False)\n",
              "    (3): Linear(in_features=114, out_features=136, bias=True)\n",
              "    (4): ReLU(inplace=True)\n",
              "    (5): Dropout(p=0.2, inplace=False)\n",
              "    (6): Linear(in_features=136, out_features=10, bias=True)\n",
              "  )\n",
              ")"
            ]
          },
          "metadata": {},
          "execution_count": 3
        }
      ],
      "source": [
        "cnn = torch.load('best_model.pt')\n",
        "cnn.device = device\n",
        "cnn.to(device)\n",
        "\n",
        "# cnn.score(test_dataloader)"
      ]
    },
    {
      "cell_type": "code",
      "source": [
        ""
      ],
      "metadata": {
        "id": "_uWu6NZe4jha"
      },
      "execution_count": 3,
      "outputs": []
    },
    {
      "cell_type": "code",
      "execution_count": 4,
      "metadata": {
        "colab": {
          "base_uri": "https://localhost:8080/",
          "height": 380
        },
        "id": "yfnRgAD-yh9i",
        "outputId": "09c3bd82-67ae-471b-a474-4b153df46eed"
      },
      "outputs": [
        {
          "output_type": "stream",
          "name": "stdout",
          "text": [
            "1\n"
          ]
        },
        {
          "output_type": "display_data",
          "data": {
            "text/plain": [
              "<Figure size 1296x576 with 18 Axes>"
            ],
            "image/png": "[encoded data removed]"
          },
          "metadata": {
            "needs_background": "light"
          }
        }
      ],
      "source": [
        "cnn_iter = cnn.children()\n",
        "def get_layer_output(input_img, model, layer_ord, device):\n",
        "    model_iter = model.children()\n",
        "    out_img = input_img.unsqueeze(0).unsqueeze(0).to(device)\n",
        "    for i in range(layer_ord+1):\n",
        "        out_img = next(model_iter)(out_img)\n",
        "\n",
        "    return out_img.squeeze(0).cpu().detach().numpy()\n",
        "\n",
        "\n",
        "\n",
        "feat_part = next(cnn_iter)\n",
        "seq_part = next(cnn_iter)\n",
        "\n",
        "index0 = test_dataset.targets == 0\n",
        "index6 = test_dataset.targets == 6\n",
        "\n",
        "#Find misclassified sample\n",
        "shirts = test_dataset.data[index0].float()\n",
        "for i, img in enumerate(shirts):\n",
        "    model_out = torch.argmax(cnn.predict(img.unsqueeze(0).unsqueeze(0).to(device))).item()\n",
        "    if (model_out == 6):\n",
        "        print(i)\n",
        "        break\n",
        "\n",
        "rand_img = test_dataset.data[index0][i].float()\n",
        "out_img = get_layer_output(rand_img, feat_part, 5, device)\n",
        "\n",
        "\n",
        "fig = plt.figure(figsize=(18,8))\n",
        "subfigs = fig.subfigures(1,2)\n",
        "\n",
        "left_axs = subfigs[0].subplots(4, 4)\n",
        "for ax, out in zip(left_axs.flatten(), out_img):\n",
        "    ax.imshow(-out, cmap='Greys')\n",
        "    ax.axis('off')\n",
        "\n",
        "right_axs = subfigs[1].subplots(1,1)\n",
        "sample_filter = right_axs.imshow(-rand_img, cmap='Greys')\n",
        "right_axs.axis('off')\n",
        "\n",
        "cbar = fig.colorbar(sample_filter, ax=left_axs, location=\"right\")\n",
        "fig.show()"
      ]
    },
    {
      "cell_type": "code",
      "source": [
        ""
      ],
      "metadata": {
        "id": "p9qMP1Dzajtg"
      },
      "execution_count": null,
      "outputs": []
    },
    {
      "cell_type": "code",
      "source": [
        "fig, axs = plt.subplots(4,4, figsize=(8,8), tight_layout='pad')\n",
        "for ax, out in zip(axs.flatten(), out_img):\n",
        "    ax.imshow(-out, cmap='Greys')\n",
        "    ax.axis('off')\n",
        "\n",
        "fig.savefig('receptive_1.pdf')"
      ],
      "metadata": {
        "id": "cq48nyHTiUN7",
        "outputId": "54947e79-af17-4128-f6b5-080a0d8e4f74",
        "colab": {
          "base_uri": "https://localhost:8080/",
          "height": 585
        }
      },
      "execution_count": 5,
      "outputs": [
        {
          "output_type": "display_data",
          "data": {
            "text/plain": [
              "<Figure size 576x576 with 16 Axes>"
            ],
            "image/png": "[encoded data removed]"
          },
          "metadata": {
            "needs_background": "light"
          }
        }
      ]
    },
    {
      "cell_type": "code",
      "source": [
        "label_pred = torch.zeros(len(test_dataloader)).to(device)\n",
        "for i, sample_batch in enumerate(test_dataloader):\n",
        "    x = sample_batch[0].to(device)\n",
        "    label_pred[i] = torch.argmax(cnn.predict(x), dim=1).item()"
      ],
      "metadata": {
        "id": "EEcvN2CIbxyc"
      },
      "execution_count": 6,
      "outputs": []
    },
    {
      "cell_type": "code",
      "source": [
        "true_labels = test_dataloader.dataset.targets\n",
        "\n",
        "from sklearn.metrics import confusion_matrix\n",
        "import seaborn as sns\n",
        "\n",
        "conf_mat = confusion_matrix(true_labels, label_pred.cpu().numpy())\n",
        "cleaned_confmat = np.copy(conf_mat)\n",
        "for i, diag_elem in enumerate(np.diag(conf_mat)):\n",
        "    cleaned_confmat[i,i] -= diag_elem\n",
        "fig = plt.figure(figsize=(11,9))\n",
        "conf_plot = sns.heatmap(conf_mat, fmt='d', annot=True, cmap='Blues', annot_kws={\"fontsize\":16})\n",
        "fig.add_subplot(conf_plot)\n",
        "\n",
        "fig.savefig('images/confusion_matrix.pdf')"
      ],
      "metadata": {
        "id": "azgh049tMxo2"
      },
      "execution_count": null,
      "outputs": []
    },
    {
      "cell_type": "code",
      "source": [
        "weight_arri = [layer._parameters['weight'].cpu().detach().numpy() for layer in seq_part if type(layer) == torch.nn.modules.linear.Linear]\n"
      ],
      "metadata": {
        "id": "yCBwUQktr-OZ"
      },
      "execution_count": null,
      "outputs": []
    },
    {
      "cell_type": "code",
      "source": [
        "weight_arri[-3].shape"
      ],
      "metadata": {
        "id": "7F5HD6ksXxSb",
        "outputId": "d107b9fa-002b-4b15-c7ac-921518e15bfe",
        "colab": {
          "base_uri": "https://localhost:8080/"
        }
      },
      "execution_count": 24,
      "outputs": [
        {
          "output_type": "execute_result",
          "data": {
            "text/plain": [
              "torch.Size([4926852])"
            ]
          },
          "metadata": {},
          "execution_count": 24
        }
      ]
    },
    {
      "cell_type": "code",
      "execution_count": 83,
      "metadata": {
        "id": "S_Nrp0wyyh9j",
        "outputId": "1437906a-8f21-46d0-8fd9-587b69acb57c",
        "colab": {
          "base_uri": "https://localhost:8080/",
          "height": 716
        }
      },
      "outputs": [
        {
          "output_type": "stream",
          "name": "stderr",
          "text": [
            "/usr/local/lib/python3.7/dist-packages/seaborn/distributions.py:376: FutureWarning:\n",
            "\n",
            "elementwise comparison failed; returning scalar instead, but in the future will perform elementwise comparison\n",
            "\n",
            "/usr/local/lib/python3.7/dist-packages/seaborn/distributions.py:376: FutureWarning:\n",
            "\n",
            "elementwise comparison failed; returning scalar instead, but in the future will perform elementwise comparison\n",
            "\n",
            "/usr/local/lib/python3.7/dist-packages/seaborn/distributions.py:376: FutureWarning:\n",
            "\n",
            "elementwise comparison failed; returning scalar instead, but in the future will perform elementwise comparison\n",
            "\n",
            "/usr/local/lib/python3.7/dist-packages/seaborn/distributions.py:376: FutureWarning:\n",
            "\n",
            "elementwise comparison failed; returning scalar instead, but in the future will perform elementwise comparison\n",
            "\n",
            "/usr/local/lib/python3.7/dist-packages/seaborn/distributions.py:376: FutureWarning:\n",
            "\n",
            "elementwise comparison failed; returning scalar instead, but in the future will perform elementwise comparison\n",
            "\n",
            "/usr/local/lib/python3.7/dist-packages/seaborn/distributions.py:376: FutureWarning:\n",
            "\n",
            "elementwise comparison failed; returning scalar instead, but in the future will perform elementwise comparison\n",
            "\n"
          ]
        },
        {
          "output_type": "display_data",
          "data": {
            "text/plain": [
              "<Figure size 1296x432 with 3 Axes>"
            ],
            "image/png": "[encoded data removed]"
          },
          "metadata": {}
        }
      ],
      "source": [
        "%matplotlib inline\n",
        "import seaborn as sns\n",
        "sns.set_theme()\n",
        "cnn.reset_model()\n",
        "cnn_iter = cnn.children()\n",
        "feat_part = next(cnn_iter)\n",
        "seq_part = next(cnn_iter)\n",
        "\n",
        "datamin = [-0.05, -0.4, -0.3]\n",
        "datamax = [0.05, 0.4, 0.3]\n",
        "numbins = [800, 50, 25]\n",
        "\n",
        "\n",
        "weight_arri = [\n",
        "    layer._parameters['weight'].cpu().ravel()\n",
        "    for layer in seq_part\n",
        "    if type(layer) == torch.nn.modules.linear.Linear\n",
        "    ]\n",
        "\n",
        "mybins = [torch.linspace(dmin, dmax, nbins) \n",
        "    for dmin, dmax, nbins in zip(datamin, datamax, numbins)]\n",
        "\n",
        "fig, axs = plt.subplots(1,len(weight_arri), figsize=(18, 6), tight_layout='pad')\n",
        "\n",
        "for i, (ax, weights, bins) in enumerate(zip(axs, weight_arri, mybins)):\n",
        "    counts, bs = torch.histogram(weights, bins=bins)\n",
        "    df = pd.DataFrame(data={'counts': counts.detach().numpy(),\n",
        "                            'weights' : bs.detach().numpy()[:-1]})\n",
        "    sns.histplot(data=df,\n",
        "            x='weights',\n",
        "            weights='counts',\n",
        "            bins=bs.detach().numpy(),\n",
        "            alpha=0.9,\n",
        "            stat='density',\n",
        "            ax=ax,\n",
        "            color='orange',\n",
        "            label='Initial',\n",
        "            element='step')\n",
        "    ax.set_title(f'LIN{i+1}')\n",
        "\n",
        "\n",
        "cnn = torch.load('best_model.pt')\n",
        "cnn_iter = cnn.children()\n",
        "feat_part = next(cnn_iter)\n",
        "seq_part = next(cnn_iter)\n",
        "\n",
        "weight_arrf = [\n",
        "    layer._parameters['weight'].cpu().ravel()\n",
        "    for layer in seq_part\n",
        "    if type(layer) == torch.nn.modules.linear.Linear]\n",
        "\n",
        "for i, (ax, weights, bins) in enumerate(zip(axs, weight_arrf, mybins)):\n",
        "    counts, bs = torch.histogram(weights, bins=bins)\n",
        "    df = pd.DataFrame(data={'counts': counts.detach().numpy(),\n",
        "                            'weights' : bs.detach().numpy()[:-1]})\n",
        "    sns.histplot(data=df,\n",
        "            x='weights',\n",
        "            weights='counts',\n",
        "            bins=bs.detach().numpy(),\n",
        "            alpha=.7,\n",
        "            stat='density',\n",
        "            ax=ax,\n",
        "            color='blue',\n",
        "            label='Final',\n",
        "            element='step')\n",
        "    ax.set_title(f'LIN{i+1}')\n",
        "\n",
        "\n",
        "# fig, axs = plt.subplots(1, len(weight_arri), figsize=(16,7), tight_layout='pad')\n",
        "# for ax, arri, arrf, bins in zip(axs, weight_arri, weight_arrf, mybins):\n",
        "#     counts, bins, _ = ax.hist(arri, bins=bins, alpha=0.9, label='Initial weights', density=True)\n",
        "#     counts, bins, _ = ax.hist(arrf, bins=bins, alpha=0.5, label='Trained weights', density=True)\n",
        "\n",
        "\n",
        "\n",
        "# axs.hist(bins.detach().numpy()[:-1], weights=counts.detach().numpy(), bins=bins.detach().numpy()[:-1])\n",
        "handles, labels = ax.get_legend_handles_labels()\n",
        "fig.legend(handles, labels, loc=(.92,.8), fontsize=14, frameon=False, )\n",
        "fig.show()\n",
        "# fig.savefig('images/weight_evo.pdf')"
      ]
    },
    {
      "cell_type": "code",
      "source": [
        "fig.savefig('images/weight_hists.pdf')"
      ],
      "metadata": {
        "id": "kQvWZkndaB-W"
      },
      "execution_count": 84,
      "outputs": []
    },
    {
      "cell_type": "code",
      "source": [
        "weight_arri[-1].detach().numpy()"
      ],
      "metadata": {
        "id": "Kwh9yQbzHOgi",
        "outputId": "b3cf076d-e19d-4a7e-ff86-316924143817",
        "colab": {
          "base_uri": "https://localhost:8080/"
        }
      },
      "execution_count": 85,
      "outputs": [
        {
          "output_type": "execute_result",
          "data": {
            "text/plain": [
              "array([-0.1621519 , -0.01003501, -0.06159965, ...,  0.0858817 ,\n",
              "        0.1618789 , -0.0233944 ], dtype=float32)"
            ]
          },
          "metadata": {},
          "execution_count": 85
        }
      ]
    },
    {
      "cell_type": "code",
      "source": [
        "cnn.reset_model()\n",
        "cnn_iter = cnn.children()\n",
        "feat_part = next(cnn_iter)\n",
        "seq_part = next(cnn_iter)\n",
        "\n",
        "weight_arri = [layer._parameters['weight'].cpu().detach().numpy() for layer in seq_part if type(layer) == torch.nn.modules.linear.Linear]\n",
        "\n",
        "\n",
        "cnn = torch.load('best_model.pt')\n",
        "cnn_iter = cnn.children()\n",
        "feat_part = next(cnn_iter)\n",
        "seq_part = next(cnn_iter)\n",
        "\n",
        "weight_arrf = [layer._parameters['weight'].cpu().detach().numpy() for layer in seq_part if type(layer) == torch.nn.modules.linear.Linear]\n",
        "\n",
        "\n",
        "fig, axs = plt.subplots(1, 1, figsize=(16,7), tight_layout='pad')\n",
        "\n",
        "datamin = -0.2\n",
        "datamax = 0.2\n",
        "numbins = 5000\n",
        "mybins = np.array([np.linspace(datamin, datamax, numbins) for i in range(len(weight_arri))])\n",
        "\n",
        "axs.hist(weight_arri[0], bins=mybins, density=True)\n",
        "axs.hist(weight_arrf[0], bins=mybins, density=True)\n"
      ],
      "metadata": {
        "id": "URcMb1hjnLDp",
        "outputId": "d69b3370-1701-4049-e159-56813bba2beb",
        "colab": {
          "base_uri": "https://localhost:8080/",
          "height": 130
        }
      },
      "execution_count": 1,
      "outputs": [
        {
          "output_type": "error",
          "ename": "SyntaxError",
          "evalue": "ignored",
          "traceback": [
            "\u001b[0;36m  File \u001b[0;32m\"<ipython-input-1-64aed95e61f9>\"\u001b[0;36m, line \u001b[0;32m21\u001b[0m\n\u001b[0;31m    mybins = np.array([np.linspace(datamin, datamax, numbins) for i in range(len(weight_arri)])\u001b[0m\n\u001b[0m                                                                                             ^\u001b[0m\n\u001b[0;31mSyntaxError\u001b[0m\u001b[0;31m:\u001b[0m invalid syntax\n"
          ]
        }
      ]
    },
    {
      "cell_type": "code",
      "execution_count": null,
      "metadata": {
        "id": "LzCmy1pyyh9j"
      },
      "outputs": [],
      "source": [
        "test_conv = cnn.state_dict()['features.0.weight'][0].squeeze(0).squeeze(0).numpy()\n",
        "\n",
        "fig1, axs1 = plt.subplots(5,cnn.state_dict()['features.0.weight'].shape[0]//4, figsize=(16, 8))\n",
        "for i, conv_filter in enumerate(cnn.state_dict()['features.0.weight']):\n",
        "    plot_filter = conv_filter.squeeze(0).squeeze(0).numpy()\n",
        "    axs1.flatten()[i].imshow(plot_filter, cmap='gray')\n",
        "    axs1.flatten()[i].axis('off')"
      ]
    },
    {
      "cell_type": "code",
      "execution_count": null,
      "metadata": {
        "id": "q2U67dYjyh9j"
      },
      "outputs": [],
      "source": [
        "fig2, axs2 = plt.subplots(*tuple(cnn.state_dict()['features.4.weight'].size()[:2][::-1]), figsize = (16, 14))\n",
        "\n",
        "plot_ct = 0\n",
        "for filters in cnn.state_dict()['features.4.weight']:\n",
        "    for conv_filter in filters:\n",
        "        plot_filter = conv_filter.cpu().detach().numpy()\n",
        "        axs2.flatten()[plot_ct].imshow(plot_filter, cmap='gray')\n",
        "        axs2.flatten()[plot_ct].axis(\"off\")\n",
        "        plot_ct+=1"
      ]
    },
    {
      "cell_type": "code",
      "execution_count": null,
      "metadata": {
        "id": "6g_wpxaYyh9j"
      },
      "outputs": [],
      "source": [
        "plot_filter"
      ]
    },
    {
      "cell_type": "code",
      "execution_count": null,
      "metadata": {
        "id": "DGDui9zHyh9k"
      },
      "outputs": [],
      "source": [
        "cnn.state_dict()['model.3.weight'].shape"
      ]
    },
    {
      "cell_type": "code",
      "execution_count": null,
      "metadata": {
        "id": "hwde9vmlyh9k"
      },
      "outputs": [],
      "source": [
        "layer1 = cnn.state_dict()['model.0.weight']\n",
        "layer1.shape[0]"
      ]
    },
    {
      "cell_type": "code",
      "execution_count": null,
      "metadata": {
        "id": "o2iwO7cwyh9k"
      },
      "outputs": [],
      "source": [
        "X_val = full_set.data\n",
        "y_val = full_set.targets\n",
        "\n",
        "X_val = X_val.unsqueeze(1).type('torch.FloatTensor')"
      ]
    },
    {
      "cell_type": "code",
      "execution_count": null,
      "metadata": {
        "id": "64xPTje2yh9k"
      },
      "outputs": [],
      "source": [
        "params = {\n",
        "    'lr' : [0.1, 0.01, 0.001],\n",
        "    'max_epochs' : [30, 50, 80],\n",
        "    'module__conv1_filters' : randint(2, 6),\n",
        "    'module__k_size1' : randint(2, 5),\n",
        "    'module__conv2_filters' : randint(2, 8),\n",
        "    'module__k_size2' : randint(2, 4),\n",
        "    'module__Nd1' : randint(10, 25),\n",
        "    'module__Nd2' :randint(8, 20),\n",
        "    'optimizer' : [optim.Adam, optim.Adagrad, optim.SGD]\n",
        "    }\n",
        "\n",
        "grid_search = RandomizedSearchCV(net, params, refit = False, n_iter = 6, cv = 4, scoring = 'neg_log_loss', error_score = 'raise')\n",
        "\n",
        "grid_search.fit(X_val, y_val)\n",
        "\n",
        "print(grid_search.best_score_, grid_search.best_params_)"
      ]
    },
    {
      "cell_type": "code",
      "execution_count": null,
      "metadata": {
        "id": "irAHRhBbyh9l"
      },
      "outputs": [],
      "source": [
        "net.history[:, ('train_loss', 'valid_loss')]\n",
        "\n",
        "plt.plot(range(net.max_epochs), net.history[:, 'train_loss'])\n",
        "plt.plot(range(net.max_epochs), net.history[:, 'valid_loss'])"
      ]
    },
    {
      "cell_type": "code",
      "execution_count": null,
      "metadata": {
        "id": "NPA1WYYryh9l"
      },
      "outputs": [],
      "source": [
        "cnn = torch.load('CNN_model.pt')"
      ]
    },
    {
      "cell_type": "code",
      "execution_count": null,
      "metadata": {
        "id": "NCxz2z5Cyh9l"
      },
      "outputs": [],
      "source": [
        "test_dataloader = DataLoader(test_dataset, batch_size = 1, shuffle = True, num_workers = 0)\n",
        "test_accuracy = cnn.accuracy(test_dataloader)\n",
        "print(f\"Accuracy on test set: {test_accuracy*100:.3f}%\")"
      ]
    },
    {
      "cell_type": "code",
      "execution_count": null,
      "metadata": {
        "id": "FmL6Uwtiyh9l"
      },
      "outputs": [],
      "source": [
        "model = torch.hub.load('pytorch/vision:v0.10.0', 'alexnet')\n",
        "\n"
      ]
    }
  ],
  "metadata": {
    "interpreter": {
      "hash": "c1f96f6539f1713d27f1f8584c8424ceafd536b819980222d97486153c70b5fa"
    },
    "kernelspec": {
      "display_name": "Python 3.9.7 ('torch')",
      "language": "python",
      "name": "python3"
    },
    "language_info": {
      "codemirror_mode": {
        "name": "ipython",
        "version": 3
      },
      "file_extension": ".py",
      "mimetype": "text/x-python",
      "name": "python",
      "nbconvert_exporter": "python",
      "pygments_lexer": "ipython3",
      "version": "3.9.7"
    },
    "colab": {
      "name": "CNN_db.ipynb",
      "provenance": [],
      "machine_shape": "hm"
    },
    "accelerator": "GPU",
    "gpuClass": "standard"
  },
  "nbformat": 4,
  "nbformat_minor": 0
}