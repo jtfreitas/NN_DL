{
  "cells": [
    {
      "cell_type": "markdown",
      "metadata": {
        "id": "view-in-github",
        "colab_type": "text"
      },
      "source": [
        "<a href=\"https://colab.research.google.com/github/jtfreitas/NN_DL/blob/main/HW2/hw2.ipynb\" target=\"_parent\"><img src=\"https://colab.research.google.com/assets/colab-badge.svg\" alt=\"Open In Colab\"/></a>"
      ]
    },
    {
      "cell_type": "code",
      "execution_count": 2,
      "metadata": {
        "colab": {
          "base_uri": "https://localhost:8080/"
        },
        "id": "wToLxLknrcTH",
        "outputId": "600b95ec-2792-46da-8579-cecfeb64bce5"
      },
      "outputs": [
        {
          "output_type": "stream",
          "name": "stdout",
          "text": [
            "\u001b[K     |████████████████████████████████| 308 kB 14.5 MB/s \n",
            "\u001b[K     |████████████████████████████████| 81 kB 5.7 MB/s \n",
            "\u001b[K     |████████████████████████████████| 209 kB 54.9 MB/s \n",
            "\u001b[K     |████████████████████████████████| 78 kB 4.7 MB/s \n",
            "\u001b[K     |████████████████████████████████| 49 kB 6.0 MB/s \n",
            "\u001b[K     |████████████████████████████████| 147 kB 61.3 MB/s \n",
            "\u001b[K     |████████████████████████████████| 112 kB 83.1 MB/s \n",
            "\u001b[?25h  Building wheel for pyperclip (setup.py) ... \u001b[?25l\u001b[?25hdone\n",
            "\u001b[K     |████████████████████████████████| 8.4 MB 15.0 MB/s \n",
            "\u001b[K     |████████████████████████████████| 344 kB 72.4 MB/s \n",
            "\u001b[K     |████████████████████████████████| 59.9 MB 1.1 MB/s \n",
            "\u001b[?25h"
          ]
        }
      ],
      "source": [
        "!pip install -q optuna\n",
        "!pip install -q PyQt5\n",
        "!wget -q -O vae_tools.py https://raw.githubusercontent.com/jtfreitas/NN_DL/main/HW2/vae_tools.py"
      ]
    },
    {
      "cell_type": "code",
      "execution_count": 3,
      "metadata": {
        "id": "UINMVBEgeTo2"
      },
      "outputs": [],
      "source": [
        "%load_ext autoreload\n",
        "%autoreload 2"
      ]
    },
    {
      "cell_type": "code",
      "execution_count": 4,
      "metadata": {
        "colab": {
          "base_uri": "https://localhost:8080/"
        },
        "id": "CWdJEaeirWOq",
        "outputId": "8034e39a-811c-412f-f648-c216fa924c5a"
      },
      "outputs": [
        {
          "output_type": "stream",
          "name": "stdout",
          "text": [
            "Device in use: cuda\n",
            "Random seed: 69420\n"
          ]
        }
      ],
      "source": [
        "import random\n",
        "from tqdm import tqdm\n",
        "from IPython.display import HTML\n",
        "\n",
        "import torch\n",
        "import torch.nn as nn\n",
        "import torch.backends.cudnn as cudnn\n",
        "from torch.utils.data import DataLoader\n",
        "\n",
        "import torchvision\n",
        "from torchvision import transforms\n",
        "from torchvision import utils as vutils\n",
        "import optuna\n",
        "\n",
        "import numpy as np\n",
        "import pandas as pd\n",
        "import matplotlib.pyplot as plt\n",
        "import matplotlib.animation as animation\n",
        "import matplotlib.image as mpimg\n",
        "from matplotlib.ticker import MaxNLocator\n",
        "from matplotlib import cm\n",
        "\n",
        "import json\n",
        "#Custom module with class definitions and model training utilities\n",
        "#in order to keep notebook as procedural as possible\n",
        "import vae_tools as vt\n",
        "\n",
        "seed = 69420\n",
        "\n",
        "# Use GPU if available\n",
        "device = torch.device(\n",
        "    \"cuda\") if torch.cuda.is_available() else torch.device(\"cpu\")\n",
        "\n",
        "print(f\"Device in use: {device}\")\n",
        "\n",
        "random.seed(seed)\n",
        "torch.manual_seed(seed)\n",
        "print(f\"Random seed: {seed}\")"
      ]
    },
    {
      "cell_type": "code",
      "execution_count": 5,
      "metadata": {
        "colab": {
          "base_uri": "https://localhost:8080/",
          "height": 423,
          "referenced_widgets": [
            "e07bc50d558d4653b53fdadd8e71fa0b",
            "305d7f1669ce4ffeb7066726da76f7c2",
            "0bff13c4cf734eb693429cb0e8b36ef7",
            "aba4f596820d44c182455cc3f63a54d1",
            "d188efa423154cd4883d93e6b9383594",
            "99b57baece6d4b6fa78a1657ada9413b",
            "5b17611a8025468aa551fd60b0aceb25",
            "e177982b15b046888743b4b910b30219",
            "cc5d947dc6cf431295944c1669950d58",
            "4e4fe3f4c61b47dda752c422b4d905b0",
            "381b623ca2f6402a82d5115601a5f733",
            "c4d6a9d9b2b04b5e8dd45c711af3bbc4",
            "56a8a988c07d4ab5ab94a188f9140dd6",
            "a740c2e3cb7e4c159e3233297e0552c9",
            "cd5af8cbd8ba48b3bebee56d0a74eb2f",
            "51846855dd8a4beeba8b974059e50873",
            "836b34be57504ec2ab090b8c5aad3b7c",
            "36b6839a9b9b48f1881bf7d8cd814492",
            "0014d8e5ad2448b0a9deab1cd0dd3198",
            "e8cec6a54cbb4e93b7c12a8647ca242d",
            "3c12e581b1de44a88fc4218b70f12fea",
            "0e8fe139299949c1a544b4b96ed373c0",
            "5cb9e5d1f7ca4294ba08f7a7119165b8",
            "f39e13e462b5491fa73a0595b6eb9114",
            "9cabeef229ba4492b09296d018f38ccc",
            "4a88917cd09d48318db4e0c136d12358",
            "fdb0373491a4402b864837a6e7d60556",
            "c4b36114c26e4880904521784dbb5ca7",
            "e47c97b86bbd441b8edb79979c33497d",
            "b8f1124e8434497b9cfeb05bb901c528",
            "e4065e6d6ca540c5b79fb884bfc4acb9",
            "6c1b52415eaa4046bc0c4ca6f0439c0d",
            "76f3e133f67747b1889a8ff34a14508e",
            "b611f3521e1f4a28bef1102dd3d1493a",
            "b19324bf178a43aa8f8e88a7b9cb39e5",
            "d24c082a45f64f2fb57a6aa49b40efac",
            "d3fbe58453444d30b975609afc52bdc4",
            "d940ac0b6918477cb797dedb2b5389fa",
            "f8dcec01a452420f9db183c812fdec98",
            "fc173c1006a041c7b0767f0a758df003",
            "5e6c6df34d534c2e9201c4031b642d85",
            "29a68d536f364f0e8a03bf368e5ffbb8",
            "ca198a4e58f540ba8a2a51b91b98767a",
            "e27c071a4a464350bb84e695a3de6ab2"
          ]
        },
        "id": "RjF4rL47rWOu",
        "outputId": "9acd1aca-bb8c-4418-a295-fd9350146026"
      },
      "outputs": [
        {
          "output_type": "stream",
          "name": "stdout",
          "text": [
            "Downloading http://fashion-mnist.s3-website.eu-central-1.amazonaws.com/train-images-idx3-ubyte.gz\n",
            "Downloading http://fashion-mnist.s3-website.eu-central-1.amazonaws.com/train-images-idx3-ubyte.gz to dataset/FashionMNIST/raw/train-images-idx3-ubyte.gz\n"
          ]
        },
        {
          "output_type": "display_data",
          "data": {
            "text/plain": [
              "  0%|          | 0/26421880 [00:00<?, ?it/s]"
            ],
            "application/vnd.jupyter.widget-view+json": {
              "version_major": 2,
              "version_minor": 0,
              "model_id": "e07bc50d558d4653b53fdadd8e71fa0b"
            }
          },
          "metadata": {}
        },
        {
          "output_type": "stream",
          "name": "stdout",
          "text": [
            "Extracting dataset/FashionMNIST/raw/train-images-idx3-ubyte.gz to dataset/FashionMNIST/raw\n",
            "\n",
            "Downloading http://fashion-mnist.s3-website.eu-central-1.amazonaws.com/train-labels-idx1-ubyte.gz\n",
            "Downloading http://fashion-mnist.s3-website.eu-central-1.amazonaws.com/train-labels-idx1-ubyte.gz to dataset/FashionMNIST/raw/train-labels-idx1-ubyte.gz\n"
          ]
        },
        {
          "output_type": "display_data",
          "data": {
            "text/plain": [
              "  0%|          | 0/29515 [00:00<?, ?it/s]"
            ],
            "application/vnd.jupyter.widget-view+json": {
              "version_major": 2,
              "version_minor": 0,
              "model_id": "c4d6a9d9b2b04b5e8dd45c711af3bbc4"
            }
          },
          "metadata": {}
        },
        {
          "output_type": "stream",
          "name": "stdout",
          "text": [
            "Extracting dataset/FashionMNIST/raw/train-labels-idx1-ubyte.gz to dataset/FashionMNIST/raw\n",
            "\n",
            "Downloading http://fashion-mnist.s3-website.eu-central-1.amazonaws.com/t10k-images-idx3-ubyte.gz\n",
            "Downloading http://fashion-mnist.s3-website.eu-central-1.amazonaws.com/t10k-images-idx3-ubyte.gz to dataset/FashionMNIST/raw/t10k-images-idx3-ubyte.gz\n"
          ]
        },
        {
          "output_type": "display_data",
          "data": {
            "text/plain": [
              "  0%|          | 0/4422102 [00:00<?, ?it/s]"
            ],
            "application/vnd.jupyter.widget-view+json": {
              "version_major": 2,
              "version_minor": 0,
              "model_id": "5cb9e5d1f7ca4294ba08f7a7119165b8"
            }
          },
          "metadata": {}
        },
        {
          "output_type": "stream",
          "name": "stdout",
          "text": [
            "Extracting dataset/FashionMNIST/raw/t10k-images-idx3-ubyte.gz to dataset/FashionMNIST/raw\n",
            "\n",
            "Downloading http://fashion-mnist.s3-website.eu-central-1.amazonaws.com/t10k-labels-idx1-ubyte.gz\n",
            "Downloading http://fashion-mnist.s3-website.eu-central-1.amazonaws.com/t10k-labels-idx1-ubyte.gz to dataset/FashionMNIST/raw/t10k-labels-idx1-ubyte.gz\n"
          ]
        },
        {
          "output_type": "display_data",
          "data": {
            "text/plain": [
              "  0%|          | 0/5148 [00:00<?, ?it/s]"
            ],
            "application/vnd.jupyter.widget-view+json": {
              "version_major": 2,
              "version_minor": 0,
              "model_id": "b611f3521e1f4a28bef1102dd3d1493a"
            }
          },
          "metadata": {}
        },
        {
          "output_type": "stream",
          "name": "stdout",
          "text": [
            "Extracting dataset/FashionMNIST/raw/t10k-labels-idx1-ubyte.gz to dataset/FashionMNIST/raw\n",
            "\n"
          ]
        }
      ],
      "source": [
        "#Load FashionMNIST datasets into memory\n",
        "\n",
        "data_dir = 'dataset'\n",
        "\n",
        "train_dataset = torchvision.datasets.FashionMNIST(data_dir, train=True, download=True)\n",
        "test_dataset  = torchvision.datasets.FashionMNIST(data_dir, train=False, download=True)"
      ]
    },
    {
      "cell_type": "code",
      "execution_count": 6,
      "metadata": {
        "colab": {
          "base_uri": "https://localhost:8080/",
          "height": 482
        },
        "id": "SFN_UUc4rWOv",
        "outputId": "595beef9-5801-4422-984a-4b3b0a791492"
      },
      "outputs": [
        {
          "output_type": "display_data",
          "data": {
            "text/plain": [
              "<Figure size 576x576 with 9 Axes>"
            ],
            "image/png": "[encoded data removed]"
          },
          "metadata": {
            "needs_background": "light"
          }
        }
      ],
      "source": [
        "labels_map = {\n",
        "    0: \"T-Shirt\",\n",
        "    1: \"Trouser\",\n",
        "    2: \"Pullover\",\n",
        "    3: \"Dress\",\n",
        "    4: \"Coat\",\n",
        "    5: \"Sandal\",\n",
        "    6: \"Shirt\",\n",
        "    7: \"Sneaker\",\n",
        "    8: \"Bag\",\n",
        "    9: \"Ankle Boot\",\n",
        "    }\n",
        "figure = plt.figure(figsize=(8, 8))\n",
        "cols, rows = 3, 3\n",
        "for i in range(1, cols * rows + 1):\n",
        "    sample_idx = torch.randint(len(train_dataset), size=(1,)).item()\n",
        "    img, label = train_dataset[sample_idx]\n",
        "    figure.add_subplot(rows, cols, i)\n",
        "    plt.title(labels_map[label])\n",
        "    plt.axis(\"off\")\n",
        "    plt.imshow(img, cmap=\"gray\")\n",
        "plt.show()"
      ]
    },
    {
      "cell_type": "code",
      "execution_count": 7,
      "metadata": {
        "colab": {
          "base_uri": "https://localhost:8080/"
        },
        "id": "gCVOF77srWOw",
        "outputId": "c5eca970-1c9c-428a-db45-7156e0246661"
      },
      "outputs": [
        {
          "output_type": "stream",
          "name": "stdout",
          "text": [
            "TRAIN BATCH SHAPE\n",
            "\t Data: torch.Size([256, 1, 28, 28])\n",
            "\t Labels: torch.Size([256])\n",
            "TEST BATCH SHAPE\n",
            "\t Data: torch.Size([256, 1, 28, 28])\n",
            "\t Labels: torch.Size([256])\n"
          ]
        }
      ],
      "source": [
        "# In this case the train_transform and test_transform are the same, \n",
        "# but we keep them separate for potential future updates\n",
        "MNIST_transform = transforms.Compose([\n",
        "    transforms.ToTensor(),\n",
        "    transforms.Normalize(0, 1)\n",
        "])\n",
        "### Define dataloaders\n",
        "train_dataloader = DataLoader(train_dataset,\n",
        "                            batch_size=256, shuffle=True, num_workers=2)\n",
        "test_dataloader  = DataLoader(test_dataset,\n",
        "                            batch_size=256, shuffle=False)\n",
        "\n",
        "# Include a subset used only for hyperparameter tuning to speed up process\n",
        "HP_search_subset = torch.utils.data.Subset(train_dataset,\n",
        "                                           list(range(len(train_dataset)//5 )))\n",
        "HP_search_dataloader = DataLoader(HP_search_subset,\n",
        "                                  batch_size = 120, shuffle = True)\n",
        "\n",
        "\n",
        "# Set the train, test and subset transform\n",
        "train_dataset.transform = MNIST_transform\n",
        "test_dataset.transform = MNIST_transform\n",
        "HP_search_subset.transform = MNIST_transform\n",
        "\n",
        "# Show shapes of the data for quality control\n",
        "batch_data, batch_labels = next(iter(train_dataloader))\n",
        "print(f\"TRAIN BATCH SHAPE\")\n",
        "print(f\"\\t Data: {batch_data.shape}\")\n",
        "print(f\"\\t Labels: {batch_labels.shape}\")\n",
        "\n",
        "batch_data, batch_labels = next(iter(test_dataloader))\n",
        "print(f\"TEST BATCH SHAPE\")\n",
        "print(f\"\\t Data: {batch_data.shape}\")\n",
        "print(f\"\\t Labels: {batch_labels.shape}\")"
      ]
    },
    {
      "cell_type": "code",
      "execution_count": 10,
      "metadata": {
        "id": "_p8y-VNXrWOy"
      },
      "outputs": [],
      "source": [
        "def AE_objective(trial):\n",
        "    \"\"\"\n",
        "    Performs a Bayesian-like hyperparameter search, using optuna's TPESampler.\n",
        "    This generally allows a more thorough search compared to completely random\n",
        "    sampling methods, while saving computation time compared to a complete grid\n",
        "    search, especially considering the large range of filters considered.\n",
        "    Overall, it's a good compromise between the certainty of grid-search and\n",
        "    the efficiency of a random search.\n",
        "\n",
        "    The best model is chosen based on the test data loss after five epochs.\n",
        "    \"\"\"\n",
        "\n",
        "    # Parameters in the search include number of filters, size of the first\n",
        "    # dense layer, shape of latent space, optimizer type, and finally its \n",
        "    # respective learning rate.\n",
        "    params = {\n",
        "        'conv1': {'filters': trial.suggest_int('filters1', 4, 16),\n",
        "                  'kernel': 3,\n",
        "                  'stride': 2,\n",
        "                  'padding': 1},\n",
        "        'conv2': {'filters': trial.suggest_int('filters2', 16, 32),\n",
        "                  'kernel': 3,\n",
        "                  'stride': 2,\n",
        "                  'padding': 1},\n",
        "        'conv3': {'filters': trial.suggest_int('filters3', 32, 64),\n",
        "                  'kernel': 3,\n",
        "                  'stride': 2,\n",
        "                  'padding': 0},\n",
        "        'lin1': trial.suggest_int('lin1', 64, 128),\n",
        "        'latent_space': trial.suggest_int('latent_space', 2, 20)\n",
        "    }\n",
        "\n",
        "    model = vt.Autoencoder(28, params, device)\n",
        "    model.to(device)\n",
        "\n",
        "    lr = trial.suggest_loguniform('lr', 1e-5, 5e-4)\n",
        "    params_to_optimize = [\n",
        "        {'params': model.parameters()},\n",
        "    ]\n",
        "    optim_type = trial.suggest_categorical(\n",
        "        'optimizer', ['Adam', 'Adagrad', 'AdamW'])\n",
        "    optim = getattr(torch.optim, optim_type)(params_to_optimize, lr=lr)\n",
        "    loss_fn = torch.nn.MSELoss()\n",
        "    best_loss = vt.train_AE(\n",
        "        model, 5, HP_search_dataloader, loss_fn, optim, device, verbose=False\n",
        "        )[0] \n",
        "    # Choose only the [0]th element returned by train_AE, second corresponds\n",
        "    # to the training epoch of the lowest loss.\n",
        "\n",
        "    return best_loss"
      ]
    },
    {
      "cell_type": "code",
      "execution_count": 11,
      "metadata": {
        "colab": {
          "base_uri": "https://localhost:8080/"
        },
        "id": "9wrnpGzlrWOz",
        "outputId": "7301b285-6fdc-4a5c-9529-db32817c707a"
      },
      "outputs": [
        {
          "output_type": "stream",
          "name": "stdout",
          "text": [
            "Best result achieved in trial 15 with a loss of 0.027533333748579025\n",
            "with parameters:\n",
            "filters1 : 14\n",
            "filters2 : 28\n",
            "filters3 : 58\n",
            "lin1 : 75\n",
            "latent_space : 6\n",
            "lr : 0.00044941211361373604\n",
            "optimizer : AdamW\n"
          ]
        }
      ],
      "source": [
        "optuna.logging.set_verbosity(optuna.logging.FATAL) # Disable optuna's verbose logging\n",
        "study = optuna.create_study(direction='minimize')  # Goal is to minimize the loss\n",
        "study.optimize(AE_objective, n_trials = 20)        # 20 different models are tested\n",
        "best_results = study.best_trial\n",
        "print(f\"Best result achieved in trial {best_results.number}\"\n",
        "      f\" with a loss of {best_results.value}\"\n",
        "      f\"\\nwith parameters:\")\n",
        "\n",
        "for key, value in best_results.params.items():\n",
        "    print(f\"{key} : {value}\", end='\\n')\n",
        "\n",
        "with open('best_params.json', 'w') as f:\n",
        "    json.dump(best_results.params, f)"
      ]
    },
    {
      "cell_type": "code",
      "execution_count": 12,
      "metadata": {
        "colab": {
          "base_uri": "https://localhost:8080/"
        },
        "id": "sGjfLloZrWO0",
        "outputId": "6f0e9684-6b28-4b43-94bf-d12d56c25253"
      },
      "outputs": [
        {
          "output_type": "execute_result",
          "data": {
            "text/plain": [
              "MSELoss()"
            ]
          },
          "metadata": {},
          "execution_count": 12
        }
      ],
      "source": [
        "#Format the parameters according to the structure of the autoencoder\n",
        "with open('best_params.json', 'r') as f:\n",
        "    params_dict = json.load(f)\n",
        "best_params = {\n",
        "    'conv1': {'filters': params_dict['filters1'],\n",
        "                'kernel': 3,\n",
        "                'stride': 2,\n",
        "                'padding': 1},\n",
        "    'conv2': {'filters': params_dict['filters2'],\n",
        "                'kernel': 3,\n",
        "                'stride': 2,\n",
        "                'padding': 1},\n",
        "    'conv3': {'filters': params_dict['filters3'],\n",
        "                'kernel': 3,\n",
        "                'stride': 2,\n",
        "                'padding': 0},\n",
        "    'lin1': params_dict['lin1'],\n",
        "    'latent_space': params_dict['latent_space']\n",
        "}\n",
        "\n",
        "#Instantiate the autoencoder, set up torch loss and optimizer\n",
        "best_AE = vt.Autoencoder(28, best_params, device)\n",
        "\n",
        "loss_fn = torch.nn.MSELoss()\n",
        "params_to_optimize = [\n",
        "    {'params': best_AE.parameters()},\n",
        "]\n",
        "\n",
        "optim = getattr(torch.optim, study.best_params['optimizer'])(\n",
        "    params_to_optimize, lr=study.best_params['lr'], weight_decay=1e-5)\n",
        "\n",
        "best_AE.to(device)\n",
        "loss_fn.to(device)"
      ]
    },
    {
      "cell_type": "markdown",
      "metadata": {
        "id": "hxriG1Xeq5u0"
      },
      "source": [
        "K-fold cross-validation"
      ]
    },
    {
      "cell_type": "code",
      "execution_count": null,
      "metadata": {
        "colab": {
          "base_uri": "https://localhost:8080/"
        },
        "id": "VFl8cZfaihEP",
        "outputId": "47932df0-834d-41db-f8d6-707898c507cc"
      },
      "outputs": [
        {
          "output_type": "stream",
          "name": "stdout",
          "text": [
            "Fold 1/6...\t"
          ]
        }
      ],
      "source": [
        "k_folds = 6\n",
        "num_epochs = 20\n",
        "cv_losses = vt.CV_AE(\n",
        "    k_folds, best_AE,\n",
        "    num_epochs, train_dataloader, loss_fn, optim, device)"
      ]
    },
    {
      "cell_type": "code",
      "execution_count": null,
      "metadata": {
        "id": "ljDeO_j8vHMn"
      },
      "outputs": [],
      "source": [
        "fig, ax = plt.subplots(1,1, figsize=(12, 7),\n",
        "                       tight_layout=dict(rect=(0,0,.92,.95))\n",
        "                       )\n",
        "\n",
        "for loss, loss_type, cmap in zip(cv_losses,\n",
        "                                 ['Training', 'Validation'],\n",
        "                                 ['Blues', 'Reds']):\n",
        "    cmap = cm.get_cmap(cmap)\n",
        "    for fold in range(k_folds):\n",
        "        ax.plot(range(num_epochs), loss[fold],\n",
        "                color=cmap((fold+1)/k_folds),\n",
        "                label=f'{loss_type} $(k={fold})$')\n",
        "ax.grid()\n",
        "ax.legend(loc='upper right', fontsize=11)\n",
        "ax.tick_params(axis='both', labelsize=14)\n",
        "ax.xaxis.set_major_locator(MaxNLocator(integer=True))\n",
        "fig.suptitle('K-fold CV timeline', fontsize=20)\n",
        "\n",
        "fig.savefig('learning_curve_KFCV.pdf')"
      ]
    },
    {
      "cell_type": "code",
      "execution_count": null,
      "metadata": {
        "id": "1So2p6-m89dN"
      },
      "outputs": [],
      "source": [
        "def count_parameters(model):\n",
        "    \"\"\"\n",
        "    Counts the number of trainable parameters in a model,\n",
        "    based on whether they require gradients.\n",
        "    \"\"\"\n",
        "    return sum(p.numel() for p in model.parameters() if p.requires_grad)\n",
        "\n",
        "count_parameters(best_AE)"
      ]
    },
    {
      "cell_type": "code",
      "execution_count": null,
      "metadata": {
        "id": "-xtDgRo-CwwR"
      },
      "outputs": [],
      "source": [
        "best_AE.reset_weights()\n",
        "num_epochs = 20\n",
        "vt.train_AE(\n",
        "    best_AE, num_epochs, train_dataloader, loss_fn, optim, device,\n",
        "    test_dataloader=test_dataloader,\n",
        "    save_dir=f'models/best_AE_z{best_AE.latent_space}', verbose=True)"
      ]
    },
    {
      "cell_type": "code",
      "execution_count": null,
      "metadata": {
        "id": "8VJ3VP4MrWO1"
      },
      "outputs": [],
      "source": [
        "def read_img(i):\n",
        "    \"\"\"\n",
        "    Handles the exception caused by plots that were not saved because the\n",
        "    model performance worsened on the respective epoch.\n",
        "    \"\"\"\n",
        "    try:\n",
        "        return mpimg.imread(\n",
        "            f'models/best_AE_z{best_AE.latent_space}/plots/t={i}.jpg')\n",
        "    except FileNotFoundError:\n",
        "        return None\n",
        "\n",
        "fig = plt.figure(figsize=(8,6), tight_layout='pad')\n",
        "fig.suptitle('Autoencoder progress', fontsize=24)\n",
        "plt.axis(\"off\")\n",
        "img_list = [read_img(i) for i in range(num_epochs)]\n",
        "\n",
        "#Checks if element in img_list is an array, skips it in case it isn't.\n",
        "ims = [[plt.imshow(i, animated=True)] \n",
        "       for i in img_list if type(i) == np.ndarray]\n",
        "ani = animation.ArtistAnimation(\n",
        "    fig, ims, interval=1000, repeat_delay=1000, blit=True)\n",
        "HTML(ani.to_jshtml())"
      ]
    },
    {
      "cell_type": "code",
      "source": [
        "with open('best_params.json', 'r') as f:\n",
        "    params_dict = json.load(f)\n",
        "best_params = {\n",
        "    'conv1': {'filters': params_dict['filters1'],\n",
        "                'kernel': 3,\n",
        "                'stride': 2,\n",
        "                'padding': 1},\n",
        "    'conv2': {'filters': params_dict['filters2'],\n",
        "                'kernel': 3,\n",
        "                'stride': 2,\n",
        "                'padding': 1},\n",
        "    'conv3': {'filters': params_dict['filters3'],\n",
        "                'kernel': 3,\n",
        "                'stride': 2,\n",
        "                'padding': 0},\n",
        "    'lin1': params_dict['lin1'],\n",
        "    'latent_space': params_dict['latent_space']\n",
        "}\n",
        "\n",
        "state_dict_best = torch.load(f'models/best_AE_{params_dict[\"latent_space\"]}/params/t18.pth')\n",
        "\n",
        "#Instantiate the autoencoder\n",
        "best_AE = vt.Autoencoder(28, best_params, device)\n",
        "best_AE.load_state_dict(state_dict_best)\n",
        "best_AE.to(device)"
      ],
      "metadata": {
        "id": "23Rh0kkHtSLg",
        "outputId": "4f0a7393-bb94-442a-c2c1-e2816374efde",
        "colab": {
          "base_uri": "https://localhost:8080/"
        }
      },
      "execution_count": null,
      "outputs": [
        {
          "output_type": "execute_result",
          "data": {
            "text/plain": [
              "<All keys matched successfully>"
            ]
          },
          "metadata": {},
          "execution_count": 15
        }
      ]
    },
    {
      "cell_type": "markdown",
      "source": [
        "# Denoising"
      ],
      "metadata": {
        "id": "PTgt_unFfDuI"
      }
    },
    {
      "cell_type": "code",
      "source": [
        "#Draw random test sample\n",
        "sample_idx = torch.randint(len(test_dataset), (1,))\n",
        "sample, label = test_dataset[sample_idx.item()]\n",
        "\n",
        "#Pixel-killing probabilites\n",
        "p_list = [[.1,.9],[.2,.8],[.3,.7],[.4,.6],[.5,.5]]\n",
        "\n",
        "#Set up the figure\n",
        "fig, axs = plt.subplots(2, len(p_list), figsize=(11,3))\n",
        "\n",
        "#Set up loss\n",
        "losses = torch.zeros((len(p_list), 2),device=device)\n",
        "loss_eval = nn.MSELoss()\n",
        "loss_eval.to(device)\n",
        "\n",
        "for i, ps in enumerate(p_list):\n",
        "    sample.to(device)\n",
        "\n",
        "    #Noise is added by zeroing pixels at random positions.\n",
        "    noise_tensor = torch.from_numpy(\n",
        "        np.random.choice([0,1], size=sample.size(), p=ps)\n",
        "        )\n",
        "    noisy_sample = sample*noise_tensor\n",
        "\n",
        "    # Pass sample through autoencoder\n",
        "    best_AE.eval()\n",
        "    with torch.no_grad():\n",
        "        cleanup = best_AE(noisy_sample.to(device).unsqueeze(0))\n",
        "        losses[i,0] = loss_eval(noisy_sample, sample.unsqueeze(0))\n",
        "        losses[i,1] = loss_eval(cleanup.cpu(), sample.unsqueeze(0))\n",
        "\n",
        "    # Plot noisy and reconstructed sample side by side\n",
        "    axs[0][i].imshow(noisy_sample.cpu().squeeze().float().numpy(), cmap='gray')\n",
        "    axs[1][i].imshow(cleanup.cpu().squeeze().detach().numpy(), cmap='gray')\n",
        "    axs[0][i].set_title(f'Zeroed {ps[0]*100:.0f}%\\n Loss={losses[i,0].item():.3f}')\n",
        "    axs[1][i].set_title(f'Loss={losses[i,1].item():.3f}')\n",
        "\n",
        "    # Hide axis\n",
        "    for ax in axs[:,i]:\n",
        "        ax.axis('off')\n",
        "\n",
        "#Aesthetic adjustments\n",
        "\n",
        "fig.suptitle(\n",
        "    f'Sample {sample_idx.item()}, {labels_map[label]}',\n",
        "    fontsize=16\n",
        "    )\n",
        "fig.subplots_adjust(wspace=0.1, hspace=0.1)\n",
        "fig.tight_layout(rect=(0,0,1,0.9),w_pad=1, h_pad=0.8)\n",
        "fig.savefig('Reconstruction.pdf')\n",
        "fig.show()"
      ],
      "metadata": {
        "colab": {
          "base_uri": "https://localhost:8080/",
          "height": 287
        },
        "id": "MZtCuBN5wB5d",
        "outputId": "b27aafb9-c027-4135-9829-310a25c386f9"
      },
      "execution_count": null,
      "outputs": [
        {
          "output_type": "stream",
          "name": "stderr",
          "text": [
            "/usr/local/lib/python3.7/dist-packages/torch/nn/modules/loss.py:530: UserWarning: Using a target size (torch.Size([1, 1, 28, 28])) that is different to the input size (torch.Size([1, 28, 28])). This will likely lead to incorrect results due to broadcasting. Please ensure they have the same size.\n",
            "  return F.mse_loss(input, target, reduction=self.reduction)\n"
          ]
        },
        {
          "output_type": "display_data",
          "data": {
            "text/plain": [
              "<Figure size 792x216 with 10 Axes>"
            ],
            "image/png": "[encoded data removed]"
          },
          "metadata": {
            "needs_background": "light"
          }
        }
      ]
    },
    {
      "cell_type": "markdown",
      "metadata": {
        "id": "QpjTVDCkBh_v"
      },
      "source": [
        "# Supervised learning on latent space"
      ]
    },
    {
      "cell_type": "code",
      "source": [
        "class encoded_Dataset(torch.utils.data.Dataset):\n",
        "    def __init__(self, data_list):\n",
        "        self.data = data_list[0]\n",
        "        self.targets = data_list[1]\n",
        "\n",
        "    def __len__(self):\n",
        "        return len(self.data)\n",
        "\n",
        "    def __getitem__(self, idx):\n",
        "        return (self.data[idx], self.targets[idx])\n",
        "\n",
        "\n",
        "def encode_data(dataloader, AE):\n",
        "    enc_list = []\n",
        "    label_list = []\n",
        "    for sample_batched, labels in dataloader:\n",
        "        label_list.append(labels)\n",
        "        with torch.no_grad():\n",
        "            AE.eval()\n",
        "            sample_batched = sample_batched.to(AE.device)\n",
        "            latent_vectors = AE.encoder(sample_batched)\n",
        "            enc_list.append(latent_vectors)\n",
        "    \n",
        "    encoded_tensor  = torch.cat(enc_list)\n",
        "    label_tensor = torch.cat(label_list)\n",
        "    return [encoded_tensor, label_tensor]\n",
        "\n",
        "\n",
        "encoded_train = encode_data(train_dataloader, best_AE)\n",
        "encoded_test = encode_data(test_dataloader, best_AE)\n",
        "enc_train_dataset = encoded_Dataset(encoded_train)\n",
        "enc_test_dataset = encoded_Dataset(encoded_test)\n",
        "enc_dataloader_train = DataLoader(enc_train_dataset, batch_size=256)\n",
        "enc_dataloader_test = DataLoader(enc_test_dataset, batch_size=1)"
      ],
      "metadata": {
        "id": "Eu8Z6Gb61OXD"
      },
      "execution_count": null,
      "outputs": []
    },
    {
      "cell_type": "code",
      "execution_count": null,
      "metadata": {
        "colab": {
          "base_uri": "https://localhost:8080/"
        },
        "id": "foHfxVYf8uJR",
        "outputId": "58d922ee-79e8-4333-f432-62dfce707f07"
      },
      "outputs": [
        {
          "output_type": "stream",
          "name": "stdout",
          "text": [
            "Training took 243.13 seconds\n",
            "0.7358548641204834\n"
          ]
        }
      ],
      "source": [
        "import time\n",
        "\n",
        "\n",
        "class_params = {\n",
        "    'lin1' : (best_AE.latent_space, 20),\n",
        "    'lin2' : (20, 120),\n",
        "    'lin3' : (120, 100),\n",
        "    'lin4' : (100, 10),\n",
        "}\n",
        "\n",
        "classifier = vt.Classifier(class_params, device)\n",
        "classifier.to(device)\n",
        "\n",
        "classifier_loss = nn.CrossEntropyLoss()\n",
        "classifier_loss.to(device)\n",
        "optimizer = torch.optim.Adam(\n",
        "    classifier.parameters(), lr=1e-4, weight_decay=1e-5\n",
        "    )\n",
        "no_epochs = 50\n",
        "\n",
        "start_time = time.time()\n",
        "\n",
        "loss = vt.train_model(\n",
        "    classifier, enc_dataloader_train, enc_dataloader_test,\n",
        "    no_epochs, classifier_loss, optimizer, encoded=True, verbose=False\n",
        "    )\n",
        "\n",
        "end_time = time.time()\n",
        "training_time = end_time - start_time\n",
        "\n",
        "print(f'Training took {training_time:.2f} seconds')\n",
        "print(f'Final loss: {loss:.4f}')"
      ]
    },
    {
      "cell_type": "code",
      "execution_count": null,
      "metadata": {
        "colab": {
          "base_uri": "https://localhost:8080/"
        },
        "id": "dSRYdKn_YBnD",
        "outputId": "7a719f27-9851-4f5b-d121-e4d785eb45ad"
      },
      "outputs": [
        {
          "output_type": "stream",
          "name": "stdout",
          "text": [
            "Loss = 1.33825\n",
            "Loss = 0.90595\n",
            "Loss = 0.78350\n",
            "Loss = 0.70753\n",
            "Loss = 0.64934\n",
            "Loss = 0.60839\n",
            "Loss = 0.58178\n",
            "Loss = 0.55827\n",
            "Loss = 0.54128\n",
            "Loss = 0.52774\n",
            "Loss = 0.51673\n",
            "Loss = 0.51016\n",
            "Loss = 0.50462\n",
            "Loss = 0.50029\n",
            "Loss = 0.49235\n",
            "Loss = 0.48603\n",
            "Loss = 0.48355\n",
            "Loss = 0.47575\n",
            "Loss = 0.47370\n",
            "Loss = 0.47241\n",
            "Loss = 0.46842\n",
            "Loss = 0.46388\n",
            "Loss = 0.46084\n",
            "Loss = 0.45888\n",
            "Loss = 0.45895\n",
            "Loss = 0.45370\n",
            "Loss = 0.45185\n",
            "Loss = 0.44998\n",
            "Loss = 0.44993\n",
            "Loss = 0.44878\n",
            "Loss = 0.44880\n",
            "Loss = 0.44359\n",
            "Loss = 0.44155\n",
            "Loss = 0.44158\n",
            "Loss = 0.43861\n",
            "Loss = 0.44111\n",
            "Loss = 0.43914\n",
            "Loss = 0.43659\n",
            "Loss = 0.43565\n",
            "Loss = 0.43759\n",
            "Loss = 0.43897\n",
            "Loss = 0.43406\n",
            "Loss = 0.43355\n",
            "Loss = 0.43273\n",
            "Loss = 0.43123\n",
            "Loss = 0.42978\n",
            "Loss = 0.43076\n",
            "Loss = 0.42915\n",
            "Loss = 0.42998\n",
            "Loss = 0.42785\n",
            "Training took 502.89 seconds\n"
          ]
        }
      ],
      "source": [
        "class_params = {\n",
        "    'lin1' : (28**2, 20),\n",
        "    'lin2' : (20, 120),\n",
        "    'lin3' : (120, 100),\n",
        "    'lin4' : (100, 10),\n",
        "}\n",
        "\n",
        "classifier_noAE = vt.Classifier(class_params, device)\n",
        "\n",
        "classifier_noAE.to(device)\n",
        "classifier_noAE_loss = nn.CrossEntropyLoss()\n",
        "optimizer = torch.optim.Adam(\n",
        "    classifier_noAE.parameters(), lr=1e-4, weight_decay=1e-5\n",
        "    )\n",
        "no_epochs = 50\n",
        "\n",
        "start_time = time.time()\n",
        "\n",
        "vt.train_model(\n",
        "    classifier_noAE, train_dataloader, test_dataloader,\n",
        "    no_epochs, classifier_noAE_loss, optimizer, encoded=False, verbose=False\n",
        "    )\n",
        "\n",
        "end_time = time.time()\n",
        "\n",
        "training_time = end_time - start_time\n",
        "\n",
        "print(f'Training took {training_time:.2f} seconds')\n",
        "print(f'Final loss: {loss:.4f}')"
      ]
    },
    {
      "cell_type": "code",
      "execution_count": null,
      "metadata": {
        "colab": {
          "base_uri": "https://localhost:8080/",
          "height": 359
        },
        "id": "3LE_ay9MbfOP",
        "outputId": "09758cac-98d9-433b-a0a2-6b51f80a0fa0"
      },
      "outputs": [
        {
          "output_type": "display_data",
          "data": {
            "text/plain": [
              "<Figure size 864x360 with 2 Axes>"
            ],
            "image/png": "[encoded data removed]"
          },
          "metadata": {
            "needs_background": "light"
          }
        }
      ],
      "source": [
        "fig, axs = plt.subplots(1,2, figsize=(12, 5))\n",
        "model_list = [classifier, classifier_noAE]\n",
        "label_list = [('-', f'Encoding $(z={best_AE.latent_space})$'), ('--', 'No encoding')]\n",
        "for label, model in zip(label_list, model_list):\n",
        "    axs[0].plot(model.history['epoch'], model.history['train'],\n",
        "           label[0], label=label[1])\n",
        "    axs[1].plot(model.history['epoch'], model.history['valid'],\n",
        "        label[0], label=label[1])\n",
        "    \n",
        "axs[0].set_title('Training', fontsize=16)\n",
        "axs[1].set_title('Validation', fontsize=16)\n",
        "fig.suptitle(f'Classifier training timeline', fontsize=20)\n",
        "\n",
        "for ax in axs:\n",
        "    ax.tick_params(axis='both', which='major', labelsize=12)\n",
        "\n",
        "    ax.legend(fontsize=14)\n",
        "    ax.grid()\n"
      ]
    },
    {
      "cell_type": "code",
      "execution_count": null,
      "metadata": {
        "id": "BLu0Y-MEliU_"
      },
      "outputs": [],
      "source": [
        "from sklearn.decomposition import PCA\n",
        "from sklearn.manifold import TSNE\n",
        "\n",
        "tsne = TSNE(n_components=3)\n",
        "pca = PCA(n_components=3)\n",
        "\n",
        "encoded_samples = []\n",
        "samples = []\n",
        "for sample in test_dataset:\n",
        "    samples.append(sample[0].squeeze(0).flatten().cpu().numpy())\n",
        "    img = sample[0].unsqueeze(0).to(device)\n",
        "    label = sample[1]\n",
        "    # Encode image\n",
        "    best_AE.encoder.eval()\n",
        "    with torch.no_grad():\n",
        "        encoded_img = best_AE.encoder(img)\n",
        "    # Append to list\n",
        "    encoded_img = encoded_img.flatten().cpu().numpy()\n",
        "    encoded_sample = {f\"var_{i}\": enc for i, enc in enumerate(encoded_img)}\n",
        "    encoded_sample['label'] = label\n",
        "    encoded_samples.append(encoded_sample)\n",
        "\n",
        "encoded_samples = pd.DataFrame(encoded_samples)\n",
        "\n",
        "encoded_samples_reduced_PCA = pca.fit_transform(encoded_samples)\n",
        "encoded_samples_reduced_TSNE = tsne.fit_transform(samples)"
      ]
    },
    {
      "cell_type": "code",
      "source": [
        "import plotly.express as px\n",
        "\n",
        "PCA_df = pd.DataFrame(encoded_samples_reduced_PCA, columns=['x1','x2','x3'])\n",
        "PCA_df['label'] = [labels_map[label] for label in encoded_samples]\n",
        "\n",
        "TSNE_df = pd.DataFrame(encoded_samples_reduced_TSNE, columns=['x1','x2','x3'])\n",
        "TSNE_df['label'] = [labels_map[label] for label in encoded_samples]\n",
        "\n",
        "pca_plot = px.scatter_3d(PCA_df, x='x1', y='x2', z='x3', color='label')\n",
        "tsne_plot = px.scatter_3d(TSNE_df, x='x1', y='x2', z='x3', color='label')\n",
        "\n",
        "for (img, title) in zip([pca_plot, tsne_plot], ['PCA', 't-SNE']):\n",
        "    img.update_layout(\n",
        "        title=title,\n",
        "        height=600, width=700,\n",
        "        legend={'itemsizing': 'constant',\n",
        "                'font' : dict(size=14)}\n",
        "        )\n",
        "    img.update_traces(marker=dict(size=1.2, line=dict(width=0.7)))"
      ],
      "metadata": {
        "id": "HuMX4nHeCGje"
      },
      "execution_count": null,
      "outputs": []
    },
    {
      "cell_type": "code",
      "execution_count": null,
      "metadata": {
        "id": "nWIy28s3noqZ"
      },
      "outputs": [],
      "source": [
        "import seaborn as sns\n",
        "from mpl_toolkits.mplot3d import Axes3D\n",
        "sns.set_theme()\n",
        "\n",
        "fig = plt.figure(figsize=(25,9))\n",
        "\n",
        "ax1 = fig.add_subplot(131, projection='3d')\n",
        "sc1 = ax1.scatter(encoded_samples['var_0'],\n",
        "               encoded_samples['var_1'],\n",
        "               encoded_samples['var_2'],\n",
        "               c=encoded_samples.label.to_numpy(),\n",
        "            cmap=\"tab10\", edgecolor='white', linewidths=0.5)\n",
        "\n",
        "ax2 = fig.add_subplot(133, projection='3d')\n",
        "sc3 = ax2.scatter(encoded_samples_reduced_PCA[:,0],\n",
        "               encoded_samples_reduced_PCA[:,1],\n",
        "               encoded_samples_reduced_PCA[:,2],\n",
        "               c=encoded_samples.label.to_numpy(),\n",
        "            cmap=\"tab10\", edgecolor='white', linewidths=0.5)\n",
        "\n",
        "ax3 = fig.add_subplot(132, projection='3d')\n",
        "sc2 = ax3.scatter(encoded_samples_reduced_TSNE[:,0],\n",
        "            encoded_samples_reduced_TSNE[:,1],\n",
        "            encoded_samples_reduced_TSNE[:,2],\n",
        "            c=encoded_samples.label.to_numpy(),\n",
        "            cmap=\"tab10\", edgecolor='white', linewidths=0.5)\n",
        "\n",
        "ax1.set_title(\"Latent Space\")\n",
        "ax2.set_title(\"PCA\")\n",
        "ax3.set_title(\"t-SNE\")\n",
        "\n",
        "label_names = ['T-shirt','Trouser','Pullover','Dress','Coat','Sandal','Shirt',\n",
        "             'Sneaker','Bag','Boot']\n",
        "\n",
        "legend = fig.legend(sc1.legend_elements()[0], label_names,\n",
        "                    title=\"Classes\", loc='right',\n",
        "                    fontsize=13, labelspacing=1.1)\n",
        "\n",
        "fig.add_artist(legend)\n",
        "fig.show()"
      ]
    },
    {
      "cell_type": "code",
      "execution_count": null,
      "metadata": {
        "id": "SGJSpXYKaWuu"
      },
      "outputs": [],
      "source": [
        "encoded_samples"
      ]
    },
    {
      "cell_type": "code",
      "execution_count": null,
      "metadata": {
        "id": "m1T3fMQBaCKl"
      },
      "outputs": [],
      "source": [
        "encoded_samples.plot.scatter(\n",
        "    x = 'Enc. Variable 0',\n",
        "    y = 'Enc. Variable 1',\n",
        "    c=encoded_samples.label.to_numpy(),\n",
        "    cmap='tab10', edgecolor='white', linewidths=0.5)"
      ]
    },
    {
      "cell_type": "markdown",
      "metadata": {
        "id": "1AvkW6DcHqVf"
      },
      "source": [
        "# Generating fake samples"
      ]
    },
    {
      "cell_type": "code",
      "execution_count": null,
      "metadata": {
        "id": "A_aPwcpcHp8f"
      },
      "outputs": [],
      "source": [
        "fake_latents = torch.randn((100, best_AE.latent_space), device=best_AE.device)\n",
        "best_AE.decoder.eval()\n",
        "with torch.no_grad():\n",
        "    fake_samples = best_AE.decoder(fake_latents)"
      ]
    },
    {
      "cell_type": "code",
      "execution_count": null,
      "metadata": {
        "id": "TkdfkDSXNlbl"
      },
      "outputs": [],
      "source": [
        "figure = plt.figure(figsize=(8, 8))\n",
        "cols, rows = 3, 3\n",
        "for i in range(1, cols * rows + 1):\n",
        "    sample_idx = torch.randint(len(fake_samples), size=(1,)).item()\n",
        "    img = fake_samples[sample_idx].cpu().detach().numpy()\n",
        "    figure.add_subplot(rows, cols, i)\n",
        "    # plt.title()\n",
        "    plt.axis(\"off\")\n",
        "    plt.imshow(img.squeeze(0), cmap=\"gray\")\n",
        "plt.show()"
      ]
    },
    {
      "cell_type": "markdown",
      "metadata": {
        "id": "W1mqtTMHrWO1"
      },
      "source": [
        "# GAN"
      ]
    },
    {
      "cell_type": "code",
      "execution_count": null,
      "metadata": {
        "id": "3LS_tiz5rWO3"
      },
      "outputs": [],
      "source": [
        "n_classes = len(train_dataset.targets.unique())\n",
        "params = {'latent_space' : 100,\n",
        "          'G_filters' : 128,\n",
        "          'D_filters' : 32,\n",
        "          'n_channels' : 1,\n",
        "          'opt' : 'Adam',\n",
        "          'lr' : 1e-4}\n",
        "\n",
        "gan = vt.GAN(params, device)"
      ]
    },
    {
      "cell_type": "code",
      "execution_count": null,
      "metadata": {
        "id": "NRsTj7j8rWO3"
      },
      "outputs": [],
      "source": [
        "criterion = nn.BCEWithLogitsLoss()\n",
        "\n",
        "gan.to(device)\n",
        "loss_history, img_list = vt.train_GAN(\n",
        "    gan, train_dataloader, 50, criterion, device, saturating=False, snapshots = True)"
      ]
    },
    {
      "cell_type": "code",
      "execution_count": null,
      "metadata": {
        "id": "r_SYALq9rWO4"
      },
      "outputs": [],
      "source": [
        "gan.zero_grad()\n",
        "test_data = test_dataset[0][0].unsqueeze(0).to(device)\n",
        "D_out = gan.netD(test_data)\n",
        "\n",
        "label = torch.tensor([1],\n",
        "                dtype=torch.float, device=device).reshape((1,1,1,1))\n",
        "    \n",
        "\n",
        "criterion(D_out, label)"
      ]
    },
    {
      "cell_type": "code",
      "execution_count": null,
      "metadata": {
        "id": "POTBblberWO4"
      },
      "outputs": [],
      "source": [
        "rand_noise = torch.randn(64, gan.latent_space, 1, 1, device=device)\n",
        "\n",
        "gen_fakes = gan.netG(rand_noise).cpu().detach().numpy()[0]\n"
      ]
    },
    {
      "cell_type": "code",
      "execution_count": null,
      "metadata": {
        "id": "CSxyMd03rWO5"
      },
      "outputs": [],
      "source": [
        "plt.imshow(gen_fakes[0], cmap= 'gist_gray')"
      ]
    },
    {
      "cell_type": "code",
      "execution_count": null,
      "metadata": {
        "id": "P-CI00X_rWO5"
      },
      "outputs": [],
      "source": [
        "fig = plt.figure(figsize=(8,8))\n",
        "plt.title('Saturating G loss')\n",
        "plt.axis(\"off\")\n",
        "ims = [[plt.imshow(np.transpose(i,(1,2,0)), cmap='gist_gray', animated=True)] for i in gen_fakes]\n",
        "ani = animation.ArtistAnimation(fig, ims, interval=1000, repeat_delay=1000, blit=True)\n",
        "HTML(ani.to_jshtml())"
      ]
    },
    {
      "cell_type": "code",
      "execution_count": null,
      "metadata": {
        "id": "KDA3e4aSrWO5"
      },
      "outputs": [],
      "source": [
        "class Generator(nn.Module):\n",
        "    def __init__(self, params):\n",
        "        super(Generator, self).__init__()\n",
        "        self.main = nn.Sequential(\n",
        "            # input is Z, going into a convolution\n",
        "            nn.ConvTranspose2d(params['latent_space'], params['G_filters'] * 4, 3, 2, 0, bias=False),\n",
        "            nn.BatchNorm2d(params['G_filters'] * 4),\n",
        "            nn.ReLU(True),\n",
        "            # state size. (G_filters*8, 4, 4)\n",
        "            nn.ConvTranspose2d(params['G_filters'] * 4, params['G_filters'] * 2, 3, 2, 0, bias=False),\n",
        "            nn.BatchNorm2d(params['G_filters'] * 2),\n",
        "            nn.ReLU(True),\n",
        "            # state size. (G_filters*4, 8, 8)\n",
        "            nn.ConvTranspose2d( params['G_filters'] * 2, params['G_filters'], 3, 2, 0, bias=False),\n",
        "            nn.BatchNorm2d(params['G_filters']),\n",
        "            nn.ReLU(True),\n",
        "            # state size. (G_filters*2, 16, 16)\n",
        "            nn.ConvTranspose2d( params['G_filters'], params['n_channels'], 3, 2, 2, 1, bias=False),\n",
        "            nn.Tanh()\n",
        "            # state size. (n_channels, 64, 64)\n",
        "        )\n",
        "\n",
        "    def forward(self, input):\n",
        "        return self.main(input)\n",
        "\n",
        "# Create the generator\n",
        "netG = Generator(params).to(device)\n",
        "\n",
        "# Apply the weights_init function to randomly initialize all weights\n",
        "#  to mean=0, stdev=0.02.\n",
        "#netG.apply(weights_init)\n",
        "\n",
        "# Print the model\n",
        "print(netG)"
      ]
    },
    {
      "cell_type": "code",
      "execution_count": null,
      "metadata": {
        "id": "huJlTfJprWO6"
      },
      "outputs": [],
      "source": [
        "class Discriminator(nn.Module):\n",
        "    def __init__(self, params, conditional=False):\n",
        "        super(Discriminator, self).__init__()\n",
        "        self.conditional=conditional\n",
        "        self.main = nn.Sequential(\n",
        "            # input is (1,28,28)\n",
        "            nn.Conv2d(in_channels=params['n_channels'], out_channels=params['D_filters'],\n",
        "                      kernel_size=4, stride=2, padding=1),\n",
        "            nn.LeakyReLU(0.2, inplace=True),\n",
        "            # state size (D_filters, 14, 14)\n",
        "            nn.Conv2d(in_channels=params['D_filters'], out_channels=params['D_filters'] * 2,\n",
        "                      kernel_size=4, stride=2, padding=1),\n",
        "            nn.BatchNorm2d(params['D_filters'] * 2),\n",
        "            nn.LeakyReLU(0.2, inplace=True),\n",
        "            # state size (D_filters*2, 7, 7)\n",
        "            nn.Conv2d(in_channels=params['D_filters'] * 2, out_channels=params['D_filters'] * 4,\n",
        "                      kernel_size=4, stride=2, padding=1),\n",
        "            nn.BatchNorm2d(params['D_filters'] * 4),\n",
        "            nn.LeakyReLU(0.2, inplace=True),\n",
        "            # state size (D_filters*4, 3, 3)\n",
        "            nn.Conv2d(in_channels = params['D_filters']* 4, out_channels=1,\n",
        "                      kernel_size = 4, stride=2, padding=1)\n",
        "            # scalar output (1, 1, 1)\n",
        "        )\n",
        "\n",
        "    def forward(self, input):\n",
        "        if self.conditional:\n",
        "            pass\n",
        "\n",
        "        else:\n",
        "            return self.main(input)"
      ]
    },
    {
      "cell_type": "code",
      "execution_count": null,
      "metadata": {
        "id": "5e1wPa63rWO6"
      },
      "outputs": [],
      "source": [
        "class GAN(nn.Module):\n",
        "    def __init__(self, params, device, conditional=False):\n",
        "        super(GAN, self).__init__()\n",
        "        self.conditional = conditional\n",
        "        self.latent_space = params['latent_space']\n",
        "        self.netG = Generator(params)\n",
        "        self.netD = Discriminator(params, conditional = self.conditional)\n",
        "        self.epochs_trained = 0\n",
        "        self.device = device\n",
        "        \n",
        "        self.optimizerD = getattr(torch.optim, params['opt'])(self.netD.params_to_optimize(), lr=params['lr'])\n",
        "        self.optimizerG = getattr(torch.optim, params['opt'])(self.netG.params_to_optimize(), lr=params['lr'])\n"
      ]
    },
    {
      "cell_type": "code",
      "execution_count": null,
      "metadata": {
        "id": "TX31WPs-rWO6"
      },
      "outputs": [],
      "source": [
        ""
      ]
    },
    {
      "cell_type": "code",
      "execution_count": null,
      "metadata": {
        "id": "QNmMn_axrWO6"
      },
      "outputs": [],
      "source": [
        "# Create the Discriminator\n",
        "img, _ = test_dataset[0]\n",
        "img = img.unsqueeze(0) # Add the batch dimension in the first axis\n",
        "netD = Discriminator(params).to(device)\n",
        "img = img.to(device)\n",
        "dsc_img = netD(img).detach().cpu().numpy()\n",
        "img.detach()\n",
        "# Apply the weights_init function to randomly initialize all weights\n",
        "#  to mean=0, stdev=0.2.\n",
        "# netD.apply(weights_init)\n",
        "\n",
        "# Print the model\n",
        "print(netD)\n",
        "plt.imshow(dsc_img[0][0], cmap='gist_gray')\n",
        "\n",
        "dsc_img.shape"
      ]
    },
    {
      "cell_type": "code",
      "execution_count": null,
      "metadata": {
        "id": "VMQUQMJ3rWO6"
      },
      "outputs": [],
      "source": [
        "# Initialize BCELoss function\n",
        "criterion = nn.BCEWithLogitsLoss()\n",
        "\n",
        "# Create batch of latent vectors that we will use to visualize\n",
        "#  the progression of the generator\n",
        "fixed_noise = torch.randn(64, params['latent_space'], 1, 1, device=device)\n",
        "\n",
        "# Establish convention for real and fake labels during training\n",
        "real_label = 1.\n",
        "fake_label = 0.\n",
        "\n",
        "# Setup Adam optimizers for both G and D\n",
        "\n",
        "beta1 = 0.5\n",
        "optimizerD = torch.optim.Adam(netD.parameters(), lr=params['lr'], betas=(beta1, 0.999))\n",
        "optimizerG = torch.optim.Adam(netG.parameters(), lr=params['lr'], betas=(beta1, 0.999))"
      ]
    },
    {
      "cell_type": "code",
      "execution_count": null,
      "metadata": {
        "id": "EW-HxBr6rWO7"
      },
      "outputs": [],
      "source": [
        "getattr(torch.optim, \"Adam\")"
      ]
    },
    {
      "cell_type": "code",
      "execution_count": null,
      "metadata": {
        "id": "3TPc6reZrWO7"
      },
      "outputs": [],
      "source": [
        "# Training Loop\n",
        "# Lists to keep track of progress\n",
        "\n",
        "num_epochs = 30\n",
        "img_list = []\n",
        "G_losses = []\n",
        "D_losses = []\n",
        "iters = 0\n",
        "latent_space = params['latent_space']\n",
        "saturating = False\n",
        "\n",
        "print(\"Starting Training Loop...\")\n",
        "# For each epoch\n",
        "for epoch in range(1, num_epochs+1):\n",
        "    # For each batch in the dataloader\n",
        "    for i, data in enumerate(train_dataloader, 0):\n",
        "\n",
        "        ############################\n",
        "        # (1) Update D network: maximize log(D(x)) + log(1 - D(G(z)))\n",
        "        ###########################\n",
        "        # Train with all-real batch\n",
        "        netD.zero_grad()\n",
        "        # Format batch\n",
        "        real_cpu = data[0].to(device)\n",
        "        b_size = real_cpu.size(0)\n",
        "        label = torch.full((b_size,), real_label,\n",
        "                           dtype=torch.float, device=device)\n",
        "        # Forward pass real batch through D\n",
        "        output = netD(real_cpu).view(-1)\n",
        "        # Calculate loss on all-real batch\n",
        "        errD_real = criterion(output, label)\n",
        "        # Calculate gradients for D in backward pass\n",
        "        errD_real.backward()\n",
        "        D_x = output.mean().item()\n",
        "\n",
        "        # Train with all-fake batch\n",
        "        # Generate batch of latent vectors\n",
        "        noise = torch.randn(b_size, latent_space, 1, 1, device=device)\n",
        "        # Generate fake image batch with G\n",
        "        fake = netG(noise)\n",
        "        label.fill_(fake_label)\n",
        "        # Classify all fake batch with D\n",
        "        output = netD(fake.detach()).view(-1)\n",
        "        # Calculate D's loss on the all-fake batch\n",
        "        errD_fake = criterion(output, label)\n",
        "        # Calculate the gradients for this batch, accumulated (summed) with previous gradients\n",
        "        errD_fake.backward()\n",
        "        D_G_z1 = output.mean().item()\n",
        "        # Compute error of D as sum over the fake and the real batches\n",
        "        errD = errD_real + errD_fake\n",
        "        # Update D\n",
        "        optimizerD.step()\n",
        "\n",
        "        ############################\n",
        "        # (2) Update G network: maximize log(D(G(z)))\n",
        "        ###########################\n",
        "        if saturating:\n",
        "            # Saturating loss: Use fake_label y = 0 to get J(G) = log(1−D(G(z)))\n",
        "            label.fill_(fake_label)\n",
        "        else:\n",
        "            # Non-saturating loss: fake labels are real for generator cost\n",
        "            label.fill_(real_label)\n",
        "\n",
        "        # Since we just updated D, perform another forward pass of all-fake batch through D\n",
        "        output = netD(fake).view(-1)\n",
        "        # Calculate G's loss based on this output\n",
        "\n",
        "        if saturating:\n",
        "            errG = -criterion(output, label)  # Saturating loss: -J(D) = J(G)\n",
        "        else:\n",
        "            errG = criterion(output, label)  # Non-saturating loss\n",
        "        \n",
        "        netG.zero_grad()\n",
        "        label.fill_(real_label)  # fake labels are real for generator cost\n",
        "        # Since we just updated D, perform another forward pass of all-fake batch through D\n",
        "        output = netD(fake).view(-1)\n",
        "        # Calculate G's loss based on this output\n",
        "        errG = criterion(output, label)\n",
        "        # Calculate gradients for G\n",
        "        errG.backward()\n",
        "        D_G_z2 = output.mean().item()\n",
        "        # Update G\n",
        "        optimizerG.step()\n",
        "\n",
        "        # Output training stats\n",
        "\n",
        "        # Save Losses for plotting later\n",
        "        G_losses.append(errG.item())\n",
        "        D_losses.append(errD.item())\n",
        "\n",
        "        # Check how the generator is doing by saving G's output on fixed_noise\n",
        "\n",
        "        if (iters % 500 == 0) or ((epoch == num_epochs) and (i == len(train_dataloader)-1)):\n",
        "            with torch.no_grad():\n",
        "                fake = netG(fixed_noise).detach().cpu()\n",
        "            img_list.append(vutils.make_grid(fake, padding=2, normalize=True))\n",
        "\n",
        "        iters += 1\n",
        "\n",
        "        print(f'[{epoch}/{num_epochs}]\\tLoss_D: {errD.item():.4f}, \\tLoss_G: {errG.item():.4f}, \\tD(x): {D_x:.4f} \\tD(G(z)): {D_G_z1:.4f} / {D_G_z2:.4f}', end = '\\r')\n",
        "    print(f'[{epoch}/{num_epochs}]\\tLoss_D: {errD.item():.4f}, \\tLoss_G: {errG.item():.4f}, \\tD(x): {D_x:.4f} \\tD(G(z)): {D_G_z1:.4f} / {D_G_z2:.4f}', end = '\\n')"
      ]
    },
    {
      "cell_type": "code",
      "execution_count": null,
      "metadata": {
        "id": "QkOrOJ6ArWO8"
      },
      "outputs": [],
      "source": [
        "plt.figure(figsize=(10,5))\n",
        "plt.title(\"Generator and discriminator loss\")\n",
        "plt.plot(G_losses,label=\"Non-saturating G loss\", alpha=0.75)\n",
        "plt.plot(D_losses,label=\"Non-saturating D loss\", alpha=0.75)\n",
        "plt.xlabel(\"Iterations\")\n",
        "plt.ylabel(\"Loss\")\n",
        "plt.xscale(\"log\")\n",
        "plt.legend()\n",
        "plt.show()"
      ]
    },
    {
      "cell_type": "code",
      "execution_count": null,
      "metadata": {
        "id": "E69256aKrWO8"
      },
      "outputs": [],
      "source": [
        ""
      ]
    },
    {
      "cell_type": "code",
      "execution_count": null,
      "metadata": {
        "id": "Vw4g6FTnrWPP"
      },
      "outputs": [],
      "source": [
        "# Visualize results with saturating G loss\n",
        "fig = plt.figure(figsize=(8,8))\n",
        "plt.title('Saturating G loss')\n",
        "plt.axis(\"off\")\n",
        "ims = [[plt.imshow(np.transpose(i,(1,2,0)), animated=True)] for i in img_list]\n",
        "ani = animation.ArtistAnimation(fig, ims, interval=1000, repeat_delay=1000, blit=True)\n",
        "HTML(ani.to_jshtml())"
      ]
    },
    {
      "cell_type": "code",
      "execution_count": null,
      "metadata": {
        "id": "9P9qFg82rWPP"
      },
      "outputs": [],
      "source": [
        "# Grab a batch of real images from the dataloader\n",
        "real_batch = next(iter(train_dataloader))\n",
        "\n",
        "# Plot the real images\n",
        "plt.figure(figsize=(15,15))\n",
        "plt.subplot(1,3,1)\n",
        "plt.axis(\"off\")\n",
        "plt.title(\"Real images\")\n",
        "plt.imshow(np.transpose(vutils.make_grid(real_batch[0].to(device)[:64], padding=5, normalize=True).cpu(),(1,2,0)))\n",
        "\n",
        "# Plot the fake images from the last epoch\n",
        "plt.subplot(1,3,2)\n",
        "plt.axis(\"off\")\n",
        "plt.title(\"Fake images - saturating G loss\")\n",
        "plt.imshow(np.transpose(img_list[-1],(1,2,0)))"
      ]
    },
    {
      "cell_type": "code",
      "execution_count": null,
      "metadata": {
        "id": "HA-_JCuxrWPQ"
      },
      "outputs": [],
      "source": [
        "# Training Loop\n",
        "saturating = False\n",
        "# Lists to keep track of progress\n",
        "img_list = []\n",
        "G_losses = []\n",
        "D_losses = []\n",
        "iters = 0\n",
        "\n",
        "print(\"Starting Training Loop...\")\n",
        "# For each epoch\n",
        "for epoch in range(num_epochs):\n",
        "    # For each batch in the dataloader\n",
        "    for i, data in enumerate(train_dataloader, 0):\n",
        "\n",
        "        ############################\n",
        "        # (1) Update D network: maximize log(D(x)) + log(1 - D(G(z)))\n",
        "        ###########################\n",
        "        ## Train with all-real batch\n",
        "        netD.zero_grad()\n",
        "        # Format batch\n",
        "        real_cpu = data[0].to(device)\n",
        "        b_size = real_cpu.size(0)\n",
        "        label = torch.full((b_size,), real_label, dtype=torch.float, device=device)\n",
        "        # Forward pass real batch through D\n",
        "        output = netD(real_cpu).view(-1)\n",
        "        # Calculate loss on all-real batch\n",
        "        errD_real = criterion(output, label)\n",
        "        # Calculate gradients for D in backward pass\n",
        "        errD_real.backward()\n",
        "        D_x = output.mean().item()\n",
        "\n",
        "        ## Train with all-fake batch\n",
        "        # Generate batch of latent vectors\n",
        "        noise = torch.randn(b_size, latent_space, 1, 1, device=device)\n",
        "        # Generate fake image batch with G\n",
        "        fake = netG(noise)\n",
        "        label.fill_(fake_label)\n",
        "        # Classify all fake batch with D\n",
        "        output = netD(fake.detach()).view(-1)\n",
        "        # Calculate D's loss on the all-fake batch\n",
        "        errD_fake = criterion(output, label)\n",
        "        # Calculate the gradients for this batch, accumulated (summed) with previous gradients\n",
        "        errD_fake.backward()\n",
        "        D_G_z1 = output.mean().item()\n",
        "        # Compute error of D as sum over the fake and the real batches\n",
        "        errD = errD_real + errD_fake\n",
        "        # Update D\n",
        "        optimizerD.step()\n",
        "\n",
        "        ############################\n",
        "        # (2) Update G network: maximize log(D(G(z)))\n",
        "        ###########################\n",
        "\n",
        "\n",
        "        if saturating:\n",
        "            label.fill_(fake_label) # Saturating loss: Use fake_label y = 0 to get J(G) = log(1−D(G(z)))\n",
        "        else:\n",
        "            label.fill_(real_label) # Non-saturating loss: fake labels are real for generator cost\n",
        "        \n",
        "        # Since we just updated D, perform another forward pass of all-fake batch through D\n",
        "        output = netD(fake).view(-1)\n",
        "        # Calculate G's loss based on this output\n",
        "        \n",
        "        if saturating:\n",
        "            errG = -criterion(output, label) # Saturating loss: -J(D) = J(G)\n",
        "        else:\n",
        "            errG = criterion(output, label) # Non-saturating loss\n",
        "\n",
        "        netG.zero_grad()\n",
        "        label.fill_(real_label)  # fake labels are real for generator cost\n",
        "        # Since we just updated D, perform another forward pass of all-fake batch through D\n",
        "        output = netD(fake).view(-1)\n",
        "        # Calculate G's loss based on this output\n",
        "        errG = criterion(output, label)\n",
        "        # Calculate gradients for G\n",
        "        errG.backward()\n",
        "        D_G_z2 = output.mean().item()\n",
        "        # Update G\n",
        "        optimizerG.step()\n",
        "\n",
        "        # Output training stats\n",
        "        if i % 50 == 0:\n",
        "            print('[%d/%d][%d/%d]\\tLoss_D: %.4f\\tLoss_G: %.4f\\tD(x): %.4f\\tD(G(z)): %.4f / %.4f'\n",
        "                  % (epoch, num_epochs, i, len(dataloader),\n",
        "                     errD.item(), errG.item(), D_x, D_G_z1, D_G_z2))\n",
        "\n",
        "        # Save Losses for plotting later\n",
        "        G_losses.append(errG.item())\n",
        "        D_losses.append(errD.item())\n",
        "\n",
        "        # Check how the generator is doing by saving G's output on fixed_noise\n",
        "        if (iters % 500 == 0) or ((epoch == num_epochs-1) and (i == len(dataloader)-1)):\n",
        "            with torch.no_grad():\n",
        "                fake = netG(fixed_noise).detach().cpu()\n",
        "            img_list.append(vutils.make_grid(fake, padding=2, normalize=True))\n",
        "\n",
        "        iters += 1"
      ]
    }
  ],
  "metadata": {
    "accelerator": "GPU",
    "colab": {
      "collapsed_sections": [],
      "name": "hw2.ipynb",
      "provenance": [],
      "include_colab_link": true
    },
    "kernelspec": {
      "display_name": "Python 3.10.5 ('torch')",
      "language": "python",
      "name": "python3"
    },
    "language_info": {
      "codemirror_mode": {
        "name": "ipython",
        "version": 3
      },
      "file_extension": ".py",
      "mimetype": "text/x-python",
      "name": "python",
      "nbconvert_exporter": "python",
      "pygments_lexer": "ipython3",
      "version": "3.10.5"
    },
    "vscode": {
      "interpreter": {
        "hash": "a96727fb05243bebd7fec7e27c5799eb3045ab00deb4afae590e4086673b4246"
      }
    },
    "widgets": {
      "application/vnd.jupyter.widget-state+json": {
        "e07bc50d558d4653b53fdadd8e71fa0b": {
          "model_module": "@jupyter-widgets/controls",
          "model_name": "HBoxModel",
          "model_module_version": "1.5.0",
          "state": {
            "_dom_classes": [],
            "_model_module": "@jupyter-widgets/controls",
            "_model_module_version": "1.5.0",
            "_model_name": "HBoxModel",
            "_view_count": null,
            "_view_module": "@jupyter-widgets/controls",
            "_view_module_version": "1.5.0",
            "_view_name": "HBoxView",
            "box_style": "",
            "children": [
              "IPY_MODEL_305d7f1669ce4ffeb7066726da76f7c2",
              "IPY_MODEL_0bff13c4cf734eb693429cb0e8b36ef7",
              "IPY_MODEL_aba4f596820d44c182455cc3f63a54d1"
            ],
            "layout": "IPY_MODEL_d188efa423154cd4883d93e6b9383594"
          }
        },
        "305d7f1669ce4ffeb7066726da76f7c2": {
          "model_module": "@jupyter-widgets/controls",
          "model_name": "HTMLModel",
          "model_module_version": "1.5.0",
          "state": {
            "_dom_classes": [],
            "_model_module": "@jupyter-widgets/controls",
            "_model_module_version": "1.5.0",
            "_model_name": "HTMLModel",
            "_view_count": null,
            "_view_module": "@jupyter-widgets/controls",
            "_view_module_version": "1.5.0",
            "_view_name": "HTMLView",
            "description": "",
            "description_tooltip": null,
            "layout": "IPY_MODEL_99b57baece6d4b6fa78a1657ada9413b",
            "placeholder": "​",
            "style": "IPY_MODEL_5b17611a8025468aa551fd60b0aceb25",
            "value": "100%"
          }
        },
        "0bff13c4cf734eb693429cb0e8b36ef7": {
          "model_module": "@jupyter-widgets/controls",
          "model_name": "FloatProgressModel",
          "model_module_version": "1.5.0",
          "state": {
            "_dom_classes": [],
            "_model_module": "@jupyter-widgets/controls",
            "_model_module_version": "1.5.0",
            "_model_name": "FloatProgressModel",
            "_view_count": null,
            "_view_module": "@jupyter-widgets/controls",
            "_view_module_version": "1.5.0",
            "_view_name": "ProgressView",
            "bar_style": "success",
            "description": "",
            "description_tooltip": null,
            "layout": "IPY_MODEL_e177982b15b046888743b4b910b30219",
            "max": 26421880,
            "min": 0,
            "orientation": "horizontal",
            "style": "IPY_MODEL_cc5d947dc6cf431295944c1669950d58",
            "value": 26421880
          }
        },
        "aba4f596820d44c182455cc3f63a54d1": {
          "model_module": "@jupyter-widgets/controls",
          "model_name": "HTMLModel",
          "model_module_version": "1.5.0",
          "state": {
            "_dom_classes": [],
            "_model_module": "@jupyter-widgets/controls",
            "_model_module_version": "1.5.0",
            "_model_name": "HTMLModel",
            "_view_count": null,
            "_view_module": "@jupyter-widgets/controls",
            "_view_module_version": "1.5.0",
            "_view_name": "HTMLView",
            "description": "",
            "description_tooltip": null,
            "layout": "IPY_MODEL_4e4fe3f4c61b47dda752c422b4d905b0",
            "placeholder": "​",
            "style": "IPY_MODEL_381b623ca2f6402a82d5115601a5f733",
            "value": " 26421880/26421880 [00:00&lt;00:00, 128472148.62it/s]"
          }
        },
        "d188efa423154cd4883d93e6b9383594": {
          "model_module": "@jupyter-widgets/base",
          "model_name": "LayoutModel",
          "model_module_version": "1.2.0",
          "state": {
            "_model_module": "@jupyter-widgets/base",
            "_model_module_version": "1.2.0",
            "_model_name": "LayoutModel",
            "_view_count": null,
            "_view_module": "@jupyter-widgets/base",
            "_view_module_version": "1.2.0",
            "_view_name": "LayoutView",
            "align_content": null,
            "align_items": null,
            "align_self": null,
            "border": null,
            "bottom": null,
            "display": null,
            "flex": null,
            "flex_flow": null,
            "grid_area": null,
            "grid_auto_columns": null,
            "grid_auto_flow": null,
            "grid_auto_rows": null,
            "grid_column": null,
            "grid_gap": null,
            "grid_row": null,
            "grid_template_areas": null,
            "grid_template_columns": null,
            "grid_template_rows": null,
            "height": null,
            "justify_content": null,
            "justify_items": null,
            "left": null,
            "margin": null,
            "max_height": null,
            "max_width": null,
            "min_height": null,
            "min_width": null,
            "object_fit": null,
            "object_position": null,
            "order": null,
            "overflow": null,
            "overflow_x": null,
            "overflow_y": null,
            "padding": null,
            "right": null,
            "top": null,
            "visibility": null,
            "width": null
          }
        },
        "99b57baece6d4b6fa78a1657ada9413b": {
          "model_module": "@jupyter-widgets/base",
          "model_name": "LayoutModel",
          "model_module_version": "1.2.0",
          "state": {
            "_model_module": "@jupyter-widgets/base",
            "_model_module_version": "1.2.0",
            "_model_name": "LayoutModel",
            "_view_count": null,
            "_view_module": "@jupyter-widgets/base",
            "_view_module_version": "1.2.0",
            "_view_name": "LayoutView",
            "align_content": null,
            "align_items": null,
            "align_self": null,
            "border": null,
            "bottom": null,
            "display": null,
            "flex": null,
            "flex_flow": null,
            "grid_area": null,
            "grid_auto_columns": null,
            "grid_auto_flow": null,
            "grid_auto_rows": null,
            "grid_column": null,
            "grid_gap": null,
            "grid_row": null,
            "grid_template_areas": null,
            "grid_template_columns": null,
            "grid_template_rows": null,
            "height": null,
            "justify_content": null,
            "justify_items": null,
            "left": null,
            "margin": null,
            "max_height": null,
            "max_width": null,
            "min_height": null,
            "min_width": null,
            "object_fit": null,
            "object_position": null,
            "order": null,
            "overflow": null,
            "overflow_x": null,
            "overflow_y": null,
            "padding": null,
            "right": null,
            "top": null,
            "visibility": null,
            "width": null
          }
        },
        "5b17611a8025468aa551fd60b0aceb25": {
          "model_module": "@jupyter-widgets/controls",
          "model_name": "DescriptionStyleModel",
          "model_module_version": "1.5.0",
          "state": {
            "_model_module": "@jupyter-widgets/controls",
            "_model_module_version": "1.5.0",
            "_model_name": "DescriptionStyleModel",
            "_view_count": null,
            "_view_module": "@jupyter-widgets/base",
            "_view_module_version": "1.2.0",
            "_view_name": "StyleView",
            "description_width": ""
          }
        },
        "e177982b15b046888743b4b910b30219": {
          "model_module": "@jupyter-widgets/base",
          "model_name": "LayoutModel",
          "model_module_version": "1.2.0",
          "state": {
            "_model_module": "@jupyter-widgets/base",
            "_model_module_version": "1.2.0",
            "_model_name": "LayoutModel",
            "_view_count": null,
            "_view_module": "@jupyter-widgets/base",
            "_view_module_version": "1.2.0",
            "_view_name": "LayoutView",
            "align_content": null,
            "align_items": null,
            "align_self": null,
            "border": null,
            "bottom": null,
            "display": null,
            "flex": null,
            "flex_flow": null,
            "grid_area": null,
            "grid_auto_columns": null,
            "grid_auto_flow": null,
            "grid_auto_rows": null,
            "grid_column": null,
            "grid_gap": null,
            "grid_row": null,
            "grid_template_areas": null,
            "grid_template_columns": null,
            "grid_template_rows": null,
            "height": null,
            "justify_content": null,
            "justify_items": null,
            "left": null,
            "margin": null,
            "max_height": null,
            "max_width": null,
            "min_height": null,
            "min_width": null,
            "object_fit": null,
            "object_position": null,
            "order": null,
            "overflow": null,
            "overflow_x": null,
            "overflow_y": null,
            "padding": null,
            "right": null,
            "top": null,
            "visibility": null,
            "width": null
          }
        },
        "cc5d947dc6cf431295944c1669950d58": {
          "model_module": "@jupyter-widgets/controls",
          "model_name": "ProgressStyleModel",
          "model_module_version": "1.5.0",
          "state": {
            "_model_module": "@jupyter-widgets/controls",
            "_model_module_version": "1.5.0",
            "_model_name": "ProgressStyleModel",
            "_view_count": null,
            "_view_module": "@jupyter-widgets/base",
            "_view_module_version": "1.2.0",
            "_view_name": "StyleView",
            "bar_color": null,
            "description_width": ""
          }
        },
        "4e4fe3f4c61b47dda752c422b4d905b0": {
          "model_module": "@jupyter-widgets/base",
          "model_name": "LayoutModel",
          "model_module_version": "1.2.0",
          "state": {
            "_model_module": "@jupyter-widgets/base",
            "_model_module_version": "1.2.0",
            "_model_name": "LayoutModel",
            "_view_count": null,
            "_view_module": "@jupyter-widgets/base",
            "_view_module_version": "1.2.0",
            "_view_name": "LayoutView",
            "align_content": null,
            "align_items": null,
            "align_self": null,
            "border": null,
            "bottom": null,
            "display": null,
            "flex": null,
            "flex_flow": null,
            "grid_area": null,
            "grid_auto_columns": null,
            "grid_auto_flow": null,
            "grid_auto_rows": null,
            "grid_column": null,
            "grid_gap": null,
            "grid_row": null,
            "grid_template_areas": null,
            "grid_template_columns": null,
            "grid_template_rows": null,
            "height": null,
            "justify_content": null,
            "justify_items": null,
            "left": null,
            "margin": null,
            "max_height": null,
            "max_width": null,
            "min_height": null,
            "min_width": null,
            "object_fit": null,
            "object_position": null,
            "order": null,
            "overflow": null,
            "overflow_x": null,
            "overflow_y": null,
            "padding": null,
            "right": null,
            "top": null,
            "visibility": null,
            "width": null
          }
        },
        "381b623ca2f6402a82d5115601a5f733": {
          "model_module": "@jupyter-widgets/controls",
          "model_name": "DescriptionStyleModel",
          "model_module_version": "1.5.0",
          "state": {
            "_model_module": "@jupyter-widgets/controls",
            "_model_module_version": "1.5.0",
            "_model_name": "DescriptionStyleModel",
            "_view_count": null,
            "_view_module": "@jupyter-widgets/base",
            "_view_module_version": "1.2.0",
            "_view_name": "StyleView",
            "description_width": ""
          }
        },
        "c4d6a9d9b2b04b5e8dd45c711af3bbc4": {
          "model_module": "@jupyter-widgets/controls",
          "model_name": "HBoxModel",
          "model_module_version": "1.5.0",
          "state": {
            "_dom_classes": [],
            "_model_module": "@jupyter-widgets/controls",
            "_model_module_version": "1.5.0",
            "_model_name": "HBoxModel",
            "_view_count": null,
            "_view_module": "@jupyter-widgets/controls",
            "_view_module_version": "1.5.0",
            "_view_name": "HBoxView",
            "box_style": "",
            "children": [
              "IPY_MODEL_56a8a988c07d4ab5ab94a188f9140dd6",
              "IPY_MODEL_a740c2e3cb7e4c159e3233297e0552c9",
              "IPY_MODEL_cd5af8cbd8ba48b3bebee56d0a74eb2f"
            ],
            "layout": "IPY_MODEL_51846855dd8a4beeba8b974059e50873"
          }
        },
        "56a8a988c07d4ab5ab94a188f9140dd6": {
          "model_module": "@jupyter-widgets/controls",
          "model_name": "HTMLModel",
          "model_module_version": "1.5.0",
          "state": {
            "_dom_classes": [],
            "_model_module": "@jupyter-widgets/controls",
            "_model_module_version": "1.5.0",
            "_model_name": "HTMLModel",
            "_view_count": null,
            "_view_module": "@jupyter-widgets/controls",
            "_view_module_version": "1.5.0",
            "_view_name": "HTMLView",
            "description": "",
            "description_tooltip": null,
            "layout": "IPY_MODEL_836b34be57504ec2ab090b8c5aad3b7c",
            "placeholder": "​",
            "style": "IPY_MODEL_36b6839a9b9b48f1881bf7d8cd814492",
            "value": "100%"
          }
        },
        "a740c2e3cb7e4c159e3233297e0552c9": {
          "model_module": "@jupyter-widgets/controls",
          "model_name": "FloatProgressModel",
          "model_module_version": "1.5.0",
          "state": {
            "_dom_classes": [],
            "_model_module": "@jupyter-widgets/controls",
            "_model_module_version": "1.5.0",
            "_model_name": "FloatProgressModel",
            "_view_count": null,
            "_view_module": "@jupyter-widgets/controls",
            "_view_module_version": "1.5.0",
            "_view_name": "ProgressView",
            "bar_style": "success",
            "description": "",
            "description_tooltip": null,
            "layout": "IPY_MODEL_0014d8e5ad2448b0a9deab1cd0dd3198",
            "max": 29515,
            "min": 0,
            "orientation": "horizontal",
            "style": "IPY_MODEL_e8cec6a54cbb4e93b7c12a8647ca242d",
            "value": 29515
          }
        },
        "cd5af8cbd8ba48b3bebee56d0a74eb2f": {
          "model_module": "@jupyter-widgets/controls",
          "model_name": "HTMLModel",
          "model_module_version": "1.5.0",
          "state": {
            "_dom_classes": [],
            "_model_module": "@jupyter-widgets/controls",
            "_model_module_version": "1.5.0",
            "_model_name": "HTMLModel",
            "_view_count": null,
            "_view_module": "@jupyter-widgets/controls",
            "_view_module_version": "1.5.0",
            "_view_name": "HTMLView",
            "description": "",
            "description_tooltip": null,
            "layout": "IPY_MODEL_3c12e581b1de44a88fc4218b70f12fea",
            "placeholder": "​",
            "style": "IPY_MODEL_0e8fe139299949c1a544b4b96ed373c0",
            "value": " 29515/29515 [00:00&lt;00:00, 603100.80it/s]"
          }
        },
        "51846855dd8a4beeba8b974059e50873": {
          "model_module": "@jupyter-widgets/base",
          "model_name": "LayoutModel",
          "model_module_version": "1.2.0",
          "state": {
            "_model_module": "@jupyter-widgets/base",
            "_model_module_version": "1.2.0",
            "_model_name": "LayoutModel",
            "_view_count": null,
            "_view_module": "@jupyter-widgets/base",
            "_view_module_version": "1.2.0",
            "_view_name": "LayoutView",
            "align_content": null,
            "align_items": null,
            "align_self": null,
            "border": null,
            "bottom": null,
            "display": null,
            "flex": null,
            "flex_flow": null,
            "grid_area": null,
            "grid_auto_columns": null,
            "grid_auto_flow": null,
            "grid_auto_rows": null,
            "grid_column": null,
            "grid_gap": null,
            "grid_row": null,
            "grid_template_areas": null,
            "grid_template_columns": null,
            "grid_template_rows": null,
            "height": null,
            "justify_content": null,
            "justify_items": null,
            "left": null,
            "margin": null,
            "max_height": null,
            "max_width": null,
            "min_height": null,
            "min_width": null,
            "object_fit": null,
            "object_position": null,
            "order": null,
            "overflow": null,
            "overflow_x": null,
            "overflow_y": null,
            "padding": null,
            "right": null,
            "top": null,
            "visibility": null,
            "width": null
          }
        },
        "836b34be57504ec2ab090b8c5aad3b7c": {
          "model_module": "@jupyter-widgets/base",
          "model_name": "LayoutModel",
          "model_module_version": "1.2.0",
          "state": {
            "_model_module": "@jupyter-widgets/base",
            "_model_module_version": "1.2.0",
            "_model_name": "LayoutModel",
            "_view_count": null,
            "_view_module": "@jupyter-widgets/base",
            "_view_module_version": "1.2.0",
            "_view_name": "LayoutView",
            "align_content": null,
            "align_items": null,
            "align_self": null,
            "border": null,
            "bottom": null,
            "display": null,
            "flex": null,
            "flex_flow": null,
            "grid_area": null,
            "grid_auto_columns": null,
            "grid_auto_flow": null,
            "grid_auto_rows": null,
            "grid_column": null,
            "grid_gap": null,
            "grid_row": null,
            "grid_template_areas": null,
            "grid_template_columns": null,
            "grid_template_rows": null,
            "height": null,
            "justify_content": null,
            "justify_items": null,
            "left": null,
            "margin": null,
            "max_height": null,
            "max_width": null,
            "min_height": null,
            "min_width": null,
            "object_fit": null,
            "object_position": null,
            "order": null,
            "overflow": null,
            "overflow_x": null,
            "overflow_y": null,
            "padding": null,
            "right": null,
            "top": null,
            "visibility": null,
            "width": null
          }
        },
        "36b6839a9b9b48f1881bf7d8cd814492": {
          "model_module": "@jupyter-widgets/controls",
          "model_name": "DescriptionStyleModel",
          "model_module_version": "1.5.0",
          "state": {
            "_model_module": "@jupyter-widgets/controls",
            "_model_module_version": "1.5.0",
            "_model_name": "DescriptionStyleModel",
            "_view_count": null,
            "_view_module": "@jupyter-widgets/base",
            "_view_module_version": "1.2.0",
            "_view_name": "StyleView",
            "description_width": ""
          }
        },
        "0014d8e5ad2448b0a9deab1cd0dd3198": {
          "model_module": "@jupyter-widgets/base",
          "model_name": "LayoutModel",
          "model_module_version": "1.2.0",
          "state": {
            "_model_module": "@jupyter-widgets/base",
            "_model_module_version": "1.2.0",
            "_model_name": "LayoutModel",
            "_view_count": null,
            "_view_module": "@jupyter-widgets/base",
            "_view_module_version": "1.2.0",
            "_view_name": "LayoutView",
            "align_content": null,
            "align_items": null,
            "align_self": null,
            "border": null,
            "bottom": null,
            "display": null,
            "flex": null,
            "flex_flow": null,
            "grid_area": null,
            "grid_auto_columns": null,
            "grid_auto_flow": null,
            "grid_auto_rows": null,
            "grid_column": null,
            "grid_gap": null,
            "grid_row": null,
            "grid_template_areas": null,
            "grid_template_columns": null,
            "grid_template_rows": null,
            "height": null,
            "justify_content": null,
            "justify_items": null,
            "left": null,
            "margin": null,
            "max_height": null,
            "max_width": null,
            "min_height": null,
            "min_width": null,
            "object_fit": null,
            "object_position": null,
            "order": null,
            "overflow": null,
            "overflow_x": null,
            "overflow_y": null,
            "padding": null,
            "right": null,
            "top": null,
            "visibility": null,
            "width": null
          }
        },
        "e8cec6a54cbb4e93b7c12a8647ca242d": {
          "model_module": "@jupyter-widgets/controls",
          "model_name": "ProgressStyleModel",
          "model_module_version": "1.5.0",
          "state": {
            "_model_module": "@jupyter-widgets/controls",
            "_model_module_version": "1.5.0",
            "_model_name": "ProgressStyleModel",
            "_view_count": null,
            "_view_module": "@jupyter-widgets/base",
            "_view_module_version": "1.2.0",
            "_view_name": "StyleView",
            "bar_color": null,
            "description_width": ""
          }
        },
        "3c12e581b1de44a88fc4218b70f12fea": {
          "model_module": "@jupyter-widgets/base",
          "model_name": "LayoutModel",
          "model_module_version": "1.2.0",
          "state": {
            "_model_module": "@jupyter-widgets/base",
            "_model_module_version": "1.2.0",
            "_model_name": "LayoutModel",
            "_view_count": null,
            "_view_module": "@jupyter-widgets/base",
            "_view_module_version": "1.2.0",
            "_view_name": "LayoutView",
            "align_content": null,
            "align_items": null,
            "align_self": null,
            "border": null,
            "bottom": null,
            "display": null,
            "flex": null,
            "flex_flow": null,
            "grid_area": null,
            "grid_auto_columns": null,
            "grid_auto_flow": null,
            "grid_auto_rows": null,
            "grid_column": null,
            "grid_gap": null,
            "grid_row": null,
            "grid_template_areas": null,
            "grid_template_columns": null,
            "grid_template_rows": null,
            "height": null,
            "justify_content": null,
            "justify_items": null,
            "left": null,
            "margin": null,
            "max_height": null,
            "max_width": null,
            "min_height": null,
            "min_width": null,
            "object_fit": null,
            "object_position": null,
            "order": null,
            "overflow": null,
            "overflow_x": null,
            "overflow_y": null,
            "padding": null,
            "right": null,
            "top": null,
            "visibility": null,
            "width": null
          }
        },
        "0e8fe139299949c1a544b4b96ed373c0": {
          "model_module": "@jupyter-widgets/controls",
          "model_name": "DescriptionStyleModel",
          "model_module_version": "1.5.0",
          "state": {
            "_model_module": "@jupyter-widgets/controls",
            "_model_module_version": "1.5.0",
            "_model_name": "DescriptionStyleModel",
            "_view_count": null,
            "_view_module": "@jupyter-widgets/base",
            "_view_module_version": "1.2.0",
            "_view_name": "StyleView",
            "description_width": ""
          }
        },
        "5cb9e5d1f7ca4294ba08f7a7119165b8": {
          "model_module": "@jupyter-widgets/controls",
          "model_name": "HBoxModel",
          "model_module_version": "1.5.0",
          "state": {
            "_dom_classes": [],
            "_model_module": "@jupyter-widgets/controls",
            "_model_module_version": "1.5.0",
            "_model_name": "HBoxModel",
            "_view_count": null,
            "_view_module": "@jupyter-widgets/controls",
            "_view_module_version": "1.5.0",
            "_view_name": "HBoxView",
            "box_style": "",
            "children": [
              "IPY_MODEL_f39e13e462b5491fa73a0595b6eb9114",
              "IPY_MODEL_9cabeef229ba4492b09296d018f38ccc",
              "IPY_MODEL_4a88917cd09d48318db4e0c136d12358"
            ],
            "layout": "IPY_MODEL_fdb0373491a4402b864837a6e7d60556"
          }
        },
        "f39e13e462b5491fa73a0595b6eb9114": {
          "model_module": "@jupyter-widgets/controls",
          "model_name": "HTMLModel",
          "model_module_version": "1.5.0",
          "state": {
            "_dom_classes": [],
            "_model_module": "@jupyter-widgets/controls",
            "_model_module_version": "1.5.0",
            "_model_name": "HTMLModel",
            "_view_count": null,
            "_view_module": "@jupyter-widgets/controls",
            "_view_module_version": "1.5.0",
            "_view_name": "HTMLView",
            "description": "",
            "description_tooltip": null,
            "layout": "IPY_MODEL_c4b36114c26e4880904521784dbb5ca7",
            "placeholder": "​",
            "style": "IPY_MODEL_e47c97b86bbd441b8edb79979c33497d",
            "value": "100%"
          }
        },
        "9cabeef229ba4492b09296d018f38ccc": {
          "model_module": "@jupyter-widgets/controls",
          "model_name": "FloatProgressModel",
          "model_module_version": "1.5.0",
          "state": {
            "_dom_classes": [],
            "_model_module": "@jupyter-widgets/controls",
            "_model_module_version": "1.5.0",
            "_model_name": "FloatProgressModel",
            "_view_count": null,
            "_view_module": "@jupyter-widgets/controls",
            "_view_module_version": "1.5.0",
            "_view_name": "ProgressView",
            "bar_style": "success",
            "description": "",
            "description_tooltip": null,
            "layout": "IPY_MODEL_b8f1124e8434497b9cfeb05bb901c528",
            "max": 4422102,
            "min": 0,
            "orientation": "horizontal",
            "style": "IPY_MODEL_e4065e6d6ca540c5b79fb884bfc4acb9",
            "value": 4422102
          }
        },
        "4a88917cd09d48318db4e0c136d12358": {
          "model_module": "@jupyter-widgets/controls",
          "model_name": "HTMLModel",
          "model_module_version": "1.5.0",
          "state": {
            "_dom_classes": [],
            "_model_module": "@jupyter-widgets/controls",
            "_model_module_version": "1.5.0",
            "_model_name": "HTMLModel",
            "_view_count": null,
            "_view_module": "@jupyter-widgets/controls",
            "_view_module_version": "1.5.0",
            "_view_name": "HTMLView",
            "description": "",
            "description_tooltip": null,
            "layout": "IPY_MODEL_6c1b52415eaa4046bc0c4ca6f0439c0d",
            "placeholder": "​",
            "style": "IPY_MODEL_76f3e133f67747b1889a8ff34a14508e",
            "value": " 4422102/4422102 [00:00&lt;00:00, 45341325.77it/s]"
          }
        },
        "fdb0373491a4402b864837a6e7d60556": {
          "model_module": "@jupyter-widgets/base",
          "model_name": "LayoutModel",
          "model_module_version": "1.2.0",
          "state": {
            "_model_module": "@jupyter-widgets/base",
            "_model_module_version": "1.2.0",
            "_model_name": "LayoutModel",
            "_view_count": null,
            "_view_module": "@jupyter-widgets/base",
            "_view_module_version": "1.2.0",
            "_view_name": "LayoutView",
            "align_content": null,
            "align_items": null,
            "align_self": null,
            "border": null,
            "bottom": null,
            "display": null,
            "flex": null,
            "flex_flow": null,
            "grid_area": null,
            "grid_auto_columns": null,
            "grid_auto_flow": null,
            "grid_auto_rows": null,
            "grid_column": null,
            "grid_gap": null,
            "grid_row": null,
            "grid_template_areas": null,
            "grid_template_columns": null,
            "grid_template_rows": null,
            "height": null,
            "justify_content": null,
            "justify_items": null,
            "left": null,
            "margin": null,
            "max_height": null,
            "max_width": null,
            "min_height": null,
            "min_width": null,
            "object_fit": null,
            "object_position": null,
            "order": null,
            "overflow": null,
            "overflow_x": null,
            "overflow_y": null,
            "padding": null,
            "right": null,
            "top": null,
            "visibility": null,
            "width": null
          }
        },
        "c4b36114c26e4880904521784dbb5ca7": {
          "model_module": "@jupyter-widgets/base",
          "model_name": "LayoutModel",
          "model_module_version": "1.2.0",
          "state": {
            "_model_module": "@jupyter-widgets/base",
            "_model_module_version": "1.2.0",
            "_model_name": "LayoutModel",
            "_view_count": null,
            "_view_module": "@jupyter-widgets/base",
            "_view_module_version": "1.2.0",
            "_view_name": "LayoutView",
            "align_content": null,
            "align_items": null,
            "align_self": null,
            "border": null,
            "bottom": null,
            "display": null,
            "flex": null,
            "flex_flow": null,
            "grid_area": null,
            "grid_auto_columns": null,
            "grid_auto_flow": null,
            "grid_auto_rows": null,
            "grid_column": null,
            "grid_gap": null,
            "grid_row": null,
            "grid_template_areas": null,
            "grid_template_columns": null,
            "grid_template_rows": null,
            "height": null,
            "justify_content": null,
            "justify_items": null,
            "left": null,
            "margin": null,
            "max_height": null,
            "max_width": null,
            "min_height": null,
            "min_width": null,
            "object_fit": null,
            "object_position": null,
            "order": null,
            "overflow": null,
            "overflow_x": null,
            "overflow_y": null,
            "padding": null,
            "right": null,
            "top": null,
            "visibility": null,
            "width": null
          }
        },
        "e47c97b86bbd441b8edb79979c33497d": {
          "model_module": "@jupyter-widgets/controls",
          "model_name": "DescriptionStyleModel",
          "model_module_version": "1.5.0",
          "state": {
            "_model_module": "@jupyter-widgets/controls",
            "_model_module_version": "1.5.0",
            "_model_name": "DescriptionStyleModel",
            "_view_count": null,
            "_view_module": "@jupyter-widgets/base",
            "_view_module_version": "1.2.0",
            "_view_name": "StyleView",
            "description_width": ""
          }
        },
        "b8f1124e8434497b9cfeb05bb901c528": {
          "model_module": "@jupyter-widgets/base",
          "model_name": "LayoutModel",
          "model_module_version": "1.2.0",
          "state": {
            "_model_module": "@jupyter-widgets/base",
            "_model_module_version": "1.2.0",
            "_model_name": "LayoutModel",
            "_view_count": null,
            "_view_module": "@jupyter-widgets/base",
            "_view_module_version": "1.2.0",
            "_view_name": "LayoutView",
            "align_content": null,
            "align_items": null,
            "align_self": null,
            "border": null,
            "bottom": null,
            "display": null,
            "flex": null,
            "flex_flow": null,
            "grid_area": null,
            "grid_auto_columns": null,
            "grid_auto_flow": null,
            "grid_auto_rows": null,
            "grid_column": null,
            "grid_gap": null,
            "grid_row": null,
            "grid_template_areas": null,
            "grid_template_columns": null,
            "grid_template_rows": null,
            "height": null,
            "justify_content": null,
            "justify_items": null,
            "left": null,
            "margin": null,
            "max_height": null,
            "max_width": null,
            "min_height": null,
            "min_width": null,
            "object_fit": null,
            "object_position": null,
            "order": null,
            "overflow": null,
            "overflow_x": null,
            "overflow_y": null,
            "padding": null,
            "right": null,
            "top": null,
            "visibility": null,
            "width": null
          }
        },
        "e4065e6d6ca540c5b79fb884bfc4acb9": {
          "model_module": "@jupyter-widgets/controls",
          "model_name": "ProgressStyleModel",
          "model_module_version": "1.5.0",
          "state": {
            "_model_module": "@jupyter-widgets/controls",
            "_model_module_version": "1.5.0",
            "_model_name": "ProgressStyleModel",
            "_view_count": null,
            "_view_module": "@jupyter-widgets/base",
            "_view_module_version": "1.2.0",
            "_view_name": "StyleView",
            "bar_color": null,
            "description_width": ""
          }
        },
        "6c1b52415eaa4046bc0c4ca6f0439c0d": {
          "model_module": "@jupyter-widgets/base",
          "model_name": "LayoutModel",
          "model_module_version": "1.2.0",
          "state": {
            "_model_module": "@jupyter-widgets/base",
            "_model_module_version": "1.2.0",
            "_model_name": "LayoutModel",
            "_view_count": null,
            "_view_module": "@jupyter-widgets/base",
            "_view_module_version": "1.2.0",
            "_view_name": "LayoutView",
            "align_content": null,
            "align_items": null,
            "align_self": null,
            "border": null,
            "bottom": null,
            "display": null,
            "flex": null,
            "flex_flow": null,
            "grid_area": null,
            "grid_auto_columns": null,
            "grid_auto_flow": null,
            "grid_auto_rows": null,
            "grid_column": null,
            "grid_gap": null,
            "grid_row": null,
            "grid_template_areas": null,
            "grid_template_columns": null,
            "grid_template_rows": null,
            "height": null,
            "justify_content": null,
            "justify_items": null,
            "left": null,
            "margin": null,
            "max_height": null,
            "max_width": null,
            "min_height": null,
            "min_width": null,
            "object_fit": null,
            "object_position": null,
            "order": null,
            "overflow": null,
            "overflow_x": null,
            "overflow_y": null,
            "padding": null,
            "right": null,
            "top": null,
            "visibility": null,
            "width": null
          }
        },
        "76f3e133f67747b1889a8ff34a14508e": {
          "model_module": "@jupyter-widgets/controls",
          "model_name": "DescriptionStyleModel",
          "model_module_version": "1.5.0",
          "state": {
            "_model_module": "@jupyter-widgets/controls",
            "_model_module_version": "1.5.0",
            "_model_name": "DescriptionStyleModel",
            "_view_count": null,
            "_view_module": "@jupyter-widgets/base",
            "_view_module_version": "1.2.0",
            "_view_name": "StyleView",
            "description_width": ""
          }
        },
        "b611f3521e1f4a28bef1102dd3d1493a": {
          "model_module": "@jupyter-widgets/controls",
          "model_name": "HBoxModel",
          "model_module_version": "1.5.0",
          "state": {
            "_dom_classes": [],
            "_model_module": "@jupyter-widgets/controls",
            "_model_module_version": "1.5.0",
            "_model_name": "HBoxModel",
            "_view_count": null,
            "_view_module": "@jupyter-widgets/controls",
            "_view_module_version": "1.5.0",
            "_view_name": "HBoxView",
            "box_style": "",
            "children": [
              "IPY_MODEL_b19324bf178a43aa8f8e88a7b9cb39e5",
              "IPY_MODEL_d24c082a45f64f2fb57a6aa49b40efac",
              "IPY_MODEL_d3fbe58453444d30b975609afc52bdc4"
            ],
            "layout": "IPY_MODEL_d940ac0b6918477cb797dedb2b5389fa"
          }
        },
        "b19324bf178a43aa8f8e88a7b9cb39e5": {
          "model_module": "@jupyter-widgets/controls",
          "model_name": "HTMLModel",
          "model_module_version": "1.5.0",
          "state": {
            "_dom_classes": [],
            "_model_module": "@jupyter-widgets/controls",
            "_model_module_version": "1.5.0",
            "_model_name": "HTMLModel",
            "_view_count": null,
            "_view_module": "@jupyter-widgets/controls",
            "_view_module_version": "1.5.0",
            "_view_name": "HTMLView",
            "description": "",
            "description_tooltip": null,
            "layout": "IPY_MODEL_f8dcec01a452420f9db183c812fdec98",
            "placeholder": "​",
            "style": "IPY_MODEL_fc173c1006a041c7b0767f0a758df003",
            "value": "100%"
          }
        },
        "d24c082a45f64f2fb57a6aa49b40efac": {
          "model_module": "@jupyter-widgets/controls",
          "model_name": "FloatProgressModel",
          "model_module_version": "1.5.0",
          "state": {
            "_dom_classes": [],
            "_model_module": "@jupyter-widgets/controls",
            "_model_module_version": "1.5.0",
            "_model_name": "FloatProgressModel",
            "_view_count": null,
            "_view_module": "@jupyter-widgets/controls",
            "_view_module_version": "1.5.0",
            "_view_name": "ProgressView",
            "bar_style": "success",
            "description": "",
            "description_tooltip": null,
            "layout": "IPY_MODEL_5e6c6df34d534c2e9201c4031b642d85",
            "max": 5148,
            "min": 0,
            "orientation": "horizontal",
            "style": "IPY_MODEL_29a68d536f364f0e8a03bf368e5ffbb8",
            "value": 5148
          }
        },
        "d3fbe58453444d30b975609afc52bdc4": {
          "model_module": "@jupyter-widgets/controls",
          "model_name": "HTMLModel",
          "model_module_version": "1.5.0",
          "state": {
            "_dom_classes": [],
            "_model_module": "@jupyter-widgets/controls",
            "_model_module_version": "1.5.0",
            "_model_name": "HTMLModel",
            "_view_count": null,
            "_view_module": "@jupyter-widgets/controls",
            "_view_module_version": "1.5.0",
            "_view_name": "HTMLView",
            "description": "",
            "description_tooltip": null,
            "layout": "IPY_MODEL_ca198a4e58f540ba8a2a51b91b98767a",
            "placeholder": "​",
            "style": "IPY_MODEL_e27c071a4a464350bb84e695a3de6ab2",
            "value": " 5148/5148 [00:00&lt;00:00, 164626.73it/s]"
          }
        },
        "d940ac0b6918477cb797dedb2b5389fa": {
          "model_module": "@jupyter-widgets/base",
          "model_name": "LayoutModel",
          "model_module_version": "1.2.0",
          "state": {
            "_model_module": "@jupyter-widgets/base",
            "_model_module_version": "1.2.0",
            "_model_name": "LayoutModel",
            "_view_count": null,
            "_view_module": "@jupyter-widgets/base",
            "_view_module_version": "1.2.0",
            "_view_name": "LayoutView",
            "align_content": null,
            "align_items": null,
            "align_self": null,
            "border": null,
            "bottom": null,
            "display": null,
            "flex": null,
            "flex_flow": null,
            "grid_area": null,
            "grid_auto_columns": null,
            "grid_auto_flow": null,
            "grid_auto_rows": null,
            "grid_column": null,
            "grid_gap": null,
            "grid_row": null,
            "grid_template_areas": null,
            "grid_template_columns": null,
            "grid_template_rows": null,
            "height": null,
            "justify_content": null,
            "justify_items": null,
            "left": null,
            "margin": null,
            "max_height": null,
            "max_width": null,
            "min_height": null,
            "min_width": null,
            "object_fit": null,
            "object_position": null,
            "order": null,
            "overflow": null,
            "overflow_x": null,
            "overflow_y": null,
            "padding": null,
            "right": null,
            "top": null,
            "visibility": null,
            "width": null
          }
        },
        "f8dcec01a452420f9db183c812fdec98": {
          "model_module": "@jupyter-widgets/base",
          "model_name": "LayoutModel",
          "model_module_version": "1.2.0",
          "state": {
            "_model_module": "@jupyter-widgets/base",
            "_model_module_version": "1.2.0",
            "_model_name": "LayoutModel",
            "_view_count": null,
            "_view_module": "@jupyter-widgets/base",
            "_view_module_version": "1.2.0",
            "_view_name": "LayoutView",
            "align_content": null,
            "align_items": null,
            "align_self": null,
            "border": null,
            "bottom": null,
            "display": null,
            "flex": null,
            "flex_flow": null,
            "grid_area": null,
            "grid_auto_columns": null,
            "grid_auto_flow": null,
            "grid_auto_rows": null,
            "grid_column": null,
            "grid_gap": null,
            "grid_row": null,
            "grid_template_areas": null,
            "grid_template_columns": null,
            "grid_template_rows": null,
            "height": null,
            "justify_content": null,
            "justify_items": null,
            "left": null,
            "margin": null,
            "max_height": null,
            "max_width": null,
            "min_height": null,
            "min_width": null,
            "object_fit": null,
            "object_position": null,
            "order": null,
            "overflow": null,
            "overflow_x": null,
            "overflow_y": null,
            "padding": null,
            "right": null,
            "top": null,
            "visibility": null,
            "width": null
          }
        },
        "fc173c1006a041c7b0767f0a758df003": {
          "model_module": "@jupyter-widgets/controls",
          "model_name": "DescriptionStyleModel",
          "model_module_version": "1.5.0",
          "state": {
            "_model_module": "@jupyter-widgets/controls",
            "_model_module_version": "1.5.0",
            "_model_name": "DescriptionStyleModel",
            "_view_count": null,
            "_view_module": "@jupyter-widgets/base",
            "_view_module_version": "1.2.0",
            "_view_name": "StyleView",
            "description_width": ""
          }
        },
        "5e6c6df34d534c2e9201c4031b642d85": {
          "model_module": "@jupyter-widgets/base",
          "model_name": "LayoutModel",
          "model_module_version": "1.2.0",
          "state": {
            "_model_module": "@jupyter-widgets/base",
            "_model_module_version": "1.2.0",
            "_model_name": "LayoutModel",
            "_view_count": null,
            "_view_module": "@jupyter-widgets/base",
            "_view_module_version": "1.2.0",
            "_view_name": "LayoutView",
            "align_content": null,
            "align_items": null,
            "align_self": null,
            "border": null,
            "bottom": null,
            "display": null,
            "flex": null,
            "flex_flow": null,
            "grid_area": null,
            "grid_auto_columns": null,
            "grid_auto_flow": null,
            "grid_auto_rows": null,
            "grid_column": null,
            "grid_gap": null,
            "grid_row": null,
            "grid_template_areas": null,
            "grid_template_columns": null,
            "grid_template_rows": null,
            "height": null,
            "justify_content": null,
            "justify_items": null,
            "left": null,
            "margin": null,
            "max_height": null,
            "max_width": null,
            "min_height": null,
            "min_width": null,
            "object_fit": null,
            "object_position": null,
            "order": null,
            "overflow": null,
            "overflow_x": null,
            "overflow_y": null,
            "padding": null,
            "right": null,
            "top": null,
            "visibility": null,
            "width": null
          }
        },
        "29a68d536f364f0e8a03bf368e5ffbb8": {
          "model_module": "@jupyter-widgets/controls",
          "model_name": "ProgressStyleModel",
          "model_module_version": "1.5.0",
          "state": {
            "_model_module": "@jupyter-widgets/controls",
            "_model_module_version": "1.5.0",
            "_model_name": "ProgressStyleModel",
            "_view_count": null,
            "_view_module": "@jupyter-widgets/base",
            "_view_module_version": "1.2.0",
            "_view_name": "StyleView",
            "bar_color": null,
            "description_width": ""
          }
        },
        "ca198a4e58f540ba8a2a51b91b98767a": {
          "model_module": "@jupyter-widgets/base",
          "model_name": "LayoutModel",
          "model_module_version": "1.2.0",
          "state": {
            "_model_module": "@jupyter-widgets/base",
            "_model_module_version": "1.2.0",
            "_model_name": "LayoutModel",
            "_view_count": null,
            "_view_module": "@jupyter-widgets/base",
            "_view_module_version": "1.2.0",
            "_view_name": "LayoutView",
            "align_content": null,
            "align_items": null,
            "align_self": null,
            "border": null,
            "bottom": null,
            "display": null,
            "flex": null,
            "flex_flow": null,
            "grid_area": null,
            "grid_auto_columns": null,
            "grid_auto_flow": null,
            "grid_auto_rows": null,
            "grid_column": null,
            "grid_gap": null,
            "grid_row": null,
            "grid_template_areas": null,
            "grid_template_columns": null,
            "grid_template_rows": null,
            "height": null,
            "justify_content": null,
            "justify_items": null,
            "left": null,
            "margin": null,
            "max_height": null,
            "max_width": null,
            "min_height": null,
            "min_width": null,
            "object_fit": null,
            "object_position": null,
            "order": null,
            "overflow": null,
            "overflow_x": null,
            "overflow_y": null,
            "padding": null,
            "right": null,
            "top": null,
            "visibility": null,
            "width": null
          }
        },
        "e27c071a4a464350bb84e695a3de6ab2": {
          "model_module": "@jupyter-widgets/controls",
          "model_name": "DescriptionStyleModel",
          "model_module_version": "1.5.0",
          "state": {
            "_model_module": "@jupyter-widgets/controls",
            "_model_module_version": "1.5.0",
            "_model_name": "DescriptionStyleModel",
            "_view_count": null,
            "_view_module": "@jupyter-widgets/base",
            "_view_module_version": "1.2.0",
            "_view_name": "StyleView",
            "description_width": ""
          }
        }
      }
    },
    "gpuClass": "standard"
  },
  "nbformat": 4,
  "nbformat_minor": 0
}