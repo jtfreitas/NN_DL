{
 "cells": [
  {
   "cell_type": "code",
   "execution_count": 8,
   "id": "52622442-ee01-4f79-ad0a-ba6efe8fb2c6",
   "metadata": {},
   "outputs": [
    {
     "name": "stdout",
     "output_type": "stream",
     "text": [
      "Training device in use: cuda\n"
     ]
    },
    {
     "data": {
      "text/plain": [
       "<torch._C.Generator at 0x7ff478174c70>"
      ]
     },
     "execution_count": 8,
     "metadata": {},
     "output_type": "execute_result"
    }
   ],
   "source": [
    "import os\n",
    "import pandas as pd\n",
    "import numpy as np\n",
    "import matplotlib.pyplot as plt\n",
    "import random\n",
    "from random import sample\n",
    "from nn_tools import *\n",
    "from itertools import product as prod\n",
    "\n",
    "import torch\n",
    "from torch.utils.data import Dataset\n",
    "import torch\n",
    "import torch.nn as nn\n",
    "import torch.nn.functional as F\n",
    "import torch.optim as optim\n",
    "import numpy as np\n",
    "\n",
    "from torch.utils.data import DataLoader\n",
    "from torch.utils.data.sampler import SubsetRandomSampler as rand_sampler\n",
    "\n",
    "from sklearn.model_selection import train_test_split\n",
    "#from torch.utils.data import Dataset, DataLoader\n",
    "from torchvision import transforms\n",
    "\n",
    "device = torch.device(\"cuda\") if torch.cuda.is_available() else torch.device(\"cpu\")\n",
    "print(f\"Training device in use: {device}\")\n",
    "\n",
    "seed = 69420\n",
    "\n",
    "random.seed(seed)\n",
    "torch.manual_seed(seed)"
   ]
  },
  {
   "cell_type": "markdown",
   "id": "4acc8764-8917-4587-8c48-dbef5c846ea6",
   "metadata": {
    "tags": []
   },
   "source": [
    "# Classification task"
   ]
  },
  {
   "cell_type": "code",
   "execution_count": 9,
   "id": "e6d4c107-d848-489f-bf8f-7c92e3faaa29",
   "metadata": {},
   "outputs": [],
   "source": [
    "from torchvision import datasets"
   ]
  },
  {
   "cell_type": "code",
   "execution_count": 10,
   "id": "c6edae38-a626-486f-9f88-cd5f262e9f66",
   "metadata": {},
   "outputs": [],
   "source": [
    "transform = transforms.Compose([\n",
    "        transforms.ToTensor()]) \n",
    "\n",
    "train_dataset = datasets.FashionMNIST('classifier_data', train=True, download=True, transform = transform)\n",
    "test_dataset  = datasets.FashionMNIST('classifier_data', train=False, download=True, transform = transform)\n",
    "\n",
    "n_train = int(len(train_dataset)/2)\n",
    "n_test = int(len(test_dataset))\n",
    "\n",
    "split_idx = int(0.75*n_train)\n",
    "train_samples = rand_sampler(list(range(n_train))[:split_idx])\n",
    "val_samples = rand_sampler(list(range(n_train))[split_idx:])\n",
    "\n",
    "train_dataloader = DataLoader(train_dataset, sampler = train_samples, batch_size = 256, num_workers = 0)\n",
    "val_dataloader = DataLoader(train_dataset, sampler = val_samples, batch_size = n_train - split_idx, num_workers = 0)\n",
    "\n",
    "test_dataloader = DataLoader(test_dataset, batch_size = None, shuffle = True, num_workers = 0)"
   ]
  },
  {
   "cell_type": "code",
   "execution_count": 11,
   "id": "63cea045-1322-481d-bc24-d77196f6135f",
   "metadata": {},
   "outputs": [
    {
     "data": {
      "text/plain": [
       "torch.Size([28, 28])"
      ]
     },
     "execution_count": 11,
     "metadata": {},
     "output_type": "execute_result"
    }
   ],
   "source": [
    "val_dataloader.dataset.data[0].shape"
   ]
  },
  {
   "cell_type": "code",
   "execution_count": 13,
   "id": "5973d0ec-e9a7-45bd-be5e-1d8248e375fe",
   "metadata": {},
   "outputs": [
    {
     "name": "stdout",
     "output_type": "stream",
     "text": [
      "SAMPLE AT INDEX 37\n",
      "LABEL: 2\n"
     ]
    },
    {
     "data": {
      "image/png": "[encoded data removed]",
      "text/plain": [
       "<Figure size 144x144 with 1 Axes>"
      ]
     },
     "metadata": {
      "needs_background": "light"
     },
     "output_type": "display_data"
    }
   ],
   "source": [
    "sample_index = 37\n",
    "image = train_dataset[sample_index][0].squeeze()\n",
    "label = train_dataset[sample_index][1]\n",
    "\n",
    "fig = plt.figure(figsize=(2,2))\n",
    "plt.imshow(image, cmap='Greys')\n",
    "print(f\"SAMPLE AT INDEX {sample_index}\")\n",
    "print(f\"LABEL: {label}\")\n",
    "\n",
    "img_shape = tuple(image.shape)\n",
    "no_labels = len(np.unique(train_dataset.train_labels))"
   ]
  },
  {
   "cell_type": "code",
   "execution_count": 14,
   "id": "cd4757e6-2545-430a-a5ef-7af299be0c1a",
   "metadata": {},
   "outputs": [],
   "source": [
    "class CNN2D(data_API):\n",
    "    \n",
    "    def __init__(self, device, in_side, conv1_filters, k_size1, conv2_filters, k_size2, Nh1, Nh2, N_labels):\n",
    "        \"\"\"\n",
    "        Ni - Input size\n",
    "        Nh1 - Neurons in the 1st hidden layer\n",
    "        Nh2 - Neurons in the 2nd hidden layer\n",
    "        No - Output size\n",
    "        \"\"\"\n",
    "        super().__init__(device)\n",
    "        super().train_model\n",
    "        self.conv1 = nn.Conv2d(1, conv1_filters, k_size1) # 28 to 24(* conv1_size)\n",
    "        self.conv2 = nn.Conv2d(conv1_filters, conv2_filters, k_size2) # 24 to 12, and 12 to 8(*conv2_size)\n",
    "        self.conv_shape = self.no_params_conv(self.no_params_conv(self.no_params_conv(self.no_params_conv(in_side, k_size1, 0, 1), 2, 0, 1), k_size2, 0, 1), 2, 0, 1)\n",
    "        self.fc1 = nn.Linear(in_features= conv2_filters*self.conv_shape**2, out_features=Nh1)\n",
    "        self.dropout = nn.Dropout(p = 0.4)\n",
    "        self.fc2 = nn.Linear(in_features=Nh1, out_features=Nh2)\n",
    "        self.out = nn.Linear(in_features=Nh2, out_features=N_labels)\n",
    "                \n",
    "        print(\"Network initialized\")\n",
    "        \n",
    "    def forward(self, x, additional_out=False):\n",
    "        x = F.max_pool2d(F.relu(self.conv1(x)), 2, stride = 1)\n",
    "        x = F.max_pool2d(F.relu(self.conv2(x)), 2, stride = 1)\n",
    "        x = torch.flatten(x, 1)\n",
    "        x = F.relu(self.fc1(x))\n",
    "        x = self.dropout(x)\n",
    "        x = F.relu(self.fc2(x))\n",
    "        x = self.out(x)\n",
    "        return x\n",
    "\n",
    "    def no_params_conv(self, in_size, kernel, padding, stride):\n",
    "        \"\"\"\n",
    "        Finds no of parameters per channel after every convolution/pooling\n",
    "        \"\"\"\n",
    "        return int((in_size - kernel + 2*padding)/stride + 1)\n"
   ]
  },
  {
   "cell_type": "code",
   "execution_count": 19,
   "id": "cb00af29-3eaa-4dfb-b63c-9ca9adfd0609",
   "metadata": {},
   "outputs": [
    {
     "name": "stdout",
     "output_type": "stream",
     "text": [
      "Network initialized\n"
     ]
    }
   ],
   "source": [
    "fashion_classifier = CNN2D(device, 28, 5, 4, 8, 3, 20, 16, no_labels)\n",
    "\n",
    "fashion_classifier.to(device)\n",
    "loss_fn = nn.CrossEntropyLoss()\n",
    "optimizer = optim.Adam(fashion_classifier.parameters(), lr = 0.01)"
   ]
  },
  {
   "cell_type": "code",
   "execution_count": 20,
   "id": "ac0f8f12-c5f8-44d8-908b-05080cf7f781",
   "metadata": {},
   "outputs": [
    {
     "name": "stdout",
     "output_type": "stream",
     "text": [
      "Epoch: 49 :::::::::: AVERAGE VAL LOSS: 0.41606\r"
     ]
    }
   ],
   "source": [
    "fashion_classifier.train_model(train_dataloader, 50, loss_fn, optimizer, val_dataloader)"
   ]
  },
  {
   "cell_type": "markdown",
   "id": "4ce2dc46-f7e9-4f83-9f0e-fff8e9c57e61",
   "metadata": {},
   "source": [
    "For ease, I'll normalize the pixel values of the data from (0,255) to (0,1)"
   ]
  }
 ],
 "metadata": {
  "environment": {
   "kernel": "python3",
   "name": "pytorch-gpu.1-9.m82",
   "type": "gcloud",
   "uri": "gcr.io/deeplearning-platform-release/pytorch-gpu.1-9:m82"
  },
  "kernelspec": {
   "display_name": "Python 3",
   "language": "python",
   "name": "python3"
  },
  "language_info": {
   "codemirror_mode": {
    "name": "ipython",
    "version": 3
   },
   "file_extension": ".py",
   "mimetype": "text/x-python",
   "name": "python",
   "nbconvert_exporter": "python",
   "pygments_lexer": "ipython3",
   "version": "3.7.10"
  }
 },
 "nbformat": 4,
 "nbformat_minor": 5
}
