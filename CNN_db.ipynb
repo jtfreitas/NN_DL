{
 "cells": [
  {
   "cell_type": "code",
   "execution_count": 13,
   "metadata": {},
   "outputs": [],
   "source": [
    "%load_ext autoreload"
   ]
  },
  {
   "cell_type": "code",
   "execution_count": 25,
   "metadata": {},
   "outputs": [
    {
     "name": "stdout",
     "output_type": "stream",
     "text": [
      "Training device in use: cpu\n"
     ]
    },
    {
     "data": {
      "text/plain": [
       "<torch._C.Generator at 0x7fb395168930>"
      ]
     },
     "execution_count": 25,
     "metadata": {},
     "output_type": "execute_result"
    }
   ],
   "source": [
    "%autoreload\n",
    "import matplotlib.pyplot as plt\n",
    "from nn_tools import *\n",
    "\n",
    "from torch.utils.data import Dataset, DataLoader\n",
    "\n",
    "from torch.utils.data.sampler import SubsetRandomSampler as rand_sampler\n",
    "from sklearn.model_selection import train_test_split\n",
    "from sklearn.metrics import accuracy_score\n",
    "from torchvision import transforms, datasets\n",
    "\n",
    "device = torch.device(\"cuda\") if torch.cuda.is_available() else torch.device(\"cpu\")\n",
    "print(f\"Training device in use: {device}\")\n",
    "\n",
    "seed = 69420\n",
    "\n",
    "torch.manual_seed(seed)"
   ]
  },
  {
   "cell_type": "code",
   "execution_count": 26,
   "metadata": {},
   "outputs": [
    {
     "name": "stdout",
     "output_type": "stream",
     "text": [
      "SAMPLE AT INDEX 125\n",
      "LABEL: 2\n"
     ]
    },
    {
     "data": {
      "image/png": "[encoded data removed]",
      "text/plain": [
       "<Figure size 144x144 with 1 Axes>"
      ]
     },
     "metadata": {
      "needs_background": "light"
     },
     "output_type": "display_data"
    }
   ],
   "source": [
    "transform = transforms.Compose([\n",
    "        transforms.ToTensor(),\n",
    "        transforms.RandomInvert(p=0.5),\n",
    "        ]) \n",
    "\n",
    "train_dataset = datasets.FashionMNIST('classifier_data', train=True, download=True, transform = transform)\n",
    "test_dataset  = datasets.FashionMNIST('classifier_data', train=False, download=True, transform = transform)\n",
    "\n",
    "n_train = int(len(train_dataset)/5)\n",
    "n_test = int(len(test_dataset))\n",
    "\n",
    "split_idx = int(0.75*n_train)\n",
    "train_samples = rand_sampler(list(range(n_train))[:split_idx])\n",
    "val_samples = rand_sampler(list(range(n_train))[split_idx:])\n",
    "\n",
    "train_dataloader = DataLoader(train_dataset, sampler = train_samples, batch_size = 300, num_workers = 0)\n",
    "val_dataloader = DataLoader(train_dataset, sampler = val_samples, batch_size = n_train - split_idx, num_workers = 0)\n",
    "\n",
    "test_dataloader = DataLoader(test_dataset, batch_size = None, shuffle = True, num_workers = 0)\n",
    "\n",
    "sample_index = 125\n",
    "image = train_dataset[sample_index][0].squeeze()\n",
    "label = train_dataset[sample_index][1]\n",
    "\n",
    "fig = plt.figure(figsize=(2,2))\n",
    "plt.imshow(image, cmap='Greys')\n",
    "print(f\"SAMPLE AT INDEX {sample_index}\")\n",
    "print(f\"LABEL: {label}\")\n",
    "\n",
    "img_shape = tuple(image.shape)\n",
    "no_labels = len(np.unique(train_dataset.targets))"
   ]
  },
  {
   "cell_type": "code",
   "execution_count": 27,
   "id": "cd4757e6-2545-430a-a5ef-7af299be0c1a",
   "metadata": {},
   "outputs": [],
   "source": [
    "class CNN2D(data_API):\n",
    "    \n",
    "    def __init__(self, device, in_side, conv1_filters, k_size1, conv2_filters, k_size2, Nd1, Nd2, N_labels):\n",
    "        \"\"\"\n",
    "        device - device used for computing\n",
    "        in_side - side length of the square images to classify\n",
    "        conv1_filters - no of filters in the first convolutional layer\n",
    "        k_size1 - kernel size of each filter in conv1\n",
    "        conv2_filters - no of filters in the second convolutional layer\n",
    "        k_size2 - kernel size of each filter in conv2\n",
    "        Nh1 - Neurons in the 2nd dense layer (first layer \n",
    "        Nh2 - Neurons in the 2nd hidden layer\n",
    "        No - Output size\n",
    "        \"\"\"\n",
    "        super().__init__(device)\n",
    "        super().train_model\n",
    "\n",
    "        self.conv_shape = self.no_params_conv(\n",
    "                self.no_params_conv(\n",
    "                    self.no_params_conv(self.no_params_conv(in_side, k_size1, 0, 1),2, 0, 1),\n",
    "                    2, 0, 1),\n",
    "                k_size2, 0, 1)\n",
    "        self.dropout = nn.Dropout(p = 0.4)\n",
    "        \n",
    "        self.model = nn.Sequential(\n",
    "            nn.Conv2d(1, conv1_filters, k_size1), nn.ReLU(),\n",
    "            nn.MaxPool2d(2, stride = 1),\n",
    "            nn.Conv2d(conv1_filters, conv2_filters, k_size2), nn.ReLU(),\n",
    "            nn.MaxPool2d(2, stride = 1),\n",
    "            nn.Flatten(),\n",
    "            nn.Linear(in_features=conv2_filters*self.conv_shape**2, out_features=Nd1), nn.ReLU(),\n",
    "            nn.Linear(in_features=Nd1, out_features=Nd2), nn.ReLU(),\n",
    "            nn.Linear(in_features=Nd2, out_features=N_labels)\n",
    "        )\n",
    "\n",
    "        print(\"Network initialized\")\n",
    "        \n",
    "    def forward(self, x, additional_out=False):\n",
    "        return self.model(x)\n",
    "\n",
    "    def no_params_conv(self, in_size, kernel, padding, stride):\n",
    "        \"\"\"\n",
    "        Finds no of parameters per channel after every convolution/pooling\n",
    "        \"\"\"\n",
    "        return int((in_size - kernel + 2*padding)/stride + 1)\n",
    "\n",
    "    def accuracy(self, dataset):\n",
    "\n",
    "        dataloader = DataLoader(test_dataset, batch_size = 1, shuffle = False, num_workers = 0)\n",
    "        n_samples = dataloader.__len__()\n",
    "        n_correct = 0\n",
    "\n",
    "        self.eval()\n",
    "        with torch.no_grad():\n",
    "            for data in dataloader:\n",
    "                x_sample = data[0].to(self.device)\n",
    "                label = data[1].to(self.device)\n",
    "                out = self(x_sample)\n",
    "                out = F.softmax(out, dim = 1)\n",
    "                if (((out[0] == out.max()).nonzero() == label).squeeze()).item() == True:\n",
    "                    n_correct += 1\n",
    "        return n_correct/n_samples"
   ]
  },
  {
   "cell_type": "code",
   "execution_count": 5,
   "metadata": {},
   "outputs": [
    {
     "name": "stdout",
     "output_type": "stream",
     "text": [
      "Network initialized\n"
     ]
    }
   ],
   "source": [
    "cnn = CNN2D(device, 28, 3, 6, 4, 3, 17, 16, no_labels)\n",
    "cnn.to(device)\n",
    "loss_fn = nn.CrossEntropyLoss()\n",
    "optimizer = optim.Adam(cnn.parameters(), lr = 0.001)"
   ]
  },
  {
   "cell_type": "code",
   "execution_count": 16,
   "metadata": {},
   "outputs": [
    {
     "name": "stdout",
     "output_type": "stream",
     "text": [
      "Epoch: 9 :::::::::: AVERAGE VAL LOSS: 0.64787\r"
     ]
    }
   ],
   "source": [
    "num_epochs = 10\n",
    "cnn.train_model(train_dataloader, num_epochs, loss_fn, optimizer, val_loader = val_dataloader)\n",
    "\n",
    "torch.save(cnn, f'CNN_fashionMNIST_{num_epochs}_epochs.pt')"
   ]
  },
  {
   "cell_type": "code",
   "execution_count": 28,
   "metadata": {},
   "outputs": [],
   "source": [
    "cnn = torch.load('CNN_model.pt')"
   ]
  },
  {
   "cell_type": "code",
   "execution_count": 29,
   "metadata": {},
   "outputs": [
    {
     "name": "stdout",
     "output_type": "stream",
     "text": [
      "Accuracy on test set: 74.720%\n"
     ]
    }
   ],
   "source": [
    "test_dataloader = DataLoader(test_dataset, batch_size = 1, shuffle = True, num_workers = 0)\n",
    "test_accuracy = cnn.accuracy(test_dataloader)\n",
    "print(f\"Accuracy on test set: {test_accuracy*100:.3f}%\")"
   ]
  },
  {
   "cell_type": "code",
   "execution_count": 51,
   "id": "7b564aa6-3467-4d0d-8873-89861cc44143",
   "metadata": {},
   "outputs": [
    {
     "data": {
      "text/plain": [
       "<matplotlib.legend.Legend at 0x7f945439af40>"
      ]
     },
     "execution_count": 51,
     "metadata": {},
     "output_type": "execute_result"
    },
    {
     "data": {
      "image/png": "[encoded data removed]",
      "text/plain": [
       "<Figure size 432x288 with 1 Axes>"
      ]
     },
     "metadata": {
      "needs_background": "light"
     },
     "output_type": "display_data"
    }
   ],
   "source": [
    "plt.plot(range(num_epochs), cnn.val_loss_hist, label = 'val')\n",
    "plt.plot(range(num_epochs), cnn.train_loss_hist, label = 'train')\n",
    "plt.legend()"
   ]
  },
  {
   "cell_type": "code",
   "execution_count": 173,
   "metadata": {},
   "outputs": [
    {
     "name": "stdout",
     "output_type": "stream",
     "text": [
      "5\n"
     ]
    }
   ],
   "source": [
    "print((out[0] == out.max()).nonzero().item())"
   ]
  }
 ],
 "metadata": {
  "interpreter": {
   "hash": "92016245c2fa57252c2aca9702d43dd02bafc187d9932e5487d4c13f2db2f127"
  },
  "kernelspec": {
   "display_name": "Python 3.9.7 64-bit ('py39': conda)",
   "language": "python",
   "name": "python3"
  },
  "language_info": {
   "codemirror_mode": {
    "name": "ipython",
    "version": 3
   },
   "file_extension": ".py",
   "mimetype": "text/x-python",
   "name": "python",
   "nbconvert_exporter": "python",
   "pygments_lexer": "ipython3",
   "version": "3.9.7"
  },
  "orig_nbformat": 4
 },
 "nbformat": 4,
 "nbformat_minor": 2
}
