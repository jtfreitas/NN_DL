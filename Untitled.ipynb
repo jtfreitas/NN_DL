{
 "cells": [
  {
   "cell_type": "code",
   "execution_count": 18,
   "id": "67dad89c-452e-4695-af6a-d559ade723a1",
   "metadata": {
    "tags": []
   },
   "outputs": [
    {
     "name": "stdout",
     "output_type": "stream",
     "text": [
      "--2021-11-05 14:19:03--  https://gitlab.dei.unipd.it/michieli/nnld-2021-22-lab-resources/-/raw/main/homework1/train_data.csv\n",
      "Resolving gitlab.dei.unipd.it (gitlab.dei.unipd.it)... 147.162.2.85\n",
      "Connecting to gitlab.dei.unipd.it (gitlab.dei.unipd.it)|147.162.2.85|:443... connected.\n",
      "HTTP request sent, awaiting response... 200 OK\n",
      "Length: 3776 (3.7K) [text/plain]\n",
      "Saving to: ‘/hw1_regression/train_data.csv’\n",
      "\n",
      "train_data.csv      100%[===================>]   3.69K  --.-KB/s    in 0s      \n",
      "\n",
      "2021-11-05 14:19:04 (86.9 MB/s) - ‘/hw1_regression/train_data.csv’ saved [3776/3776]\n",
      "\n",
      "--2021-11-05 14:19:04--  https://gitlab.dei.unipd.it/michieli/nnld-2021-22-lab-resources/-/raw/main/homework1/test_data.csv\n",
      "Resolving gitlab.dei.unipd.it (gitlab.dei.unipd.it)... 147.162.2.85\n",
      "Connecting to gitlab.dei.unipd.it (gitlab.dei.unipd.it)|147.162.2.85|:443... connected.\n",
      "HTTP request sent, awaiting response... 200 OK\n",
      "Length: 3788 (3.7K) [text/plain]\n",
      "Saving to: ‘/hw1_regression/test_data.csv’\n",
      "\n",
      "test_data.csv       100%[===================>]   3.70K  --.-KB/s    in 0s      \n",
      "\n",
      "2021-11-05 14:19:04 (89.3 MB/s) - ‘/hw1_regression/test_data.csv’ saved [3788/3788]\n",
      "\n"
     ]
    }
   ],
   "source": [
    "!sudo wget -P /hw1_regression https://gitlab.dei.unipd.it/michieli/nnld-2021-22-lab-resources/-/raw/main/homework1/train_data.csv\n",
    "!sudo wget -P /hw1_regression https://gitlab.dei.unipd.it/michieli/nnld-2021-22-lab-resources/-/raw/main/homework1/test_data.csv "
   ]
  },
  {
   "cell_type": "code",
   "execution_count": 2,
   "id": "50dc8240-a524-4c89-9d88-74f3cb7ae928",
   "metadata": {},
   "outputs": [
    {
     "name": "stdout",
     "output_type": "stream",
     "text": [
      "Training device in use: cuda\n"
     ]
    },
    {
     "data": {
      "text/plain": [
       "<torch._C.Generator at 0x7f455c07dcd0>"
      ]
     },
     "execution_count": 2,
     "metadata": {},
     "output_type": "execute_result"
    }
   ],
   "source": [
    "import os\n",
    "import pandas as pd\n",
    "import numpy as np\n",
    "import matplotlib.pyplot as plt\n",
    "import random\n",
    "from random import sample\n",
    "#from nn_tools import *\n",
    "from itertools import product as prod\n",
    "\n",
    "import torch\n",
    "from torch.utils.data import Dataset\n",
    "import torch\n",
    "import torch.nn as nn\n",
    "import torch.nn.functional as F\n",
    "import torch.optim as optim\n",
    "import numpy as np\n",
    "\n",
    "from torch.utils.data import DataLoader\n",
    "from torch.utils.data.sampler import SubsetRandomSampler as rand_sampler\n",
    "\n",
    "from sklearn.model_selection import train_test_split\n",
    "#from torch.utils.data import Dataset, DataLoader\n",
    "from torchvision import transforms\n",
    "\n",
    "device = torch.device(\"cuda\") if torch.cuda.is_available() else torch.device(\"cpu\")\n",
    "print(f\"Training device in use: {device}\")\n",
    "\n",
    "seed = 2009440\n",
    "\n",
    "random.seed(seed)\n",
    "torch.manual_seed(seed)"
   ]
  },
  {
   "cell_type": "code",
   "execution_count": 2,
   "id": "7dfb43c5-226d-4e12-a318-7e2bead87179",
   "metadata": {
    "collapsed": true,
    "jupyter": {
     "outputs_hidden": true,
     "source_hidden": true
    },
    "tags": []
   },
   "outputs": [
    {
     "name": "stdout",
     "output_type": "stream",
     "text": [
      "Sample points\n",
      "      input     label\n",
      "0 -4.787870 -1.216804\n",
      "1 -3.509057  3.277581\n",
      "2 -3.855373  2.621375\n",
      "3 -4.083518  1.046088\n",
      "4 -4.230588  1.228874\n"
     ]
    },
    {
     "data": {
      "text/plain": [
       "<Figure size 864x576 with 0 Axes>"
      ]
     },
     "metadata": {},
     "output_type": "display_data"
    },
    {
     "data": {
      "image/png": "[encoded data removed]",
      "text/plain": [
       "<Figure size 432x288 with 1 Axes>"
      ]
     },
     "metadata": {
      "needs_background": "light"
     },
     "output_type": "display_data"
    }
   ],
   "source": [
    "reg_train = pd.read_csv(os.getcwd() + \"/data/hw1_regression/train_data.csv\")\n",
    "reg_test = pd.read_csv(os.getcwd() + \"/data/hw1_regression/test_data.csv\")\n",
    "\n",
    "print(\"Sample points\")\n",
    "print(reg_train.head(5))\n",
    "plt.figure(figsize = (12,8))\n",
    "ax = reg_train.plot(\"input\", \"label\", kind = 'scatter', color = 'red', marker = '+', title = 'Regression data', label = 'Training set')\n",
    "\n",
    "reg_test.plot('input', 'label', kind = 'scatter', ax = ax, label = 'Test set')\n",
    "plt.grid()\n",
    "plt.show()"
   ]
  },
  {
   "cell_type": "markdown",
   "id": "52772c6a-4d4e-45ae-ae73-b5ca0a1f1216",
   "metadata": {
    "jupyter": {
     "source_hidden": true
    },
    "tags": []
   },
   "source": [
    "#### We see right off the bat that the training data is noisier. This means that overfitting will be extremely obvious in case it does happen. Not only that, but the gaps are large enough that they are the regions where minimizing loss will be crucial. If the model overfits, these regions will be the ones with larger loss."
   ]
  },
  {
   "cell_type": "markdown",
   "id": "d6557ad0-0fdf-43b0-b193-6e21f4a0fe8c",
   "metadata": {
    "jupyter": {
     "source_hidden": true
    },
    "tags": []
   },
   "source": [
    "### Preparing data for PyTorch (i.e. converting to tensors)\n",
    "\n",
    "I modified the ```CsvDataset``` class to admit pandas dataframes directly (as long as they have the format ```['input'], ['label']```), which gives me more flexibility on wrangling the data beforehand, and not having to save the cleaned up version in a new CSV file."
   ]
  },
  {
   "cell_type": "code",
   "execution_count": 3,
   "id": "2d400d79-8d98-41e5-9cf5-84b8f7f492d1",
   "metadata": {
    "jupyter": {
     "source_hidden": true
    },
    "tags": []
   },
   "outputs": [],
   "source": [
    "composed_transform = transforms.Compose([ToTensor()])\n",
    "\n",
    "tr, val = train_test_split(reg_train, shuffle = True, random_state = seed)\n",
    "\n",
    "train_dataset = CsvDataset(tr, transform=composed_transform)\n",
    "val_dataset = CsvDataset(val, transform=composed_transform)\n",
    "test_dataset = CsvDataset(reg_test, transform = composed_transform)\n",
    "\n",
    "train_dataloader = DataLoader(train_dataset, batch_size = 4, shuffle = True, num_workers = 0)\n",
    "val_dataloader = DataLoader(val_dataset, batch_size = len(val_dataset), shuffle = False, num_workers = 0)\n",
    "test_dataloader = DataLoader(test_dataset, batch_size = len(test_dataset), shuffle = False, num_workers = 0)"
   ]
  },
  {
   "cell_type": "markdown",
   "id": "29f7612c-88b5-4c29-a89b-2bab40dc7360",
   "metadata": {
    "jupyter": {
     "source_hidden": true
    },
    "tags": []
   },
   "source": [
    "### Model class definition, and subsequent instantiation.\n",
    "\n",
    "#### **Note:** I included the training loop as a class method (in the style of Keras/sklearn), in order to simplify the code for the grid search of hyper-parameters that will be performed later on. In order to do this, I had to supercharge both ```train()``` and ```zero_grad()``` class methods.\n",
    "\n",
    "The neural network class is defined in ```nn_tools.py```"
   ]
  },
  {
   "cell_type": "code",
   "execution_count": 31,
   "id": "2fd63533-c2f5-4c61-87a0-18038c49db7c",
   "metadata": {
    "jupyter": {
     "source_hidden": true
    },
    "tags": []
   },
   "outputs": [],
   "source": [
    "def reg_grid_search(X_train, X_val, params_dict, no_archs, num_epochs = 1500):\n",
    "\n",
    "    models_df = pd.DataFrame(columns = ['h1', 'h2', 'h3', 'optimizer', 'learning_rate', 'final_training_loss', 'final_val_loss'])\n",
    "\n",
    "\n",
    "    loss = nn.MSELoss()\n",
    "    for i in range(no_archs):\n",
    "        neuron_list = sample(params_dict['neurons'], 3)\n",
    "        model = reg_model(1, *neuron_list, 1)\n",
    "        model.to(device)\n",
    "        for opt in params_dict['optimizer']:\n",
    "            for rate in params_dict['lr']:\n",
    "                optimizer = getattr(optim, opt)(model.parameters(), lr = rate)\n",
    "                model.train_model(X_train, X_val, num_epochs, loss, optimizer, verbose = False)\n",
    "                model_dict = {'h1': neuron_list[0],\n",
    "                              'h2' : neuron_list[1],\n",
    "                              'h3': neuron_list[2],\n",
    "                              'optimizer' : opt,\n",
    "                              'learning_rate' : rate,\n",
    "                              'final_training_loss' : model.train_history[-1],\n",
    "                              'final_val_loss' : model.val_history[-1]}\n",
    "                models_df = models_df.append(model_dict, ignore_index = True)\n",
    "                model.apply(weight_reset)\n",
    "                \n",
    "    best_params = models_df[models_df['final_val_loss'] == models_df['final_val_loss'].min()]\n",
    "    print(\"Best set of parameters in the grid:\")\n",
    "    print(best_params)\n",
    "    return models_df\n",
    "        \n",
    "# This function defined globally to be used with apply() method from nn.Module\n",
    "def weight_reset(m):\n",
    "    if isinstance(m, nn.Linear):\n",
    "        m.reset_parameters()"
   ]
  },
  {
   "cell_type": "code",
   "execution_count": 5,
   "id": "47a2236a-ca93-48b4-ae19-2c52cc5d48ab",
   "metadata": {
    "collapsed": true,
    "jupyter": {
     "outputs_hidden": true,
     "source_hidden": true
    },
    "tags": []
   },
   "outputs": [
    {
     "name": "stdout",
     "output_type": "stream",
     "text": [
      "Network initialized\n"
     ]
    },
    {
     "data": {
      "text/plain": [
       "reg_model(\n",
       "  (fc1): Linear(in_features=1, out_features=64, bias=True)\n",
       "  (fc2): Linear(in_features=64, out_features=100, bias=True)\n",
       "  (fc3): Linear(in_features=100, out_features=32, bias=True)\n",
       "  (out): Linear(in_features=32, out_features=1, bias=True)\n",
       "  (act): Sigmoid()\n",
       ")"
      ]
     },
     "execution_count": 5,
     "metadata": {},
     "output_type": "execute_result"
    }
   ],
   "source": [
    "n_in = 1\n",
    "n_h1 = 64\n",
    "n_h2 = 100\n",
    "n_h3 = 32\n",
    "n_out = 1\n",
    "regression = reg_model(n_in, n_h1, n_h2, n_h3, n_out)\n",
    "\n",
    "regression.to(device)"
   ]
  },
  {
   "cell_type": "code",
   "execution_count": 69,
   "id": "5b3e0aad-e411-4fba-bb25-e5eef37c02a3",
   "metadata": {
    "jupyter": {
     "source_hidden": true
    },
    "tags": []
   },
   "outputs": [],
   "source": [
    "loss_fn = nn.MSELoss()\n",
    "optimizer = optim.Adam(regression.parameters(), lr=1e-3)\n",
    "num_epochs = 2000"
   ]
  },
  {
   "cell_type": "markdown",
   "id": "00356f55-eb7e-40b8-be4e-3cc64220ab04",
   "metadata": {
    "jupyter": {
     "source_hidden": true
    },
    "tags": []
   },
   "source": [
    "### Model training loop"
   ]
  },
  {
   "cell_type": "code",
   "execution_count": 70,
   "id": "fc386521-8e6b-4d82-a690-bd0687900c84",
   "metadata": {
    "collapsed": true,
    "jupyter": {
     "outputs_hidden": true,
     "source_hidden": true
    },
    "tags": []
   },
   "outputs": [
    {
     "name": "stdout",
     "output_type": "stream",
     "text": [
      "Epoch: 1999 :::::::::: AVERAGE VAL LOSS: 0.34492\r"
     ]
    }
   ],
   "source": [
    "regression.train_model(train_dataloader, val_dataloader, num_epochs, loss_fn, optimizer)"
   ]
  },
  {
   "cell_type": "code",
   "execution_count": 71,
   "id": "f40c8db3-6163-4c8c-b1b2-f82b2cdbdd56",
   "metadata": {
    "collapsed": true,
    "jupyter": {
     "outputs_hidden": true,
     "source_hidden": true
    },
    "tags": []
   },
   "outputs": [
    {
     "data": {
      "image/png": "[encoded data removed]",
      "text/plain": [
       "<Figure size 720x432 with 1 Axes>"
      ]
     },
     "metadata": {
      "needs_background": "light"
     },
     "output_type": "display_data"
    }
   ],
   "source": [
    "plt.figure(figsize = (10,6))\n",
    "plt.plot(range(num_epochs), regression.val_history, label = \"validation loss\")\n",
    "plt.plot(range(num_epochs), regression.train_history, label = \"training loss\")\n",
    "plt.legend()\n",
    "plt.title(\"Loss over the epochs\")\n",
    "plt.show()"
   ]
  },
  {
   "cell_type": "code",
   "execution_count": 72,
   "id": "b7b8265a-6ef8-4438-b61a-2b2449d6c522",
   "metadata": {
    "collapsed": true,
    "jupyter": {
     "outputs_hidden": true,
     "source_hidden": true
    },
    "tags": []
   },
   "outputs": [
    {
     "data": {
      "image/png": "[encoded data removed]",
      "text/plain": [
       "<Figure size 864x576 with 1 Axes>"
      ]
     },
     "metadata": {
      "needs_background": "light"
     },
     "output_type": "display_data"
    }
   ],
   "source": [
    "# Input vector\n",
    "x_vec = torch.linspace(-5,5,1000)\n",
    "x_vec = x_vec.to(device)\n",
    "x_vec = x_vec.unsqueeze(-1)  # Adding a dimension to the input vector\n",
    "\n",
    "# Network output\n",
    "# eval() acts as switch for some specific layers/parts of the model that behave\n",
    "# differently during training and inference (eval) time. For example, Dropout \n",
    "# BatchNorm etc. \n",
    "regression.eval()\n",
    "with torch.no_grad(): # turn off gradients computation\n",
    "    y_vec = regression(x_vec)\n",
    "\n",
    "# Convert x_vec and y_vec to numpy one dimensional arrays\n",
    "x_vec = x_vec.squeeze().cpu().numpy()\n",
    "y_vec = y_vec.squeeze().cpu().numpy()\n",
    "\n",
    "fig, ax = plt.subplots(figsize = (12, 8))\n",
    "reg_test.plot('input', 'label', kind = 'scatter', color = 'red', label = 'Test set', ax = ax)\n",
    "reg_train.plot('input', 'label', kind = 'scatter', color = 'green', label = 'Training set', ax = ax)\n",
    "ax.plot(x_vec, y_vec, label='Network output', color = 'black')\n",
    "#plt.plot(x_vec, true_model, label='True model')\n",
    "ax.set_xlabel('x')\n",
    "ax.set_ylabel('y')\n",
    "ax.grid()\n",
    "#ax.set_title(f'Epoch no {epoch_num} :::: Validation loss = {val_loss}')\n",
    "ax.legend()\n",
    "fig.show()"
   ]
  },
  {
   "cell_type": "markdown",
   "id": "a0d93617-6c9f-4d7c-ab3a-af0d2478a2a3",
   "metadata": {
    "jupyter": {
     "source_hidden": true
    },
    "tags": []
   },
   "source": [
    "# Grid (random) search and K-Fold cross validation.\n",
    "\n",
    "I write the grid-search process myself, varying the number of neurons in each layer (but keeping the structure intact - always 3 hidden layers).\n",
    "\n",
    "All in all, I expect only the change in the number of neurons to help reduce the loss minimum. For that, I will sample the number of neurons for each hidden layer from a discrete uniform random variable $\\mathcal{U}(1,200)$\n",
    "\n",
    "The loss will, understandably, be kept constant, for the sake of sound comparability.\n",
    "\n",
    "The K-Fold cross validation uses the ```sklearn.model_selection.KFold``` method."
   ]
  },
  {
   "cell_type": "code",
   "execution_count": 35,
   "id": "fdfc7d9d-eb87-43c8-989a-14c2b79771fb",
   "metadata": {
    "jupyter": {
     "source_hidden": true
    },
    "tags": []
   },
   "outputs": [],
   "source": [
    "hyperparams = dict()\n",
    "hyperparams['neurons'] = range(1,201)\n",
    "hyperparams['optimizer'] = [\"Adam\",\"AdamW\",\"RMSprop\",\"SGD\"]\n",
    "hyperparams['lr'] = [0.1, 0.01, 0.001]"
   ]
  },
  {
   "cell_type": "code",
   "execution_count": 36,
   "id": "b048445a-c985-4850-af3b-9ffa2b914029",
   "metadata": {
    "collapsed": true,
    "jupyter": {
     "outputs_hidden": true,
     "source_hidden": true
    },
    "tags": []
   },
   "outputs": [
    {
     "name": "stdout",
     "output_type": "stream",
     "text": [
      "Network initialized\n",
      "Network initialized\n",
      "Network initialized\n",
      "Network initialized\n",
      "Network initialized\n"
     ]
    },
    {
     "data": {
      "text/html": [
       "<div>\n",
       "<style scoped>\n",
       "    .dataframe tbody tr th:only-of-type {\n",
       "        vertical-align: middle;\n",
       "    }\n",
       "\n",
       "    .dataframe tbody tr th {\n",
       "        vertical-align: top;\n",
       "    }\n",
       "\n",
       "    .dataframe thead th {\n",
       "        text-align: right;\n",
       "    }\n",
       "</style>\n",
       "<table border=\"1\" class=\"dataframe\">\n",
       "  <thead>\n",
       "    <tr style=\"text-align: right;\">\n",
       "      <th></th>\n",
       "      <th>h1</th>\n",
       "      <th>h2</th>\n",
       "      <th>h3</th>\n",
       "      <th>optimizer</th>\n",
       "      <th>learning_rate</th>\n",
       "      <th>final_training_loss</th>\n",
       "      <th>final_val_loss</th>\n",
       "    </tr>\n",
       "  </thead>\n",
       "  <tbody>\n",
       "    <tr>\n",
       "      <th>0</th>\n",
       "      <td>99</td>\n",
       "      <td>57</td>\n",
       "      <td>190</td>\n",
       "      <td>Adam</td>\n",
       "      <td>0.100</td>\n",
       "      <td>3.688173</td>\n",
       "      <td>4.699538</td>\n",
       "    </tr>\n",
       "    <tr>\n",
       "      <th>1</th>\n",
       "      <td>99</td>\n",
       "      <td>57</td>\n",
       "      <td>190</td>\n",
       "      <td>Adam</td>\n",
       "      <td>0.010</td>\n",
       "      <td>0.283044</td>\n",
       "      <td>0.664930</td>\n",
       "    </tr>\n",
       "    <tr>\n",
       "      <th>2</th>\n",
       "      <td>99</td>\n",
       "      <td>57</td>\n",
       "      <td>190</td>\n",
       "      <td>Adam</td>\n",
       "      <td>0.001</td>\n",
       "      <td>0.234300</td>\n",
       "      <td>0.358694</td>\n",
       "    </tr>\n",
       "    <tr>\n",
       "      <th>3</th>\n",
       "      <td>99</td>\n",
       "      <td>57</td>\n",
       "      <td>190</td>\n",
       "      <td>AdamW</td>\n",
       "      <td>0.100</td>\n",
       "      <td>4.226400</td>\n",
       "      <td>5.193796</td>\n",
       "    </tr>\n",
       "    <tr>\n",
       "      <th>4</th>\n",
       "      <td>99</td>\n",
       "      <td>57</td>\n",
       "      <td>190</td>\n",
       "      <td>AdamW</td>\n",
       "      <td>0.010</td>\n",
       "      <td>0.344902</td>\n",
       "      <td>0.751415</td>\n",
       "    </tr>\n",
       "  </tbody>\n",
       "</table>\n",
       "</div>"
      ],
      "text/plain": [
       "   h1  h2   h3 optimizer  learning_rate  final_training_loss  final_val_loss\n",
       "0  99  57  190      Adam          0.100             3.688173        4.699538\n",
       "1  99  57  190      Adam          0.010             0.283044        0.664930\n",
       "2  99  57  190      Adam          0.001             0.234300        0.358694\n",
       "3  99  57  190     AdamW          0.100             4.226400        5.193796\n",
       "4  99  57  190     AdamW          0.010             0.344902        0.751415"
      ]
     },
     "execution_count": 36,
     "metadata": {},
     "output_type": "execute_result"
    }
   ],
   "source": [
    "params_df = reg_grid_search(train_dataloader, val_dataloader, hyperparams, 5)\n",
    "params_df.head()"
   ]
  },
  {
   "cell_type": "code",
   "execution_count": 40,
   "id": "628eb67b-70e9-4149-8790-768c8966aa4f",
   "metadata": {
    "jupyter": {
     "source_hidden": true
    },
    "tags": []
   },
   "outputs": [],
   "source": [
    "best_params = params_df[params_df['final_val_loss'] == params_df['final_val_loss'].min()]"
   ]
  },
  {
   "cell_type": "code",
   "execution_count": 42,
   "id": "6da8df92-54a6-496e-899e-47680ab9fb79",
   "metadata": {
    "collapsed": true,
    "jupyter": {
     "outputs_hidden": true,
     "source_hidden": true
    },
    "tags": []
   },
   "outputs": [
    {
     "name": "stdout",
     "output_type": "stream",
     "text": [
      "   h1  h2   h3 optimizer  learning_rate  final_training_loss  final_val_loss\n",
      "8  99  57  190   RMSprop          0.001             0.252374          0.3443\n"
     ]
    }
   ],
   "source": [
    "print(best_params)"
   ]
  },
  {
   "cell_type": "code",
   "execution_count": null,
   "id": "3d8a828f-a22c-48cb-b2f7-6dcd7535f7ce",
   "metadata": {
    "jupyter": {
     "source_hidden": true
    },
    "tags": []
   },
   "outputs": [],
   "source": []
  },
  {
   "cell_type": "markdown",
   "id": "b41b65fd-7bd1-47d5-9c14-724a91de23c0",
   "metadata": {
    "tags": []
   },
   "source": [
    "# Classification task"
   ]
  },
  {
   "cell_type": "code",
   "execution_count": 27,
   "id": "e6f33e10-3419-4993-93fc-0ee1af805d8d",
   "metadata": {},
   "outputs": [],
   "source": [
    "from torchvision import datasets"
   ]
  },
  {
   "cell_type": "code",
   "execution_count": 28,
   "id": "3f4e1701-c9ea-4b95-b1ae-48b3bcef8160",
   "metadata": {},
   "outputs": [
    {
     "name": "stderr",
     "output_type": "stream",
     "text": [
      "/opt/conda/lib/python3.7/site-packages/torchvision/datasets/mnist.py:498: UserWarning: The given NumPy array is not writeable, and PyTorch does not support non-writeable tensors. This means you can write to the underlying (supposedly non-writeable) NumPy array using the tensor. You may want to copy the array to protect its data or make it writeable before converting it to a tensor. This type of warning will be suppressed for the rest of this program. (Triggered internally at  /opt/conda/conda-bld/pytorch_1623448265233/work/torch/csrc/utils/tensor_numpy.cpp:180.)\n",
      "  return torch.from_numpy(parsed.astype(m[2], copy=False)).view(*s)\n"
     ]
    }
   ],
   "source": [
    "transform = transforms.Compose([\n",
    "        transforms.ToTensor(),\n",
    "        transforms.Normalize(0.5, 0.5)]) \n",
    "\n",
    "train_dataset = datasets.FashionMNIST('classifier_data', train=True, download=True, transform = transform)\n",
    "test_dataset  = datasets.FashionMNIST('classifier_data', train=False, download=True, transform = transform)\n",
    "\n",
    "n_train = int(len(train_dataset))\n",
    "n_test = int(len(test_dataset))\n",
    "\n",
    "split_idx = int(0.75*n_train)\n",
    "train_samples = rand_sampler(list(range(n_train))[:split_idx])\n",
    "val_samples = rand_sampler(list(range(n_train))[split_idx:])\n",
    "\n",
    "train_dataloader = DataLoader(train_dataset, sampler = train_samples, batch_size = 128, num_workers = 0)\n",
    "val_dataloader = DataLoader(train_dataset, sampler = val_samples, batch_size = 128, num_workers = 0)\n",
    "\n",
    "test_dataloader = DataLoader(test_dataset, batch_size = n_test, shuffle = True, num_workers = 0)"
   ]
  },
  {
   "cell_type": "code",
   "execution_count": 4,
   "id": "d6e00ae9-7a6b-4213-9238-faa940ba65df",
   "metadata": {},
   "outputs": [
    {
     "name": "stdout",
     "output_type": "stream",
     "text": [
      "SAMPLE AT INDEX 1\n",
      "LABEL: 0\n"
     ]
    },
    {
     "name": "stderr",
     "output_type": "stream",
     "text": [
      "/opt/conda/lib/python3.7/site-packages/torchvision/datasets/mnist.py:52: UserWarning: train_labels has been renamed targets\n",
      "  warnings.warn(\"train_labels has been renamed targets\")\n"
     ]
    },
    {
     "data": {
      "image/png": "[encoded data removed]",
      "text/plain": [
       "<Figure size 576x576 with 1 Axes>"
      ]
     },
     "metadata": {
      "needs_background": "light"
     },
     "output_type": "display_data"
    }
   ],
   "source": [
    "sample_index = 1\n",
    "image = train_dataset[sample_index][0].squeeze()\n",
    "label = train_dataset[sample_index][1]\n",
    "\n",
    "fig = plt.figure(figsize=(8,8))\n",
    "plt.imshow(image, cmap='Greys')\n",
    "print(f\"SAMPLE AT INDEX {sample_index}\")\n",
    "print(f\"LABEL: {label}\")\n",
    "\n",
    "img_shape = tuple(image.shape)\n",
    "no_labels = len(np.unique(train_dataset.train_labels))"
   ]
  },
  {
   "cell_type": "code",
   "execution_count": 15,
   "id": "79241866-7070-4daf-978e-2f0f91f4a7f5",
   "metadata": {},
   "outputs": [],
   "source": [
    "class train_API(nn.Module):\n",
    "    \n",
    "#    super(nn.Module).__init__()\n",
    "    super(nn.Module).train()\n",
    "    super(nn.Module).zero_grad()\n",
    "    def train_model(self, device, train_loader, val_loader, num_epochs, loss_fn, optimizer, verbose = True):\n",
    "        train_loss_log = []\n",
    "        val_loss_log = []\n",
    "        for epoch_num in range(num_epochs):\n",
    "            ### TRAIN\n",
    "            train_loss= []\n",
    "            self.train() # Training mode (e.g. enable dropout, batchnorm updates,...)\n",
    "            for sample_batched in train_loader:\n",
    "                # Move data to device\n",
    "                x_batch = sample_batched[0].to(device)\n",
    "                label_batch = sample_batched[1].to(device)\n",
    "\n",
    "                # Forward pass\n",
    "                out = self(x_batch)\n",
    "\n",
    "                # Compute loss\n",
    "                loss = loss_fn(out, label_batch)\n",
    "\n",
    "                # Backpropagation\n",
    "                self.zero_grad()\n",
    "                loss.backward()\n",
    "\n",
    "                # Update the weights\n",
    "                optimizer.step()\n",
    "\n",
    "                # Save train loss for this batch\n",
    "                loss_batch = loss.detach().cpu().numpy()\n",
    "                train_loss.append(loss_batch)\n",
    "\n",
    "            train_loss = np.mean(train_loss)\n",
    "            train_loss_log.append(train_loss)\n",
    "\n",
    "            ### VALIDATION\n",
    "            val_loss= []\n",
    "            self.eval() # Evaluation mode (e.g. disable dropout, batchnorm,...)\n",
    "            with torch.no_grad(): # Disable gradient tracking\n",
    "                for sample_batched in val_loader:\n",
    "                    # Move data to device\n",
    "                    x_batch = sample_batched[0].to(device)\n",
    "                    label_batch = sample_batched[1].to(device)\n",
    "\n",
    "                    # Forward pass\n",
    "                    out = self(x_batch)\n",
    "\n",
    "                    # Compute loss\n",
    "                    loss = loss_fn(out, label_batch)\n",
    "\n",
    "                    # Save val loss for this batch\n",
    "                    loss_batch = loss.detach().cpu().numpy()\n",
    "                    val_loss.append(loss_batch)\n",
    "\n",
    "                # Save average validation loss\n",
    "                val_loss = np.mean(val_loss)\n",
    "                if verbose:\n",
    "                    print(f\"Epoch: {epoch_num} :::::::::: AVERAGE VAL LOSS: {np.mean(val_loss):.5f}\", end = '\\r')\n",
    "                val_loss_log.append(val_loss)\n",
    "\n",
    "        self.train_history = train_loss_log\n",
    "        self.val_history = val_loss_log\n"
   ]
  },
  {
   "cell_type": "code",
   "execution_count": 19,
   "id": "dca0ad9a-930f-4c5d-97c1-1795700e387c",
   "metadata": {},
   "outputs": [
    {
     "ename": "AttributeError",
     "evalue": "'super' object has no attribute 'train'",
     "output_type": "error",
     "traceback": [
      "\u001b[0;31m---------------------------------------------------------------------------\u001b[0m",
      "\u001b[0;31mAttributeError\u001b[0m                            Traceback (most recent call last)",
      "\u001b[0;32m/tmp/ipykernel_2912/209344839.py\u001b[0m in \u001b[0;36m<module>\u001b[0;34m\u001b[0m\n\u001b[0;32m----> 1\u001b[0;31m \u001b[0;32mclass\u001b[0m \u001b[0mCNN2D\u001b[0m\u001b[0;34m(\u001b[0m\u001b[0mnn\u001b[0m\u001b[0;34m.\u001b[0m\u001b[0mModule\u001b[0m\u001b[0;34m,\u001b[0m \u001b[0mtrain_API\u001b[0m\u001b[0;34m)\u001b[0m\u001b[0;34m:\u001b[0m\u001b[0;34m\u001b[0m\u001b[0;34m\u001b[0m\u001b[0m\n\u001b[0m\u001b[1;32m      2\u001b[0m     \u001b[0msuper\u001b[0m\u001b[0;34m(\u001b[0m\u001b[0mnn\u001b[0m\u001b[0;34m.\u001b[0m\u001b[0mModule\u001b[0m\u001b[0;34m)\u001b[0m\u001b[0;34m.\u001b[0m\u001b[0mtrain\u001b[0m\u001b[0;34m(\u001b[0m\u001b[0;34m)\u001b[0m\u001b[0;34m\u001b[0m\u001b[0;34m\u001b[0m\u001b[0m\n\u001b[1;32m      3\u001b[0m     \u001b[0msuper\u001b[0m\u001b[0;34m(\u001b[0m\u001b[0mnn\u001b[0m\u001b[0;34m.\u001b[0m\u001b[0mModule\u001b[0m\u001b[0;34m)\u001b[0m\u001b[0;34m.\u001b[0m\u001b[0mzero_grad\u001b[0m\u001b[0;34m(\u001b[0m\u001b[0;34m)\u001b[0m\u001b[0;34m\u001b[0m\u001b[0;34m\u001b[0m\u001b[0m\n\u001b[1;32m      4\u001b[0m     \u001b[0;32mdef\u001b[0m \u001b[0m__init__\u001b[0m\u001b[0;34m(\u001b[0m\u001b[0mself\u001b[0m\u001b[0;34m,\u001b[0m \u001b[0mconv1_size\u001b[0m\u001b[0;34m,\u001b[0m \u001b[0mconv2_size\u001b[0m\u001b[0;34m,\u001b[0m \u001b[0mNh1\u001b[0m\u001b[0;34m,\u001b[0m \u001b[0mNh2\u001b[0m\u001b[0;34m,\u001b[0m \u001b[0mN_labels\u001b[0m\u001b[0;34m)\u001b[0m\u001b[0;34m:\u001b[0m\u001b[0;34m\u001b[0m\u001b[0;34m\u001b[0m\u001b[0m\n\u001b[1;32m      5\u001b[0m         \"\"\"\n",
      "\u001b[0;32m/tmp/ipykernel_2912/209344839.py\u001b[0m in \u001b[0;36mCNN2D\u001b[0;34m()\u001b[0m\n\u001b[1;32m      1\u001b[0m \u001b[0;32mclass\u001b[0m \u001b[0mCNN2D\u001b[0m\u001b[0;34m(\u001b[0m\u001b[0mnn\u001b[0m\u001b[0;34m.\u001b[0m\u001b[0mModule\u001b[0m\u001b[0;34m,\u001b[0m \u001b[0mtrain_API\u001b[0m\u001b[0;34m)\u001b[0m\u001b[0;34m:\u001b[0m\u001b[0;34m\u001b[0m\u001b[0;34m\u001b[0m\u001b[0m\n\u001b[0;32m----> 2\u001b[0;31m     \u001b[0msuper\u001b[0m\u001b[0;34m(\u001b[0m\u001b[0mnn\u001b[0m\u001b[0;34m.\u001b[0m\u001b[0mModule\u001b[0m\u001b[0;34m)\u001b[0m\u001b[0;34m.\u001b[0m\u001b[0mtrain\u001b[0m\u001b[0;34m(\u001b[0m\u001b[0;34m)\u001b[0m\u001b[0;34m\u001b[0m\u001b[0;34m\u001b[0m\u001b[0m\n\u001b[0m\u001b[1;32m      3\u001b[0m     \u001b[0msuper\u001b[0m\u001b[0;34m(\u001b[0m\u001b[0mnn\u001b[0m\u001b[0;34m.\u001b[0m\u001b[0mModule\u001b[0m\u001b[0;34m)\u001b[0m\u001b[0;34m.\u001b[0m\u001b[0mzero_grad\u001b[0m\u001b[0;34m(\u001b[0m\u001b[0;34m)\u001b[0m\u001b[0;34m\u001b[0m\u001b[0;34m\u001b[0m\u001b[0m\n\u001b[1;32m      4\u001b[0m     \u001b[0;32mdef\u001b[0m \u001b[0m__init__\u001b[0m\u001b[0;34m(\u001b[0m\u001b[0mself\u001b[0m\u001b[0;34m,\u001b[0m \u001b[0mconv1_size\u001b[0m\u001b[0;34m,\u001b[0m \u001b[0mconv2_size\u001b[0m\u001b[0;34m,\u001b[0m \u001b[0mNh1\u001b[0m\u001b[0;34m,\u001b[0m \u001b[0mNh2\u001b[0m\u001b[0;34m,\u001b[0m \u001b[0mN_labels\u001b[0m\u001b[0;34m)\u001b[0m\u001b[0;34m:\u001b[0m\u001b[0;34m\u001b[0m\u001b[0;34m\u001b[0m\u001b[0m\n\u001b[1;32m      5\u001b[0m         \"\"\"\n",
      "\u001b[0;31mAttributeError\u001b[0m: 'super' object has no attribute 'train'"
     ]
    }
   ],
   "source": [
    "class CNN2D(nn.Module, train_API):\n",
    "    super(nn.Module).train()\n",
    "    super(nn.Module).zero_grad()\n",
    "    def __init__(self, conv1_size, conv2_size, Nh1, Nh2, N_labels):\n",
    "        \"\"\"\n",
    "        Ni - Input size\n",
    "        Nh1 - Neurons in the 1st hidden layer\n",
    "        Nh2 - Neurons in the 2nd hidden layer\n",
    "        No - Output size\n",
    "        \"\"\"\n",
    "        super(nn.Module).__init__()\n",
    "\n",
    "        super(train_API).train_model()\n",
    "        self.conv1 = nn.Conv2d(1, conv1_size, 5) # 28 to 24(* conv1_size)\n",
    "        self.conv2 = nn.Conv2d(conv1_size, conv2_size, 5) # 24 to 12, and 12 to 8(*conv2_size)\n",
    "        self.fc1 = nn.Linear(in_features= conv1_size*4**2, out_features=Nh1) # 8 to 4(*conv2_size), 4 to 4*4*conv2_size\n",
    "        self.fc2 = nn.Linear(in_features=Nh1, out_features=Nh2)\n",
    "        self.out = nn.Linear(in_features=Nh2, out_features=N_labels)\n",
    "                \n",
    "        print(\"Network initialized\")\n",
    "        \n",
    "    def forward(self, x, additional_out=False):\n",
    "        x = F.max_pool2d(F.relu(self.conv1(x)), 2, stride = 2)\n",
    "        x = F.max_pool2d(F.relu(self.conv2(x)), 2, stride = 2)\n",
    "        x = torch.flatten(x, 1)\n",
    "        x = F.relu(self.fc1(x))\n",
    "        x = F.relu(self.fc2(x))\n",
    "        x = F.softmax(self.out(x))\n",
    "        return x\n",
    "    \n",
    "    def no_params_conv(self, in_size, kernel, padding, stride):\n",
    "        \"\"\"\n",
    "        Finds no of parameters per channel after every convolution/pooling\n",
    "        \"\"\"\n",
    "        return int((in_size - kernel + 2*padding)/stride + 1)\n",
    "    \n",
    "    \n",
    "#     def train_model(self, device, train_loader, val_loader, num_epochs, loss_fn, optimizer, verbose = True):\n",
    "#         train_loss_log = []\n",
    "#         val_loss_log = []\n",
    "#         for epoch_num in range(num_epochs):\n",
    "#             ### TRAIN\n",
    "#             train_loss= []\n",
    "#             self.train() # Training mode (e.g. enable dropout, batchnorm updates,...)\n",
    "#             for sample_batched in train_loader:\n",
    "#                 # Move data to device\n",
    "#                 x_batch = sample_batched[0].to(device)\n",
    "#                 label_batch = sample_batched[1].to(device)\n",
    "\n",
    "#                 # Forward pass\n",
    "#                 out = self(x_batch)\n",
    "\n",
    "#                 # Compute loss\n",
    "#                 loss = loss_fn(out, label_batch)\n",
    "\n",
    "#                 # Backpropagation\n",
    "#                 self.zero_grad()\n",
    "#                 loss.backward()\n",
    "\n",
    "#                 # Update the weights\n",
    "#                 optimizer.step()\n",
    "\n",
    "#                 # Save train loss for this batch\n",
    "#                 loss_batch = loss.detach().cpu().numpy()\n",
    "#                 train_loss.append(loss_batch)\n",
    "\n",
    "#             train_loss = np.mean(train_loss)\n",
    "#             train_loss_log.append(train_loss)\n",
    "\n",
    "#             ### VALIDATION\n",
    "#             val_loss= []\n",
    "#             self.eval() # Evaluation mode (e.g. disable dropout, batchnorm,...)\n",
    "#             with torch.no_grad(): # Disable gradient tracking\n",
    "#                 for sample_batched in val_loader:\n",
    "#                     # Move data to device\n",
    "#                     x_batch = sample_batched[0].to(device)\n",
    "#                     label_batch = sample_batched[1].to(device)\n",
    "\n",
    "#                     # Forward pass\n",
    "#                     out = self(x_batch)\n",
    "\n",
    "#                     # Compute loss\n",
    "#                     loss = loss_fn(out, label_batch)\n",
    "\n",
    "#                     # Save val loss for this batch\n",
    "#                     loss_batch = loss.detach().cpu().numpy()\n",
    "#                     val_loss.append(loss_batch)\n",
    "\n",
    "#                 # Save average validation loss\n",
    "#                 val_loss = np.mean(val_loss)\n",
    "#                 if verbose:\n",
    "#                     print(f\"Epoch: {epoch_num} :::::::::: AVERAGE VAL LOSS: {np.mean(val_loss):.5f}\", end = '\\r')\n",
    "#                 val_loss_log.append(val_loss)\n",
    "\n",
    "#         self.train_history = train_loss_log\n",
    "#         self.val_history = val_loss_log\n",
    "\n"
   ]
  },
  {
   "cell_type": "code",
   "execution_count": 3,
   "id": "0ddc4c60-8840-4a5d-aab7-4e18bd764066",
   "metadata": {},
   "outputs": [],
   "source": [
    "CNN_arch = [nn.Conv2d(1, 4, 5),\n",
    "            nn.Conv2d(4, 6, 5),\n",
    "            nn.Linear(6*4**2, 12),\n",
    "            nn.Linear(12, 12),\n",
    "            nn.Linear(12, 10)]\n",
    "\n",
    "forward_pass = [{'layer' : CNN_arch[0], 'function' : F.max_pool2d, 'act' : F.relu, 'args' : (2), 'kwargs' : {\"stride\" : 2}},\n",
    "                {'layer' : CNN_arch[1], 'function' : F.max_pool2d, 'act' : F.relu, 'args' : (2), 'kwargs' : {\"stride\" : 2}},\n",
    "                {'layer' : '',          'function' : torch.flatten, 'act' : '', 'args' : (1),        'kwargs' : ''},\n",
    "                {'layer' : CNN_arch[2], 'function' : '', 'act' : F.relu, 'args' : '', 'kwargs' : '' },\n",
    "                {'layer' : CNN_arch[3], 'function' : '', 'act' : F.relu, 'args' : '', 'kwargs' : '' },\n",
    "                {'layer' : CNN_arch[4], 'function' : '', 'act' : F.relu, 'args' : '', 'kwargs' : '' }]\n",
    "\n",
    "\n",
    "\n",
    "    def forward(self, x, additional_out=False):\n",
    "        for in_dict in self.activations:\n",
    "            if (type(in_dict['function']) != str):\n",
    "                x = in_dict['function'](in_dict['act'](in_dict['layer'](x)), *in_dict['args'], **in_dict['kwargs'])\n",
    "\n",
    "        return x\n",
    "\n",
    "\n",
    "{'NN_layers' : [nn.Conv2d(1, 4, 5), nn.Conv2d(4, 6, 5), nn.Linear(6*4**2, 12), nn.Linear(12, 12), nn.Linear(12, 10), nn.Linear(10, 10)],\n",
    "                'c_funcs' : [F.max_pool2d, F.max_pool2d, torch.flatten, F.relu, F.relu, F.relu, F.relu],\n",
    "                'arguments' : [(F.relu, 2, 2), (F.relu, 2, 2), (1), (), (), (), ()]}\n",
    "\n",
    "\n",
    "\n",
    "# (F.relu(CNN_arch[0]), 2, stride = 2),\n",
    "#                 F.max_pool2d(F.relu(CNN_arch[0]), 2, stride = 2),\n",
    "#                 torch.flatten, F.relu, F.relu, F.relu, F.relu]\n",
    "\n",
    "#         x = F.max_pool2d(F.relu(self.conv1(x)), 2, stride = 2)\n",
    "#         x = F.max_pool2d(F.relu(self.conv2(x)), 2, stride = 2)\n",
    "#         x = torch.flatten(x, 1)\n",
    "#         x = F.relu(self.fc1(x))\n",
    "#         x = F.relu(self.fc2(x))\n",
    "#         x = F.relu(self.fc3(x))\n",
    "#         x = F.relu(self.out(x))"
   ]
  },
  {
   "cell_type": "code",
   "execution_count": 13,
   "id": "1478421f-5d69-4c5b-93b3-eb832209206e",
   "metadata": {},
   "outputs": [],
   "source": [
    "a = ()"
   ]
  },
  {
   "cell_type": "code",
   "execution_count": 24,
   "id": "ee69ba92-9f2f-4d90-8799-6acbe2dc5558",
   "metadata": {},
   "outputs": [
    {
     "data": {
      "text/plain": [
       "[str, builtin_function_or_method, str, int, str]"
      ]
     },
     "execution_count": 24,
     "metadata": {},
     "output_type": "execute_result"
    }
   ],
   "source": [
    "forward_pass = [{'layer' : CNN_arch[0], 'function' : F.max_pool2d, 'act' : F.relu, 'args' : (2), 'kwargs' : {\"stride\" : 2}},\n",
    "                {'layer' : CNN_arch[1], 'function' : F.max_pool2d, 'act' : F.relu, 'args' : (2), 'kwargs' : {\"stride\" : 2}},\n",
    "                {'layer' : '',          'function' : torch.flatten, 'act' : '', 'args' : (1),        'kwargs' : ''},\n",
    "                {'layer' : CNN_arch[2], 'function' : '', 'act' : F.relu, 'args' : '', 'kwargs' : '' },\n",
    "                {'layer' : CNN_arch[3], 'function' : '', 'act' : F.relu, 'args' : '', 'kwargs' : '' },\n",
    "                {'layer' : CNN_arch[4], 'function' : '', 'act' : F.relu, 'args' : '', 'kwargs' : '' }]\n",
    "[type(ay) for ay in forward_pass[2].values()]"
   ]
  },
  {
   "cell_type": "raw",
   "id": "993d0020-1162-4ea9-bb1f-88145b7d819e",
   "metadata": {},
   "source": [
    "forward_pass[0]."
   ]
  },
  {
   "cell_type": "markdown",
   "id": "baf68162-aa28-4e66-abe2-6759891ad7b0",
   "metadata": {},
   "source": [
    "For ease, I'll normalize the pixel values of the data from (0,255) to (0,1)"
   ]
  },
  {
   "cell_type": "code",
   "execution_count": 8,
   "id": "cb3775f7-ccaa-4733-883d-acbffa801cb3",
   "metadata": {},
   "outputs": [
    {
     "name": "stdout",
     "output_type": "stream",
     "text": [
      "24\n",
      "12\n",
      "8\n",
      "4\n",
      "Network initialized\n",
      " ** On entry to SGEMM  parameter number 10 had an illegal value\n",
      "Epoch: 163 :::::::::: AVERAGE VAL LOSS: 2.30258\r"
     ]
    },
    {
     "ename": "KeyboardInterrupt",
     "evalue": "",
     "output_type": "error",
     "traceback": [
      "\u001b[0;31m---------------------------------------------------------------------------\u001b[0m",
      "\u001b[0;31mKeyboardInterrupt\u001b[0m                         Traceback (most recent call last)",
      "\u001b[0;32m/tmp/ipykernel_6275/588332133.py\u001b[0m in \u001b[0;36m<module>\u001b[0;34m\u001b[0m\n\u001b[1;32m      5\u001b[0m \u001b[0moptimizer\u001b[0m \u001b[0;34m=\u001b[0m \u001b[0moptim\u001b[0m\u001b[0;34m.\u001b[0m\u001b[0mAdam\u001b[0m\u001b[0;34m(\u001b[0m\u001b[0mfashion_classifier\u001b[0m\u001b[0;34m.\u001b[0m\u001b[0mparameters\u001b[0m\u001b[0;34m(\u001b[0m\u001b[0;34m)\u001b[0m\u001b[0;34m,\u001b[0m \u001b[0mlr\u001b[0m \u001b[0;34m=\u001b[0m \u001b[0;36m0.1\u001b[0m\u001b[0;34m)\u001b[0m\u001b[0;34m\u001b[0m\u001b[0;34m\u001b[0m\u001b[0m\n\u001b[1;32m      6\u001b[0m \u001b[0;34m\u001b[0m\u001b[0m\n\u001b[0;32m----> 7\u001b[0;31m \u001b[0mfashion_classifier\u001b[0m\u001b[0;34m.\u001b[0m\u001b[0mtrain_model\u001b[0m\u001b[0;34m(\u001b[0m\u001b[0mdevice\u001b[0m\u001b[0;34m,\u001b[0m \u001b[0mtrain_dataloader\u001b[0m\u001b[0;34m,\u001b[0m \u001b[0mval_dataloader\u001b[0m\u001b[0;34m,\u001b[0m \u001b[0;36m200\u001b[0m\u001b[0;34m,\u001b[0m \u001b[0mloss_fn\u001b[0m\u001b[0;34m,\u001b[0m \u001b[0moptimizer\u001b[0m\u001b[0;34m)\u001b[0m\u001b[0;34m\u001b[0m\u001b[0;34m\u001b[0m\u001b[0m\n\u001b[0m",
      "\u001b[0;32m/tmp/ipykernel_6275/1308688975.py\u001b[0m in \u001b[0;36mtrain_model\u001b[0;34m(self, device, train_loader, val_loader, num_epochs, loss_fn, optimizer, verbose)\u001b[0m\n\u001b[1;32m     54\u001b[0m             \u001b[0mtrain_loss\u001b[0m\u001b[0;34m=\u001b[0m \u001b[0;34m[\u001b[0m\u001b[0;34m]\u001b[0m\u001b[0;34m\u001b[0m\u001b[0;34m\u001b[0m\u001b[0m\n\u001b[1;32m     55\u001b[0m             \u001b[0mself\u001b[0m\u001b[0;34m.\u001b[0m\u001b[0mtrain\u001b[0m\u001b[0;34m(\u001b[0m\u001b[0;34m)\u001b[0m \u001b[0;31m# Training mode (e.g. enable dropout, batchnorm updates,...)\u001b[0m\u001b[0;34m\u001b[0m\u001b[0;34m\u001b[0m\u001b[0m\n\u001b[0;32m---> 56\u001b[0;31m             \u001b[0;32mfor\u001b[0m \u001b[0msample_batched\u001b[0m \u001b[0;32min\u001b[0m \u001b[0mtrain_loader\u001b[0m\u001b[0;34m:\u001b[0m\u001b[0;34m\u001b[0m\u001b[0;34m\u001b[0m\u001b[0m\n\u001b[0m\u001b[1;32m     57\u001b[0m                 \u001b[0;31m# Move data to device\u001b[0m\u001b[0;34m\u001b[0m\u001b[0;34m\u001b[0m\u001b[0;34m\u001b[0m\u001b[0m\n\u001b[1;32m     58\u001b[0m                 \u001b[0mx_batch\u001b[0m \u001b[0;34m=\u001b[0m \u001b[0msample_batched\u001b[0m\u001b[0;34m[\u001b[0m\u001b[0;36m0\u001b[0m\u001b[0;34m]\u001b[0m\u001b[0;34m.\u001b[0m\u001b[0mto\u001b[0m\u001b[0;34m(\u001b[0m\u001b[0mdevice\u001b[0m\u001b[0;34m)\u001b[0m\u001b[0;34m\u001b[0m\u001b[0;34m\u001b[0m\u001b[0m\n",
      "\u001b[0;32m/opt/conda/lib/python3.7/site-packages/torch/utils/data/dataloader.py\u001b[0m in \u001b[0;36m__next__\u001b[0;34m(self)\u001b[0m\n\u001b[1;32m    519\u001b[0m             \u001b[0;32mif\u001b[0m \u001b[0mself\u001b[0m\u001b[0;34m.\u001b[0m\u001b[0m_sampler_iter\u001b[0m \u001b[0;32mis\u001b[0m \u001b[0;32mNone\u001b[0m\u001b[0;34m:\u001b[0m\u001b[0;34m\u001b[0m\u001b[0;34m\u001b[0m\u001b[0m\n\u001b[1;32m    520\u001b[0m                 \u001b[0mself\u001b[0m\u001b[0;34m.\u001b[0m\u001b[0m_reset\u001b[0m\u001b[0;34m(\u001b[0m\u001b[0;34m)\u001b[0m\u001b[0;34m\u001b[0m\u001b[0;34m\u001b[0m\u001b[0m\n\u001b[0;32m--> 521\u001b[0;31m             \u001b[0mdata\u001b[0m \u001b[0;34m=\u001b[0m \u001b[0mself\u001b[0m\u001b[0;34m.\u001b[0m\u001b[0m_next_data\u001b[0m\u001b[0;34m(\u001b[0m\u001b[0;34m)\u001b[0m\u001b[0;34m\u001b[0m\u001b[0;34m\u001b[0m\u001b[0m\n\u001b[0m\u001b[1;32m    522\u001b[0m             \u001b[0mself\u001b[0m\u001b[0;34m.\u001b[0m\u001b[0m_num_yielded\u001b[0m \u001b[0;34m+=\u001b[0m \u001b[0;36m1\u001b[0m\u001b[0;34m\u001b[0m\u001b[0;34m\u001b[0m\u001b[0m\n\u001b[1;32m    523\u001b[0m             \u001b[0;32mif\u001b[0m \u001b[0mself\u001b[0m\u001b[0;34m.\u001b[0m\u001b[0m_dataset_kind\u001b[0m \u001b[0;34m==\u001b[0m \u001b[0m_DatasetKind\u001b[0m\u001b[0;34m.\u001b[0m\u001b[0mIterable\u001b[0m \u001b[0;32mand\u001b[0m\u001b[0;31m \u001b[0m\u001b[0;31m\\\u001b[0m\u001b[0;34m\u001b[0m\u001b[0;34m\u001b[0m\u001b[0m\n",
      "\u001b[0;32m/opt/conda/lib/python3.7/site-packages/torch/utils/data/dataloader.py\u001b[0m in \u001b[0;36m_next_data\u001b[0;34m(self)\u001b[0m\n\u001b[1;32m    559\u001b[0m     \u001b[0;32mdef\u001b[0m \u001b[0m_next_data\u001b[0m\u001b[0;34m(\u001b[0m\u001b[0mself\u001b[0m\u001b[0;34m)\u001b[0m\u001b[0;34m:\u001b[0m\u001b[0;34m\u001b[0m\u001b[0;34m\u001b[0m\u001b[0m\n\u001b[1;32m    560\u001b[0m         \u001b[0mindex\u001b[0m \u001b[0;34m=\u001b[0m \u001b[0mself\u001b[0m\u001b[0;34m.\u001b[0m\u001b[0m_next_index\u001b[0m\u001b[0;34m(\u001b[0m\u001b[0;34m)\u001b[0m  \u001b[0;31m# may raise StopIteration\u001b[0m\u001b[0;34m\u001b[0m\u001b[0;34m\u001b[0m\u001b[0m\n\u001b[0;32m--> 561\u001b[0;31m         \u001b[0mdata\u001b[0m \u001b[0;34m=\u001b[0m \u001b[0mself\u001b[0m\u001b[0;34m.\u001b[0m\u001b[0m_dataset_fetcher\u001b[0m\u001b[0;34m.\u001b[0m\u001b[0mfetch\u001b[0m\u001b[0;34m(\u001b[0m\u001b[0mindex\u001b[0m\u001b[0;34m)\u001b[0m  \u001b[0;31m# may raise StopIteration\u001b[0m\u001b[0;34m\u001b[0m\u001b[0;34m\u001b[0m\u001b[0m\n\u001b[0m\u001b[1;32m    562\u001b[0m         \u001b[0;32mif\u001b[0m \u001b[0mself\u001b[0m\u001b[0;34m.\u001b[0m\u001b[0m_pin_memory\u001b[0m\u001b[0;34m:\u001b[0m\u001b[0;34m\u001b[0m\u001b[0;34m\u001b[0m\u001b[0m\n\u001b[1;32m    563\u001b[0m             \u001b[0mdata\u001b[0m \u001b[0;34m=\u001b[0m \u001b[0m_utils\u001b[0m\u001b[0;34m.\u001b[0m\u001b[0mpin_memory\u001b[0m\u001b[0;34m.\u001b[0m\u001b[0mpin_memory\u001b[0m\u001b[0;34m(\u001b[0m\u001b[0mdata\u001b[0m\u001b[0;34m)\u001b[0m\u001b[0;34m\u001b[0m\u001b[0;34m\u001b[0m\u001b[0m\n",
      "\u001b[0;32m/opt/conda/lib/python3.7/site-packages/torch/utils/data/_utils/fetch.py\u001b[0m in \u001b[0;36mfetch\u001b[0;34m(self, possibly_batched_index)\u001b[0m\n\u001b[1;32m     42\u001b[0m     \u001b[0;32mdef\u001b[0m \u001b[0mfetch\u001b[0m\u001b[0;34m(\u001b[0m\u001b[0mself\u001b[0m\u001b[0;34m,\u001b[0m \u001b[0mpossibly_batched_index\u001b[0m\u001b[0;34m)\u001b[0m\u001b[0;34m:\u001b[0m\u001b[0;34m\u001b[0m\u001b[0;34m\u001b[0m\u001b[0m\n\u001b[1;32m     43\u001b[0m         \u001b[0;32mif\u001b[0m \u001b[0mself\u001b[0m\u001b[0;34m.\u001b[0m\u001b[0mauto_collation\u001b[0m\u001b[0;34m:\u001b[0m\u001b[0;34m\u001b[0m\u001b[0;34m\u001b[0m\u001b[0m\n\u001b[0;32m---> 44\u001b[0;31m             \u001b[0mdata\u001b[0m \u001b[0;34m=\u001b[0m \u001b[0;34m[\u001b[0m\u001b[0mself\u001b[0m\u001b[0;34m.\u001b[0m\u001b[0mdataset\u001b[0m\u001b[0;34m[\u001b[0m\u001b[0midx\u001b[0m\u001b[0;34m]\u001b[0m \u001b[0;32mfor\u001b[0m \u001b[0midx\u001b[0m \u001b[0;32min\u001b[0m \u001b[0mpossibly_batched_index\u001b[0m\u001b[0;34m]\u001b[0m\u001b[0;34m\u001b[0m\u001b[0;34m\u001b[0m\u001b[0m\n\u001b[0m\u001b[1;32m     45\u001b[0m         \u001b[0;32melse\u001b[0m\u001b[0;34m:\u001b[0m\u001b[0;34m\u001b[0m\u001b[0;34m\u001b[0m\u001b[0m\n\u001b[1;32m     46\u001b[0m             \u001b[0mdata\u001b[0m \u001b[0;34m=\u001b[0m \u001b[0mself\u001b[0m\u001b[0;34m.\u001b[0m\u001b[0mdataset\u001b[0m\u001b[0;34m[\u001b[0m\u001b[0mpossibly_batched_index\u001b[0m\u001b[0;34m]\u001b[0m\u001b[0;34m\u001b[0m\u001b[0;34m\u001b[0m\u001b[0m\n",
      "\u001b[0;32m/opt/conda/lib/python3.7/site-packages/torch/utils/data/_utils/fetch.py\u001b[0m in \u001b[0;36m<listcomp>\u001b[0;34m(.0)\u001b[0m\n\u001b[1;32m     42\u001b[0m     \u001b[0;32mdef\u001b[0m \u001b[0mfetch\u001b[0m\u001b[0;34m(\u001b[0m\u001b[0mself\u001b[0m\u001b[0;34m,\u001b[0m \u001b[0mpossibly_batched_index\u001b[0m\u001b[0;34m)\u001b[0m\u001b[0;34m:\u001b[0m\u001b[0;34m\u001b[0m\u001b[0;34m\u001b[0m\u001b[0m\n\u001b[1;32m     43\u001b[0m         \u001b[0;32mif\u001b[0m \u001b[0mself\u001b[0m\u001b[0;34m.\u001b[0m\u001b[0mauto_collation\u001b[0m\u001b[0;34m:\u001b[0m\u001b[0;34m\u001b[0m\u001b[0;34m\u001b[0m\u001b[0m\n\u001b[0;32m---> 44\u001b[0;31m             \u001b[0mdata\u001b[0m \u001b[0;34m=\u001b[0m \u001b[0;34m[\u001b[0m\u001b[0mself\u001b[0m\u001b[0;34m.\u001b[0m\u001b[0mdataset\u001b[0m\u001b[0;34m[\u001b[0m\u001b[0midx\u001b[0m\u001b[0;34m]\u001b[0m \u001b[0;32mfor\u001b[0m \u001b[0midx\u001b[0m \u001b[0;32min\u001b[0m \u001b[0mpossibly_batched_index\u001b[0m\u001b[0;34m]\u001b[0m\u001b[0;34m\u001b[0m\u001b[0;34m\u001b[0m\u001b[0m\n\u001b[0m\u001b[1;32m     45\u001b[0m         \u001b[0;32melse\u001b[0m\u001b[0;34m:\u001b[0m\u001b[0;34m\u001b[0m\u001b[0;34m\u001b[0m\u001b[0m\n\u001b[1;32m     46\u001b[0m             \u001b[0mdata\u001b[0m \u001b[0;34m=\u001b[0m \u001b[0mself\u001b[0m\u001b[0;34m.\u001b[0m\u001b[0mdataset\u001b[0m\u001b[0;34m[\u001b[0m\u001b[0mpossibly_batched_index\u001b[0m\u001b[0;34m]\u001b[0m\u001b[0;34m\u001b[0m\u001b[0;34m\u001b[0m\u001b[0m\n",
      "\u001b[0;32m/opt/conda/lib/python3.7/site-packages/torchvision/datasets/mnist.py\u001b[0m in \u001b[0;36m__getitem__\u001b[0;34m(self, index)\u001b[0m\n\u001b[1;32m    132\u001b[0m \u001b[0;34m\u001b[0m\u001b[0m\n\u001b[1;32m    133\u001b[0m         \u001b[0;32mif\u001b[0m \u001b[0mself\u001b[0m\u001b[0;34m.\u001b[0m\u001b[0mtransform\u001b[0m \u001b[0;32mis\u001b[0m \u001b[0;32mnot\u001b[0m \u001b[0;32mNone\u001b[0m\u001b[0;34m:\u001b[0m\u001b[0;34m\u001b[0m\u001b[0;34m\u001b[0m\u001b[0m\n\u001b[0;32m--> 134\u001b[0;31m             \u001b[0mimg\u001b[0m \u001b[0;34m=\u001b[0m \u001b[0mself\u001b[0m\u001b[0;34m.\u001b[0m\u001b[0mtransform\u001b[0m\u001b[0;34m(\u001b[0m\u001b[0mimg\u001b[0m\u001b[0;34m)\u001b[0m\u001b[0;34m\u001b[0m\u001b[0;34m\u001b[0m\u001b[0m\n\u001b[0m\u001b[1;32m    135\u001b[0m \u001b[0;34m\u001b[0m\u001b[0m\n\u001b[1;32m    136\u001b[0m         \u001b[0;32mif\u001b[0m \u001b[0mself\u001b[0m\u001b[0;34m.\u001b[0m\u001b[0mtarget_transform\u001b[0m \u001b[0;32mis\u001b[0m \u001b[0;32mnot\u001b[0m \u001b[0;32mNone\u001b[0m\u001b[0;34m:\u001b[0m\u001b[0;34m\u001b[0m\u001b[0;34m\u001b[0m\u001b[0m\n",
      "\u001b[0;32m/opt/conda/lib/python3.7/site-packages/torchvision/transforms/transforms.py\u001b[0m in \u001b[0;36m__call__\u001b[0;34m(self, img)\u001b[0m\n\u001b[1;32m     58\u001b[0m     \u001b[0;32mdef\u001b[0m \u001b[0m__call__\u001b[0m\u001b[0;34m(\u001b[0m\u001b[0mself\u001b[0m\u001b[0;34m,\u001b[0m \u001b[0mimg\u001b[0m\u001b[0;34m)\u001b[0m\u001b[0;34m:\u001b[0m\u001b[0;34m\u001b[0m\u001b[0;34m\u001b[0m\u001b[0m\n\u001b[1;32m     59\u001b[0m         \u001b[0;32mfor\u001b[0m \u001b[0mt\u001b[0m \u001b[0;32min\u001b[0m \u001b[0mself\u001b[0m\u001b[0;34m.\u001b[0m\u001b[0mtransforms\u001b[0m\u001b[0;34m:\u001b[0m\u001b[0;34m\u001b[0m\u001b[0;34m\u001b[0m\u001b[0m\n\u001b[0;32m---> 60\u001b[0;31m             \u001b[0mimg\u001b[0m \u001b[0;34m=\u001b[0m \u001b[0mt\u001b[0m\u001b[0;34m(\u001b[0m\u001b[0mimg\u001b[0m\u001b[0;34m)\u001b[0m\u001b[0;34m\u001b[0m\u001b[0;34m\u001b[0m\u001b[0m\n\u001b[0m\u001b[1;32m     61\u001b[0m         \u001b[0;32mreturn\u001b[0m \u001b[0mimg\u001b[0m\u001b[0;34m\u001b[0m\u001b[0;34m\u001b[0m\u001b[0m\n\u001b[1;32m     62\u001b[0m \u001b[0;34m\u001b[0m\u001b[0m\n",
      "\u001b[0;32m/opt/conda/lib/python3.7/site-packages/torchvision/transforms/transforms.py\u001b[0m in \u001b[0;36m__call__\u001b[0;34m(self, pic)\u001b[0m\n\u001b[1;32m     95\u001b[0m             \u001b[0mTensor\u001b[0m\u001b[0;34m:\u001b[0m \u001b[0mConverted\u001b[0m \u001b[0mimage\u001b[0m\u001b[0;34m.\u001b[0m\u001b[0;34m\u001b[0m\u001b[0;34m\u001b[0m\u001b[0m\n\u001b[1;32m     96\u001b[0m         \"\"\"\n\u001b[0;32m---> 97\u001b[0;31m         \u001b[0;32mreturn\u001b[0m \u001b[0mF\u001b[0m\u001b[0;34m.\u001b[0m\u001b[0mto_tensor\u001b[0m\u001b[0;34m(\u001b[0m\u001b[0mpic\u001b[0m\u001b[0;34m)\u001b[0m\u001b[0;34m\u001b[0m\u001b[0;34m\u001b[0m\u001b[0m\n\u001b[0m\u001b[1;32m     98\u001b[0m \u001b[0;34m\u001b[0m\u001b[0m\n\u001b[1;32m     99\u001b[0m     \u001b[0;32mdef\u001b[0m \u001b[0m__repr__\u001b[0m\u001b[0;34m(\u001b[0m\u001b[0mself\u001b[0m\u001b[0;34m)\u001b[0m\u001b[0;34m:\u001b[0m\u001b[0;34m\u001b[0m\u001b[0;34m\u001b[0m\u001b[0m\n",
      "\u001b[0;32m/opt/conda/lib/python3.7/site-packages/torchvision/transforms/functional.py\u001b[0m in \u001b[0;36mto_tensor\u001b[0;34m(pic)\u001b[0m\n\u001b[1;32m    136\u001b[0m     \u001b[0mimg\u001b[0m \u001b[0;34m=\u001b[0m \u001b[0mimg\u001b[0m\u001b[0;34m.\u001b[0m\u001b[0mpermute\u001b[0m\u001b[0;34m(\u001b[0m\u001b[0;34m(\u001b[0m\u001b[0;36m2\u001b[0m\u001b[0;34m,\u001b[0m \u001b[0;36m0\u001b[0m\u001b[0;34m,\u001b[0m \u001b[0;36m1\u001b[0m\u001b[0;34m)\u001b[0m\u001b[0;34m)\u001b[0m\u001b[0;34m.\u001b[0m\u001b[0mcontiguous\u001b[0m\u001b[0;34m(\u001b[0m\u001b[0;34m)\u001b[0m\u001b[0;34m\u001b[0m\u001b[0;34m\u001b[0m\u001b[0m\n\u001b[1;32m    137\u001b[0m     \u001b[0;32mif\u001b[0m \u001b[0misinstance\u001b[0m\u001b[0;34m(\u001b[0m\u001b[0mimg\u001b[0m\u001b[0;34m,\u001b[0m \u001b[0mtorch\u001b[0m\u001b[0;34m.\u001b[0m\u001b[0mByteTensor\u001b[0m\u001b[0;34m)\u001b[0m\u001b[0;34m:\u001b[0m\u001b[0;34m\u001b[0m\u001b[0;34m\u001b[0m\u001b[0m\n\u001b[0;32m--> 138\u001b[0;31m         \u001b[0;32mreturn\u001b[0m \u001b[0mimg\u001b[0m\u001b[0;34m.\u001b[0m\u001b[0mto\u001b[0m\u001b[0;34m(\u001b[0m\u001b[0mdtype\u001b[0m\u001b[0;34m=\u001b[0m\u001b[0mdefault_float_dtype\u001b[0m\u001b[0;34m)\u001b[0m\u001b[0;34m.\u001b[0m\u001b[0mdiv\u001b[0m\u001b[0;34m(\u001b[0m\u001b[0;36m255\u001b[0m\u001b[0;34m)\u001b[0m\u001b[0;34m\u001b[0m\u001b[0;34m\u001b[0m\u001b[0m\n\u001b[0m\u001b[1;32m    139\u001b[0m     \u001b[0;32melse\u001b[0m\u001b[0;34m:\u001b[0m\u001b[0;34m\u001b[0m\u001b[0;34m\u001b[0m\u001b[0m\n\u001b[1;32m    140\u001b[0m         \u001b[0;32mreturn\u001b[0m \u001b[0mimg\u001b[0m\u001b[0;34m\u001b[0m\u001b[0;34m\u001b[0m\u001b[0m\n",
      "\u001b[0;31mKeyboardInterrupt\u001b[0m: "
     ]
    }
   ],
   "source": [
    "fashion_classifier = CNN2D(img_shape[0], 4, 6, 12, 12, 10, no_labels)\n",
    "\n",
    "fashion_classifier.to(device)\n",
    "loss_fn = nn.CrossEntropyLoss()\n",
    "optimizer = optim.Adam(fashion_classifier.parameters(), lr = 0.1)\n",
    "\n",
    "fashion_classifier.train_model(device, train_dataloader, val_dataloader, 200, loss_fn, optimizer)"
   ]
  },
  {
   "cell_type": "code",
   "execution_count": 14,
   "id": "01e78cc4-e40a-4d61-b18d-af4b4fc58a4f",
   "metadata": {},
   "outputs": [
    {
     "data": {
      "text/plain": [
       "32"
      ]
     },
     "execution_count": 14,
     "metadata": {},
     "output_type": "execute_result"
    }
   ],
   "source": [
    "train_dataloader.__sizeof__()"
   ]
  },
  {
   "cell_type": "code",
   "execution_count": 8,
   "id": "e57ff41c-a14a-4a91-8835-09d3329dd0f2",
   "metadata": {},
   "outputs": [
    {
     "data": {
      "text/plain": [
       "10000"
      ]
     },
     "execution_count": 8,
     "metadata": {},
     "output_type": "execute_result"
    }
   ],
   "source": [
    "n_test"
   ]
  }
 ],
 "metadata": {
  "environment": {
   "kernel": "python3",
   "name": "pytorch-gpu.1-9.m82",
   "type": "gcloud",
   "uri": "gcr.io/deeplearning-platform-release/pytorch-gpu.1-9:m82"
  },
  "kernelspec": {
   "display_name": "Python 3",
   "language": "python",
   "name": "python3"
  },
  "language_info": {
   "codemirror_mode": {
    "name": "ipython",
    "version": 3
   },
   "file_extension": ".py",
   "mimetype": "text/x-python",
   "name": "python",
   "nbconvert_exporter": "python",
   "pygments_lexer": "ipython3",
   "version": "3.7.10"
  }
 },
 "nbformat": 4,
 "nbformat_minor": 5
}
