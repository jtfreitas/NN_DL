{
 "cells": [
  {
   "cell_type": "code",
   "execution_count": 1,
   "metadata": {},
   "outputs": [
    {
     "name": "stdout",
     "output_type": "stream",
     "text": [
      "Training device in use: cpu\n"
     ]
    },
    {
     "data": {
      "text/plain": [
       "<torch._C.Generator at 0x7f35bc05d9f0>"
      ]
     },
     "execution_count": 1,
     "metadata": {},
     "output_type": "execute_result"
    }
   ],
   "source": [
    "import os\n",
    "import pandas as pd\n",
    "import numpy as np\n",
    "import matplotlib.pyplot as plt\n",
    "from nn_tools import *\n",
    "from itertools import product as prod\n",
    "\n",
    "import torch\n",
    "from torch.utils.data import Dataset, DataLoader\n",
    "import torch.nn as nn\n",
    "import torch.nn.functional as F\n",
    "import torch.optim as optim\n",
    "\n",
    "from torch.utils.data.sampler import SubsetRandomSampler as rand_sampler\n",
    "#from torch.utils.data import WeightedRandomSampler as rand_sampler\n",
    "#from torch.utils.data import RandomSampler as rand_sampler\n",
    "from sklearn.model_selection import train_test_split\n",
    "from sklearn.metrics import accuracy_score\n",
    "from torchvision import transforms\n",
    "\n",
    "device = torch.device(\"cuda\") if torch.cuda.is_available() else torch.device(\"cpu\")\n",
    "print(f\"Training device in use: {device}\")\n",
    "\n",
    "seed = 69420\n",
    "\n",
    "torch.manual_seed(seed)"
   ]
  },
  {
   "cell_type": "code",
   "execution_count": 2,
   "metadata": {},
   "outputs": [
    {
     "name": "stdout",
     "output_type": "stream",
     "text": [
      "SAMPLE AT INDEX 125\n",
      "LABEL: 2\n"
     ]
    },
    {
     "data": {
      "image/png": "[encoded data removed]",
      "text/plain": [
       "<Figure size 144x144 with 1 Axes>"
      ]
     },
     "metadata": {
      "needs_background": "light"
     },
     "output_type": "display_data"
    }
   ],
   "source": [
    "from torchvision import datasets\n",
    "\n",
    "transform = transforms.Compose([\n",
    "        transforms.ToTensor(),\n",
    "        transforms.RandomInvert(p=0.5),\n",
    "        ]) \n",
    "\n",
    "train_dataset = datasets.FashionMNIST('classifier_data', train=True, download=True, transform = transform)\n",
    "test_dataset  = datasets.FashionMNIST('classifier_data', train=False, download=True, transform = transform)\n",
    "\n",
    "n_train = int(len(train_dataset))\n",
    "n_test = int(len(test_dataset))\n",
    "\n",
    "split_idx = int(0.75*n_train)\n",
    "train_samples = rand_sampler(list(range(n_train))[:split_idx])\n",
    "val_samples = rand_sampler(list(range(n_train))[split_idx:])\n",
    "\n",
    "train_dataloader = DataLoader(train_dataset, sampler = train_samples, batch_size = 300, num_workers = 0)\n",
    "val_dataloader = DataLoader(train_dataset, sampler = val_samples, batch_size = n_train - split_idx, num_workers = 0)\n",
    "\n",
    "test_dataloader = DataLoader(test_dataset, batch_size = None, shuffle = True, num_workers = 0)\n",
    "\n",
    "sample_index = 125\n",
    "image = train_dataset[sample_index][0].squeeze()\n",
    "label = train_dataset[sample_index][1]\n",
    "\n",
    "fig = plt.figure(figsize=(2,2))\n",
    "plt.imshow(image, cmap='Greys')\n",
    "print(f\"SAMPLE AT INDEX {sample_index}\")\n",
    "print(f\"LABEL: {label}\")\n",
    "\n",
    "img_shape = tuple(image.shape)\n",
    "no_labels = len(np.unique(train_dataset.targets))"
   ]
  },
  {
   "cell_type": "code",
   "execution_count": 3,
   "id": "cd4757e6-2545-430a-a5ef-7af299be0c1a",
   "metadata": {},
   "outputs": [],
   "source": [
    "class CNN2D(data_API):\n",
    "    \n",
    "    def __init__(self, device, in_side, conv1_filters, k_size1, conv2_filters, k_size2, Nd1, Nd2, N_labels):\n",
    "        \"\"\"\n",
    "        device - device used for computing\n",
    "        in_side - side length of the square images to classify\n",
    "        conv1_filters - no of filters in the first convolutional layer\n",
    "        k_size1 - kernel size of each filter in conv1\n",
    "        conv2_filters - no of filters in the second convolutional layer\n",
    "        k_size2 - kernel size of each filter in conv2\n",
    "        Nh1 - Neurons in the 2nd dense layer (first layer \n",
    "        Nh2 - Neurons in the 2nd hidden layer\n",
    "        No - Output size\n",
    "        \"\"\"\n",
    "        super().__init__(device)\n",
    "        super().train_model\n",
    "\n",
    "        self.conv_shape = self.no_params_conv(\n",
    "                self.no_params_conv(\n",
    "                    self.no_params_conv(self.no_params_conv(in_side, k_size1, 0, 1),2, 0, 1),\n",
    "                    2, 0, 1),\n",
    "                k_size2, 0, 1)\n",
    "        self.dropout = nn.Dropout(p = 0.4)\n",
    "        \n",
    "        self.model = nn.Sequential(\n",
    "            nn.Conv2d(1, conv1_filters, k_size1), nn.ReLU(),\n",
    "            nn.MaxPool2d(2, stride = 1),\n",
    "            nn.Conv2d(conv1_filters, conv2_filters, k_size2), nn.ReLU(),\n",
    "            nn.MaxPool2d(2, stride = 1),\n",
    "            nn.Flatten(),\n",
    "            nn.Linear(in_features=conv2_filters*self.conv_shape**2, out_features=Nd1), nn.ReLU(),\n",
    "            nn.Linear(in_features=Nd1, out_features=Nd2), nn.ReLU(),\n",
    "            nn.Linear(in_features=Nd2, out_features=N_labels)\n",
    "        )\n",
    "\n",
    "        print(\"Network initialized\")\n",
    "        \n",
    "    def forward(self, x, additional_out=False):\n",
    "        return self.model(x)\n",
    "\n",
    "    def no_params_conv(self, in_size, kernel, padding, stride):\n",
    "        \"\"\"\n",
    "        Finds no of parameters per channel after every convolution/pooling\n",
    "        \"\"\"\n",
    "        return int((in_size - kernel + 2*padding)/stride + 1)\n",
    "\n",
    "    def predict(self, dataloader):\n",
    "\n",
    "        n_samples = dataloader.__len__()\n",
    "        n_correct = 0\n",
    "\n",
    "        self.eval()\n",
    "        with torch.no_grad():\n",
    "            for data in dataloader:\n",
    "                x_sample = data[0].to(self.device)\n",
    "                label = data[1].to(self.device)\n",
    "                out = self(x_sample)\n",
    "                out = F.softmax(out, dim = 1)\n",
    "                if (((out[0] == out.max()).nonzero() == label).squeeze()).item() == True:\n",
    "                    n_correct += 1\n",
    "        return n_correct/n_samples"
   ]
  },
  {
   "cell_type": "code",
   "execution_count": 4,
   "metadata": {},
   "outputs": [
    {
     "name": "stdout",
     "output_type": "stream",
     "text": [
      "Network initialized\n"
     ]
    }
   ],
   "source": [
    "cnn = CNN2D(device, 28, 3, 6, 4, 3, 17, 16, no_labels)\n",
    "cnn.to(device)\n",
    "loss_fn = nn.CrossEntropyLoss()\n",
    "optimizer = optim.Adam(cnn.parameters(), lr = 0.001)"
   ]
  },
  {
   "cell_type": "code",
   "execution_count": 5,
   "metadata": {},
   "outputs": [
    {
     "name": "stdout",
     "output_type": "stream",
     "text": [
      "Epoch: 39 :::::::::: AVERAGE VAL LOSS: 0.43515\r"
     ]
    }
   ],
   "source": [
    "num_epochs = 40\n",
    "cnn.train_model(train_dataloader, num_epochs, loss_fn, optimizer, val_loader = val_dataloader)"
   ]
  },
  {
   "cell_type": "code",
   "execution_count": 6,
   "metadata": {},
   "outputs": [],
   "source": [
    "test_dataloader = DataLoader(test_dataset, batch_size = 1, shuffle = True, num_workers = 0)\n",
    "test_accuracy = cnn.predict(test_dataloader)"
   ]
  },
  {
   "cell_type": "code",
   "execution_count": 7,
   "metadata": {},
   "outputs": [
    {
     "name": "stdout",
     "output_type": "stream",
     "text": [
      "0.8424\n"
     ]
    }
   ],
   "source": [
    "print(test_accuracy)"
   ]
  },
  {
   "cell_type": "code",
   "execution_count": 210,
   "metadata": {},
   "outputs": [
    {
     "name": "stdout",
     "output_type": "stream",
     "text": [
      "0.7964\n"
     ]
    }
   ],
   "source": [
    "test_dataloader = DataLoader(test_dataset, batch_size = 1, shuffle = True, num_workers = 0)\n",
    "n_samples = test_dataloader.__len__()\n",
    "n_correct = 0\n",
    "with torch.no_grad():\n",
    "    for data in test_dataloader:\n",
    "        x_sample = data[0].to(device)\n",
    "        label = data[1].to(device)\n",
    "        out = cnn(x_sample)\n",
    "        out = F.softmax(out, dim = 1)\n",
    "        if (((out[0] == out.max()).nonzero() == label).squeeze()).item() == True:\n",
    "            n_correct += 1\n",
    "print(n_correct/n_samples)"
   ]
  },
  {
   "cell_type": "code",
   "execution_count": 161,
   "metadata": {},
   "outputs": [],
   "source": []
  },
  {
   "cell_type": "code",
   "execution_count": 177,
   "metadata": {},
   "outputs": [
    {
     "name": "stderr",
     "output_type": "stream",
     "text": [
      "/tmp/ipykernel_23663/2357033491.py:6: UserWarning: To copy construct from a tensor, it is recommended to use sourceTensor.clone().detach() or sourceTensor.clone().detach().requires_grad_(True), rather than torch.tensor(sourceTensor).\n",
      "  label = torch.tensor(data[1]).to(device)\n"
     ]
    },
    {
     "name": "stdout",
     "output_type": "stream",
     "text": [
      "tensor([[3.8726e-06, 1.7582e-16, 5.5562e-04, 2.0730e-08, 1.4725e-10, 9.0177e-07,\n",
      "         4.2678e-15, 9.7997e-01, 1.6776e-14, 1.9471e-02]])\n",
      "tensor(0.9800)\n",
      "\n"
     ]
    }
   ],
   "source": []
  },
  {
   "cell_type": "code",
   "execution_count": 179,
   "metadata": {},
   "outputs": [
    {
     "data": {
      "text/plain": [
       "0.7139"
      ]
     },
     "execution_count": 179,
     "metadata": {},
     "output_type": "execute_result"
    }
   ],
   "source": [
    "n_correct/n_samples"
   ]
  },
  {
   "cell_type": "code",
   "execution_count": 126,
   "metadata": {},
   "outputs": [
    {
     "name": "stdout",
     "output_type": "stream",
     "text": [
      "tensor([5])\n"
     ]
    },
    {
     "data": {
      "image/png": "[encoded data removed]",
      "text/plain": [
       "<Figure size 432x288 with 1 Axes>"
      ]
     },
     "metadata": {
      "needs_background": "light"
     },
     "output_type": "display_data"
    }
   ],
   "source": [
    "plt.imshow(-x_sample[0][0], cmap = 'gray')\n",
    "print(label)"
   ]
  },
  {
   "cell_type": "code",
   "execution_count": 175,
   "metadata": {},
   "outputs": [
    {
     "data": {
      "text/plain": [
       "True"
      ]
     },
     "execution_count": 175,
     "metadata": {},
     "output_type": "execute_result"
    }
   ],
   "source": [
    "(((out[0] == out.max()).nonzero() == label).squeeze()).item()"
   ]
  },
  {
   "cell_type": "code",
   "execution_count": 129,
   "id": "7b564aa6-3467-4d0d-8873-89861cc44143",
   "metadata": {},
   "outputs": [
    {
     "data": {
      "text/plain": [
       "<matplotlib.legend.Legend at 0x7fa7fc3f5190>"
      ]
     },
     "execution_count": 129,
     "metadata": {},
     "output_type": "execute_result"
    },
    {
     "data": {
      "image/png": "[encoded data removed]",
      "text/plain": [
       "<Figure size 432x288 with 1 Axes>"
      ]
     },
     "metadata": {
      "needs_background": "light"
     },
     "output_type": "display_data"
    }
   ],
   "source": [
    "plt.plot(range(num_epochs), cnn.val_loss_hist, label = 'val')\n",
    "plt.plot(range(num_epochs), cnn.train_loss_hist, label = 'train')\n",
    "plt.legend()"
   ]
  },
  {
   "cell_type": "code",
   "execution_count": 173,
   "metadata": {},
   "outputs": [
    {
     "name": "stdout",
     "output_type": "stream",
     "text": [
      "5\n"
     ]
    }
   ],
   "source": [
    "print((out[0] == out.max()).nonzero().item())"
   ]
  },
  {
   "cell_type": "code",
   "execution_count": 167,
   "metadata": {},
   "outputs": [
    {
     "data": {
      "text/plain": [
       "tensor([False,  True])"
      ]
     },
     "execution_count": 167,
     "metadata": {},
     "output_type": "execute_result"
    }
   ],
   "source": [
    "((out == out.max()).nonzero()== label).squeeze()"
   ]
  },
  {
   "cell_type": "code",
   "execution_count": 156,
   "metadata": {},
   "outputs": [
    {
     "data": {
      "text/plain": [
       "10000"
      ]
     },
     "execution_count": 156,
     "metadata": {},
     "output_type": "execute_result"
    }
   ],
   "source": [
    "test_dataloader.__len__()"
   ]
  },
  {
   "cell_type": "code",
   "execution_count": null,
   "metadata": {},
   "outputs": [],
   "source": []
  }
 ],
 "metadata": {
  "interpreter": {
   "hash": "92016245c2fa57252c2aca9702d43dd02bafc187d9932e5487d4c13f2db2f127"
  },
  "kernelspec": {
   "display_name": "Python 3.9.7 64-bit ('py39': conda)",
   "language": "python",
   "name": "python3"
  },
  "language_info": {
   "codemirror_mode": {
    "name": "ipython",
    "version": 3
   },
   "file_extension": ".py",
   "mimetype": "text/x-python",
   "name": "python",
   "nbconvert_exporter": "python",
   "pygments_lexer": "ipython3",
   "version": "3.9.7"
  },
  "orig_nbformat": 4
 },
 "nbformat": 4,
 "nbformat_minor": 2
}
